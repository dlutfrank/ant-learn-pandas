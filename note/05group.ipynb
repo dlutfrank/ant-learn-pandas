{
 "metadata": {
  "language_info": {
   "codemirror_mode": {
    "name": "ipython",
    "version": 3
   },
   "file_extension": ".py",
   "mimetype": "text/x-python",
   "name": "python",
   "nbconvert_exporter": "python",
   "pygments_lexer": "ipython3",
   "version": "3.6.8-final"
  },
  "orig_nbformat": 2,
  "kernelspec": {
   "name": "python3",
   "display_name": "Python 3"
  }
 },
 "nbformat": 4,
 "nbformat_minor": 2,
 "cells": [
  {
   "source": [
    "### 数据的整理\n",
    "1. groupby 和sql语句里的groupby相同"
   ],
   "cell_type": "markdown",
   "metadata": {}
  },
  {
   "cell_type": "code",
   "execution_count": 1,
   "metadata": {},
   "outputs": [],
   "source": [
    "import pandas as pd\n",
    "import numpy as np\n",
    "%matplotlib inline"
   ]
  },
  {
   "cell_type": "code",
   "execution_count": 7,
   "metadata": {},
   "outputs": [
    {
     "output_type": "execute_result",
     "data": {
      "text/plain": [
       "     A      B         C         D\n",
       "0  foo    one -1.020535  0.010534\n",
       "1  bar    one  0.225896 -1.324412\n",
       "2  foo    two  0.285903  0.379219\n",
       "3  bar  three  0.362259 -1.236021\n",
       "4  foo    two  0.687361 -2.003919\n",
       "5  bar    two  1.521162 -0.693212\n",
       "6  foo    one  1.491396  0.253644\n",
       "7  foo  three -1.586160  0.667157"
      ],
      "text/html": "<div>\n<style scoped>\n    .dataframe tbody tr th:only-of-type {\n        vertical-align: middle;\n    }\n\n    .dataframe tbody tr th {\n        vertical-align: top;\n    }\n\n    .dataframe thead th {\n        text-align: right;\n    }\n</style>\n<table border=\"1\" class=\"dataframe\">\n  <thead>\n    <tr style=\"text-align: right;\">\n      <th></th>\n      <th>A</th>\n      <th>B</th>\n      <th>C</th>\n      <th>D</th>\n    </tr>\n  </thead>\n  <tbody>\n    <tr>\n      <td>0</td>\n      <td>foo</td>\n      <td>one</td>\n      <td>-1.020535</td>\n      <td>0.010534</td>\n    </tr>\n    <tr>\n      <td>1</td>\n      <td>bar</td>\n      <td>one</td>\n      <td>0.225896</td>\n      <td>-1.324412</td>\n    </tr>\n    <tr>\n      <td>2</td>\n      <td>foo</td>\n      <td>two</td>\n      <td>0.285903</td>\n      <td>0.379219</td>\n    </tr>\n    <tr>\n      <td>3</td>\n      <td>bar</td>\n      <td>three</td>\n      <td>0.362259</td>\n      <td>-1.236021</td>\n    </tr>\n    <tr>\n      <td>4</td>\n      <td>foo</td>\n      <td>two</td>\n      <td>0.687361</td>\n      <td>-2.003919</td>\n    </tr>\n    <tr>\n      <td>5</td>\n      <td>bar</td>\n      <td>two</td>\n      <td>1.521162</td>\n      <td>-0.693212</td>\n    </tr>\n    <tr>\n      <td>6</td>\n      <td>foo</td>\n      <td>one</td>\n      <td>1.491396</td>\n      <td>0.253644</td>\n    </tr>\n    <tr>\n      <td>7</td>\n      <td>foo</td>\n      <td>three</td>\n      <td>-1.586160</td>\n      <td>0.667157</td>\n    </tr>\n  </tbody>\n</table>\n</div>"
     },
     "metadata": {},
     "execution_count": 7
    }
   ],
   "source": [
    "df = pd.DataFrame({'A': ['foo', 'bar', 'foo', 'bar', 'foo', 'bar', 'foo', 'foo'],\n",
    "                   'B': ['one', 'one', 'two', 'three', 'two', 'two', 'one', 'three'],\n",
    "                   'C': np.random.randn(8),\n",
    "                   'D': np.random.randn(8)})\n",
    "df"
   ]
  },
  {
   "cell_type": "code",
   "execution_count": 8,
   "metadata": {},
   "outputs": [
    {
     "output_type": "execute_result",
     "data": {
      "text/plain": [
       "            C         D\n",
       "A                      \n",
       "bar  1.521162 -1.324412\n",
       "foo  1.491396 -2.003919"
      ],
      "text/html": "<div>\n<style scoped>\n    .dataframe tbody tr th:only-of-type {\n        vertical-align: middle;\n    }\n\n    .dataframe tbody tr th {\n        vertical-align: top;\n    }\n\n    .dataframe thead th {\n        text-align: right;\n    }\n</style>\n<table border=\"1\" class=\"dataframe\">\n  <thead>\n    <tr style=\"text-align: right;\">\n      <th></th>\n      <th>C</th>\n      <th>D</th>\n    </tr>\n    <tr>\n      <th>A</th>\n      <th></th>\n      <th></th>\n    </tr>\n  </thead>\n  <tbody>\n    <tr>\n      <td>bar</td>\n      <td>1.521162</td>\n      <td>-1.324412</td>\n    </tr>\n    <tr>\n      <td>foo</td>\n      <td>1.491396</td>\n      <td>-2.003919</td>\n    </tr>\n  </tbody>\n</table>\n</div>"
     },
     "metadata": {},
     "execution_count": 8
    }
   ],
   "source": [
    "# 分组和在各列上应用不同函数\n",
    "df.groupby('A').agg({'C': max, 'D': min})"
   ]
  },
  {
   "cell_type": "code",
   "execution_count": 10,
   "metadata": {},
   "outputs": [
    {
     "output_type": "execute_result",
     "data": {
      "text/plain": [
       "       B         C         D\n",
       "A                           \n",
       "bar  two  1.521162 -0.693212\n",
       "foo  two  1.491396  0.667157"
      ],
      "text/html": "<div>\n<style scoped>\n    .dataframe tbody tr th:only-of-type {\n        vertical-align: middle;\n    }\n\n    .dataframe tbody tr th {\n        vertical-align: top;\n    }\n\n    .dataframe thead th {\n        text-align: right;\n    }\n</style>\n<table border=\"1\" class=\"dataframe\">\n  <thead>\n    <tr style=\"text-align: right;\">\n      <th></th>\n      <th>B</th>\n      <th>C</th>\n      <th>D</th>\n    </tr>\n    <tr>\n      <th>A</th>\n      <th></th>\n      <th></th>\n      <th></th>\n    </tr>\n  </thead>\n  <tbody>\n    <tr>\n      <td>bar</td>\n      <td>two</td>\n      <td>1.521162</td>\n      <td>-0.693212</td>\n    </tr>\n    <tr>\n      <td>foo</td>\n      <td>two</td>\n      <td>1.491396</td>\n      <td>0.667157</td>\n    </tr>\n  </tbody>\n</table>\n</div>"
     },
     "metadata": {},
     "execution_count": 10
    }
   ],
   "source": [
    "# 求分组后的最大值\n",
    "df.groupby('A').max()"
   ]
  },
  {
   "cell_type": "code",
   "execution_count": 25,
   "metadata": {},
   "outputs": [
    {
     "output_type": "execute_result",
     "data": {
      "text/plain": [
       "       B              C                   D          \n",
       "     max  min       max       min       max       min\n",
       "A                                                    \n",
       "bar  two  one  1.521162  0.225896 -0.693212 -1.324412\n",
       "foo  two  one  1.491396 -1.586160  0.667157 -2.003919"
      ],
      "text/html": "<div>\n<style scoped>\n    .dataframe tbody tr th:only-of-type {\n        vertical-align: middle;\n    }\n\n    .dataframe tbody tr th {\n        vertical-align: top;\n    }\n\n    .dataframe thead tr th {\n        text-align: left;\n    }\n\n    .dataframe thead tr:last-of-type th {\n        text-align: right;\n    }\n</style>\n<table border=\"1\" class=\"dataframe\">\n  <thead>\n    <tr>\n      <th></th>\n      <th colspan=\"2\" halign=\"left\">B</th>\n      <th colspan=\"2\" halign=\"left\">C</th>\n      <th colspan=\"2\" halign=\"left\">D</th>\n    </tr>\n    <tr>\n      <th></th>\n      <th>max</th>\n      <th>min</th>\n      <th>max</th>\n      <th>min</th>\n      <th>max</th>\n      <th>min</th>\n    </tr>\n    <tr>\n      <th>A</th>\n      <th></th>\n      <th></th>\n      <th></th>\n      <th></th>\n      <th></th>\n      <th></th>\n    </tr>\n  </thead>\n  <tbody>\n    <tr>\n      <td>bar</td>\n      <td>two</td>\n      <td>one</td>\n      <td>1.521162</td>\n      <td>0.225896</td>\n      <td>-0.693212</td>\n      <td>-1.324412</td>\n    </tr>\n    <tr>\n      <td>foo</td>\n      <td>two</td>\n      <td>one</td>\n      <td>1.491396</td>\n      <td>-1.586160</td>\n      <td>0.667157</td>\n      <td>-2.003919</td>\n    </tr>\n  </tbody>\n</table>\n</div>"
     },
     "metadata": {},
     "execution_count": 25
    }
   ],
   "source": [
    "df.groupby('A').agg([max, min])"
   ]
  },
  {
   "cell_type": "code",
   "execution_count": 14,
   "metadata": {},
   "outputs": [],
   "source": [
    "gp = df.groupby('A')"
   ]
  },
  {
   "cell_type": "code",
   "execution_count": 15,
   "metadata": {},
   "outputs": [
    {
     "output_type": "execute_result",
     "data": {
      "text/plain": [
       "<pandas.core.groupby.generic.DataFrameGroupBy object at 0x7fbfb3282630>"
      ]
     },
     "metadata": {},
     "execution_count": 15
    }
   ],
   "source": [
    "gp"
   ]
  },
  {
   "cell_type": "code",
   "execution_count": 23,
   "metadata": {},
   "outputs": [
    {
     "output_type": "execute_result",
     "data": {
      "text/plain": [
       "            C                             D                    \n",
       "          sum      mean       std       sum      mean       std\n",
       "A                                                              \n",
       "bar  2.109318  0.703106  0.711731 -3.253645 -1.084548  0.341777\n",
       "foo -0.142034 -0.028407  1.258156 -0.693364 -0.138673  1.069216"
      ],
      "text/html": "<div>\n<style scoped>\n    .dataframe tbody tr th:only-of-type {\n        vertical-align: middle;\n    }\n\n    .dataframe tbody tr th {\n        vertical-align: top;\n    }\n\n    .dataframe thead tr th {\n        text-align: left;\n    }\n\n    .dataframe thead tr:last-of-type th {\n        text-align: right;\n    }\n</style>\n<table border=\"1\" class=\"dataframe\">\n  <thead>\n    <tr>\n      <th></th>\n      <th colspan=\"3\" halign=\"left\">C</th>\n      <th colspan=\"3\" halign=\"left\">D</th>\n    </tr>\n    <tr>\n      <th></th>\n      <th>sum</th>\n      <th>mean</th>\n      <th>std</th>\n      <th>sum</th>\n      <th>mean</th>\n      <th>std</th>\n    </tr>\n    <tr>\n      <th>A</th>\n      <th></th>\n      <th></th>\n      <th></th>\n      <th></th>\n      <th></th>\n      <th></th>\n    </tr>\n  </thead>\n  <tbody>\n    <tr>\n      <td>bar</td>\n      <td>2.109318</td>\n      <td>0.703106</td>\n      <td>0.711731</td>\n      <td>-3.253645</td>\n      <td>-1.084548</td>\n      <td>0.341777</td>\n    </tr>\n    <tr>\n      <td>foo</td>\n      <td>-0.142034</td>\n      <td>-0.028407</td>\n      <td>1.258156</td>\n      <td>-0.693364</td>\n      <td>-0.138673</td>\n      <td>1.069216</td>\n    </tr>\n  </tbody>\n</table>\n</div>"
     },
     "metadata": {},
     "execution_count": 23
    }
   ],
   "source": [
    "# 对group结果应用多个函数\n",
    "gp.agg([np.sum, np.mean, np.std])"
   ]
  },
  {
   "cell_type": "code",
   "execution_count": 26,
   "metadata": {},
   "outputs": [
    {
     "output_type": "execute_result",
     "data": {
      "text/plain": [
       "          sum      mean       std\n",
       "A                                \n",
       "bar  2.109318  0.703106  0.711731\n",
       "foo -0.142034 -0.028407  1.258156"
      ],
      "text/html": "<div>\n<style scoped>\n    .dataframe tbody tr th:only-of-type {\n        vertical-align: middle;\n    }\n\n    .dataframe tbody tr th {\n        vertical-align: top;\n    }\n\n    .dataframe thead th {\n        text-align: right;\n    }\n</style>\n<table border=\"1\" class=\"dataframe\">\n  <thead>\n    <tr style=\"text-align: right;\">\n      <th></th>\n      <th>sum</th>\n      <th>mean</th>\n      <th>std</th>\n    </tr>\n    <tr>\n      <th>A</th>\n      <th></th>\n      <th></th>\n      <th></th>\n    </tr>\n  </thead>\n  <tbody>\n    <tr>\n      <td>bar</td>\n      <td>2.109318</td>\n      <td>0.703106</td>\n      <td>0.711731</td>\n    </tr>\n    <tr>\n      <td>foo</td>\n      <td>-0.142034</td>\n      <td>-0.028407</td>\n      <td>1.258156</td>\n    </tr>\n  </tbody>\n</table>\n</div>"
     },
     "metadata": {},
     "execution_count": 26
    }
   ],
   "source": [
    "# 对单个列进行计算\n",
    "df.groupby('A')['C'].agg([np.sum, np.mean, np.std])"
   ]
  },
  {
   "cell_type": "code",
   "execution_count": 29,
   "metadata": {},
   "outputs": [
    {
     "output_type": "execute_result",
     "data": {
      "text/plain": [
       "                  C         D\n",
       "A   B                        \n",
       "bar one    0.225896 -1.324412\n",
       "    three  0.362259 -1.236021\n",
       "    two    1.521162 -0.693212\n",
       "foo one    0.235431  0.132089\n",
       "    three -1.586160  0.667157\n",
       "    two    0.486632 -0.812350"
      ],
      "text/html": "<div>\n<style scoped>\n    .dataframe tbody tr th:only-of-type {\n        vertical-align: middle;\n    }\n\n    .dataframe tbody tr th {\n        vertical-align: top;\n    }\n\n    .dataframe thead th {\n        text-align: right;\n    }\n</style>\n<table border=\"1\" class=\"dataframe\">\n  <thead>\n    <tr style=\"text-align: right;\">\n      <th></th>\n      <th></th>\n      <th>C</th>\n      <th>D</th>\n    </tr>\n    <tr>\n      <th>A</th>\n      <th>B</th>\n      <th></th>\n      <th></th>\n    </tr>\n  </thead>\n  <tbody>\n    <tr>\n      <td rowspan=\"3\" valign=\"top\">bar</td>\n      <td>one</td>\n      <td>0.225896</td>\n      <td>-1.324412</td>\n    </tr>\n    <tr>\n      <td>three</td>\n      <td>0.362259</td>\n      <td>-1.236021</td>\n    </tr>\n    <tr>\n      <td>two</td>\n      <td>1.521162</td>\n      <td>-0.693212</td>\n    </tr>\n    <tr>\n      <td rowspan=\"3\" valign=\"top\">foo</td>\n      <td>one</td>\n      <td>0.235431</td>\n      <td>0.132089</td>\n    </tr>\n    <tr>\n      <td>three</td>\n      <td>-1.586160</td>\n      <td>0.667157</td>\n    </tr>\n    <tr>\n      <td>two</td>\n      <td>0.486632</td>\n      <td>-0.812350</td>\n    </tr>\n  </tbody>\n</table>\n</div>"
     },
     "metadata": {},
     "execution_count": 29
    }
   ],
   "source": [
    "# 多列数据进行分组\n",
    "df.groupby(['A','B']).mean()"
   ]
  },
  {
   "source": [
    "#### 遍历groupby的结果"
   ],
   "cell_type": "markdown",
   "metadata": {}
  },
  {
   "cell_type": "code",
   "execution_count": 31,
   "metadata": {},
   "outputs": [
    {
     "output_type": "stream",
     "name": "stdout",
     "text": [
      "bar\n     A      B         C         D\n1  bar    one  0.225896 -1.324412\n3  bar  three  0.362259 -1.236021\n5  bar    two  1.521162 -0.693212\nfoo\n     A      B         C         D\n0  foo    one -1.020535  0.010534\n2  foo    two  0.285903  0.379219\n4  foo    two  0.687361 -2.003919\n6  foo    one  1.491396  0.253644\n7  foo  three -1.586160  0.667157\n"
     ]
    }
   ],
   "source": [
    "for name, group in df.groupby('A'):\n",
    "    print(name)\n",
    "    print(group)"
   ]
  },
  {
   "cell_type": "code",
   "execution_count": 34,
   "metadata": {},
   "outputs": [
    {
     "output_type": "stream",
     "name": "stdout",
     "text": [
      "('bar', 'one')\n     A    B         C         D\n1  bar  one  0.225896 -1.324412\n\n\n('bar', 'three')\n     A      B         C         D\n3  bar  three  0.362259 -1.236021\n\n\n('bar', 'two')\n     A    B         C         D\n5  bar  two  1.521162 -0.693212\n\n\n('foo', 'one')\n     A    B         C         D\n0  foo  one -1.020535  0.010534\n6  foo  one  1.491396  0.253644\n\n\n('foo', 'three')\n     A      B        C         D\n7  foo  three -1.58616  0.667157\n\n\n('foo', 'two')\n     A    B         C         D\n2  foo  two  0.285903  0.379219\n4  foo  two  0.687361 -2.003919\n\n\n"
     ]
    }
   ],
   "source": [
    "for name, group in df.groupby(['A','B']):\n",
    "    print(name)\n",
    "    print(group)\n",
    "    print('\\n')"
   ]
  },
  {
   "cell_type": "code",
   "execution_count": 36,
   "metadata": {},
   "outputs": [
    {
     "output_type": "execute_result",
     "data": {
      "text/plain": [
       "     A    B         C         D\n",
       "2  foo  two  0.285903  0.379219\n",
       "4  foo  two  0.687361 -2.003919"
      ],
      "text/html": "<div>\n<style scoped>\n    .dataframe tbody tr th:only-of-type {\n        vertical-align: middle;\n    }\n\n    .dataframe tbody tr th {\n        vertical-align: top;\n    }\n\n    .dataframe thead th {\n        text-align: right;\n    }\n</style>\n<table border=\"1\" class=\"dataframe\">\n  <thead>\n    <tr style=\"text-align: right;\">\n      <th></th>\n      <th>A</th>\n      <th>B</th>\n      <th>C</th>\n      <th>D</th>\n    </tr>\n  </thead>\n  <tbody>\n    <tr>\n      <td>2</td>\n      <td>foo</td>\n      <td>two</td>\n      <td>0.285903</td>\n      <td>0.379219</td>\n    </tr>\n    <tr>\n      <td>4</td>\n      <td>foo</td>\n      <td>two</td>\n      <td>0.687361</td>\n      <td>-2.003919</td>\n    </tr>\n  </tbody>\n</table>\n</div>"
     },
     "metadata": {},
     "execution_count": 36
    }
   ],
   "source": [
    "gp = df.groupby(['A','B'])\n",
    "gp.get_group(('foo','two'))"
   ]
  },
  {
   "cell_type": "code",
   "execution_count": 41,
   "metadata": {},
   "outputs": [
    {
     "output_type": "execute_result",
     "data": {
      "text/plain": [
       "          C         D\n",
       "0 -1.020535  0.010534\n",
       "6  1.491396  0.253644"
      ],
      "text/html": "<div>\n<style scoped>\n    .dataframe tbody tr th:only-of-type {\n        vertical-align: middle;\n    }\n\n    .dataframe tbody tr th {\n        vertical-align: top;\n    }\n\n    .dataframe thead th {\n        text-align: right;\n    }\n</style>\n<table border=\"1\" class=\"dataframe\">\n  <thead>\n    <tr style=\"text-align: right;\">\n      <th></th>\n      <th>C</th>\n      <th>D</th>\n    </tr>\n  </thead>\n  <tbody>\n    <tr>\n      <td>0</td>\n      <td>-1.020535</td>\n      <td>0.010534</td>\n    </tr>\n    <tr>\n      <td>6</td>\n      <td>1.491396</td>\n      <td>0.253644</td>\n    </tr>\n  </tbody>\n</table>\n</div>"
     },
     "metadata": {},
     "execution_count": 41
    }
   ],
   "source": [
    "# gp.get_group(('foo',))\n",
    "gp.get_group(('foo','one'))"
   ]
  },
  {
   "source": [
    "+ 查看每个月的最高温度、最低温度、平均空气质量指数"
   ],
   "cell_type": "markdown",
   "metadata": {}
  },
  {
   "cell_type": "code",
   "execution_count": 44,
   "metadata": {},
   "outputs": [
    {
     "output_type": "execute_result",
     "data": {
      "text/plain": [
       "          ymd bWendu yWendu tianqi fengxiang fengli  aqi aqiInfo  aqiLevel\n",
       "0  2018-01-01     3℃    -6℃   晴~多云       东北风   1-2级   59       良         2\n",
       "1  2018-01-02     2℃    -5℃   阴~多云       东北风   1-2级   49       优         1\n",
       "2  2018-01-03     2℃    -5℃     多云        北风   1-2级   28       优         1\n",
       "3  2018-01-04     0℃    -8℃      阴       东北风   1-2级   28       优         1\n",
       "4  2018-01-05     3℃    -6℃   多云~晴       西北风   1-2级   50       优         1"
      ],
      "text/html": "<div>\n<style scoped>\n    .dataframe tbody tr th:only-of-type {\n        vertical-align: middle;\n    }\n\n    .dataframe tbody tr th {\n        vertical-align: top;\n    }\n\n    .dataframe thead th {\n        text-align: right;\n    }\n</style>\n<table border=\"1\" class=\"dataframe\">\n  <thead>\n    <tr style=\"text-align: right;\">\n      <th></th>\n      <th>ymd</th>\n      <th>bWendu</th>\n      <th>yWendu</th>\n      <th>tianqi</th>\n      <th>fengxiang</th>\n      <th>fengli</th>\n      <th>aqi</th>\n      <th>aqiInfo</th>\n      <th>aqiLevel</th>\n    </tr>\n  </thead>\n  <tbody>\n    <tr>\n      <td>0</td>\n      <td>2018-01-01</td>\n      <td>3℃</td>\n      <td>-6℃</td>\n      <td>晴~多云</td>\n      <td>东北风</td>\n      <td>1-2级</td>\n      <td>59</td>\n      <td>良</td>\n      <td>2</td>\n    </tr>\n    <tr>\n      <td>1</td>\n      <td>2018-01-02</td>\n      <td>2℃</td>\n      <td>-5℃</td>\n      <td>阴~多云</td>\n      <td>东北风</td>\n      <td>1-2级</td>\n      <td>49</td>\n      <td>优</td>\n      <td>1</td>\n    </tr>\n    <tr>\n      <td>2</td>\n      <td>2018-01-03</td>\n      <td>2℃</td>\n      <td>-5℃</td>\n      <td>多云</td>\n      <td>北风</td>\n      <td>1-2级</td>\n      <td>28</td>\n      <td>优</td>\n      <td>1</td>\n    </tr>\n    <tr>\n      <td>3</td>\n      <td>2018-01-04</td>\n      <td>0℃</td>\n      <td>-8℃</td>\n      <td>阴</td>\n      <td>东北风</td>\n      <td>1-2级</td>\n      <td>28</td>\n      <td>优</td>\n      <td>1</td>\n    </tr>\n    <tr>\n      <td>4</td>\n      <td>2018-01-05</td>\n      <td>3℃</td>\n      <td>-6℃</td>\n      <td>多云~晴</td>\n      <td>西北风</td>\n      <td>1-2级</td>\n      <td>50</td>\n      <td>优</td>\n      <td>1</td>\n    </tr>\n  </tbody>\n</table>\n</div>"
     },
     "metadata": {},
     "execution_count": 44
    }
   ],
   "source": [
    "fpath = \"../datas/beijing_tianqi/beijing_tianqi_2018.csv\"\n",
    "df = pd.read_csv(fpath)\n",
    "df.head()"
   ]
  },
  {
   "cell_type": "code",
   "execution_count": 45,
   "metadata": {},
   "outputs": [
    {
     "output_type": "execute_result",
     "data": {
      "text/plain": [
       "          ymd bWendu yWendu tianqi fengxiang fengli  aqi aqiInfo  aqiLevel  \\\n",
       "0  2018-01-01     3℃    -6℃   晴~多云       东北风   1-2级   59       良         2   \n",
       "1  2018-01-02     2℃    -5℃   阴~多云       东北风   1-2级   49       优         1   \n",
       "2  2018-01-03     2℃    -5℃     多云        北风   1-2级   28       优         1   \n",
       "3  2018-01-04     0℃    -8℃      阴       东北风   1-2级   28       优         1   \n",
       "4  2018-01-05     3℃    -6℃   多云~晴       西北风   1-2级   50       优         1   \n",
       "\n",
       "   hw  lw  \n",
       "0   3  -6  \n",
       "1   2  -5  \n",
       "2   2  -5  \n",
       "3   0  -8  \n",
       "4   3  -6  "
      ],
      "text/html": "<div>\n<style scoped>\n    .dataframe tbody tr th:only-of-type {\n        vertical-align: middle;\n    }\n\n    .dataframe tbody tr th {\n        vertical-align: top;\n    }\n\n    .dataframe thead th {\n        text-align: right;\n    }\n</style>\n<table border=\"1\" class=\"dataframe\">\n  <thead>\n    <tr style=\"text-align: right;\">\n      <th></th>\n      <th>ymd</th>\n      <th>bWendu</th>\n      <th>yWendu</th>\n      <th>tianqi</th>\n      <th>fengxiang</th>\n      <th>fengli</th>\n      <th>aqi</th>\n      <th>aqiInfo</th>\n      <th>aqiLevel</th>\n      <th>hw</th>\n      <th>lw</th>\n    </tr>\n  </thead>\n  <tbody>\n    <tr>\n      <td>0</td>\n      <td>2018-01-01</td>\n      <td>3℃</td>\n      <td>-6℃</td>\n      <td>晴~多云</td>\n      <td>东北风</td>\n      <td>1-2级</td>\n      <td>59</td>\n      <td>良</td>\n      <td>2</td>\n      <td>3</td>\n      <td>-6</td>\n    </tr>\n    <tr>\n      <td>1</td>\n      <td>2018-01-02</td>\n      <td>2℃</td>\n      <td>-5℃</td>\n      <td>阴~多云</td>\n      <td>东北风</td>\n      <td>1-2级</td>\n      <td>49</td>\n      <td>优</td>\n      <td>1</td>\n      <td>2</td>\n      <td>-5</td>\n    </tr>\n    <tr>\n      <td>2</td>\n      <td>2018-01-03</td>\n      <td>2℃</td>\n      <td>-5℃</td>\n      <td>多云</td>\n      <td>北风</td>\n      <td>1-2级</td>\n      <td>28</td>\n      <td>优</td>\n      <td>1</td>\n      <td>2</td>\n      <td>-5</td>\n    </tr>\n    <tr>\n      <td>3</td>\n      <td>2018-01-04</td>\n      <td>0℃</td>\n      <td>-8℃</td>\n      <td>阴</td>\n      <td>东北风</td>\n      <td>1-2级</td>\n      <td>28</td>\n      <td>优</td>\n      <td>1</td>\n      <td>0</td>\n      <td>-8</td>\n    </tr>\n    <tr>\n      <td>4</td>\n      <td>2018-01-05</td>\n      <td>3℃</td>\n      <td>-6℃</td>\n      <td>多云~晴</td>\n      <td>西北风</td>\n      <td>1-2级</td>\n      <td>50</td>\n      <td>优</td>\n      <td>1</td>\n      <td>3</td>\n      <td>-6</td>\n    </tr>\n  </tbody>\n</table>\n</div>"
     },
     "metadata": {},
     "execution_count": 45
    }
   ],
   "source": [
    "df['hw'] = df['bWendu'].str.replace('℃','').astype('int32')\n",
    "df['lw'] = df['yWendu'].str.replace('℃','').astype('int32')\n",
    "df.head()"
   ]
  },
  {
   "cell_type": "code",
   "execution_count": 48,
   "metadata": {},
   "outputs": [
    {
     "output_type": "execute_result",
     "data": {
      "text/plain": [
       "                   ymd bWendu yWendu tianqi fengxiang fengli  aqi aqiInfo  \\\n",
       "ymd                                                                         \n",
       "2018-01-01  2018-01-01     3℃    -6℃   晴~多云       东北风   1-2级   59       良   \n",
       "2018-01-02  2018-01-02     2℃    -5℃   阴~多云       东北风   1-2级   49       优   \n",
       "2018-01-03  2018-01-03     2℃    -5℃     多云        北风   1-2级   28       优   \n",
       "2018-01-04  2018-01-04     0℃    -8℃      阴       东北风   1-2级   28       优   \n",
       "2018-01-05  2018-01-05     3℃    -6℃   多云~晴       西北风   1-2级   50       优   \n",
       "\n",
       "            aqiLevel  hw  lw  \n",
       "ymd                           \n",
       "2018-01-01         2   3  -6  \n",
       "2018-01-02         1   2  -5  \n",
       "2018-01-03         1   2  -5  \n",
       "2018-01-04         1   0  -8  \n",
       "2018-01-05         1   3  -6  "
      ],
      "text/html": "<div>\n<style scoped>\n    .dataframe tbody tr th:only-of-type {\n        vertical-align: middle;\n    }\n\n    .dataframe tbody tr th {\n        vertical-align: top;\n    }\n\n    .dataframe thead th {\n        text-align: right;\n    }\n</style>\n<table border=\"1\" class=\"dataframe\">\n  <thead>\n    <tr style=\"text-align: right;\">\n      <th></th>\n      <th>ymd</th>\n      <th>bWendu</th>\n      <th>yWendu</th>\n      <th>tianqi</th>\n      <th>fengxiang</th>\n      <th>fengli</th>\n      <th>aqi</th>\n      <th>aqiInfo</th>\n      <th>aqiLevel</th>\n      <th>hw</th>\n      <th>lw</th>\n    </tr>\n    <tr>\n      <th>ymd</th>\n      <th></th>\n      <th></th>\n      <th></th>\n      <th></th>\n      <th></th>\n      <th></th>\n      <th></th>\n      <th></th>\n      <th></th>\n      <th></th>\n      <th></th>\n    </tr>\n  </thead>\n  <tbody>\n    <tr>\n      <td>2018-01-01</td>\n      <td>2018-01-01</td>\n      <td>3℃</td>\n      <td>-6℃</td>\n      <td>晴~多云</td>\n      <td>东北风</td>\n      <td>1-2级</td>\n      <td>59</td>\n      <td>良</td>\n      <td>2</td>\n      <td>3</td>\n      <td>-6</td>\n    </tr>\n    <tr>\n      <td>2018-01-02</td>\n      <td>2018-01-02</td>\n      <td>2℃</td>\n      <td>-5℃</td>\n      <td>阴~多云</td>\n      <td>东北风</td>\n      <td>1-2级</td>\n      <td>49</td>\n      <td>优</td>\n      <td>1</td>\n      <td>2</td>\n      <td>-5</td>\n    </tr>\n    <tr>\n      <td>2018-01-03</td>\n      <td>2018-01-03</td>\n      <td>2℃</td>\n      <td>-5℃</td>\n      <td>多云</td>\n      <td>北风</td>\n      <td>1-2级</td>\n      <td>28</td>\n      <td>优</td>\n      <td>1</td>\n      <td>2</td>\n      <td>-5</td>\n    </tr>\n    <tr>\n      <td>2018-01-04</td>\n      <td>2018-01-04</td>\n      <td>0℃</td>\n      <td>-8℃</td>\n      <td>阴</td>\n      <td>东北风</td>\n      <td>1-2级</td>\n      <td>28</td>\n      <td>优</td>\n      <td>1</td>\n      <td>0</td>\n      <td>-8</td>\n    </tr>\n    <tr>\n      <td>2018-01-05</td>\n      <td>2018-01-05</td>\n      <td>3℃</td>\n      <td>-6℃</td>\n      <td>多云~晴</td>\n      <td>西北风</td>\n      <td>1-2级</td>\n      <td>50</td>\n      <td>优</td>\n      <td>1</td>\n      <td>3</td>\n      <td>-6</td>\n    </tr>\n  </tbody>\n</table>\n</div>"
     },
     "metadata": {},
     "execution_count": 48
    }
   ],
   "source": [
    "df.set_index(pd.to_datetime(df['ymd']), inplace=True)\n",
    "df.head()"
   ]
  },
  {
   "cell_type": "code",
   "execution_count": 50,
   "metadata": {},
   "outputs": [
    {
     "output_type": "execute_result",
     "data": {
      "text/plain": [
       "Int64Index([ 1,  1,  1,  1,  1,  1,  1,  1,  1,  1,\n",
       "            ...\n",
       "            12, 12, 12, 12, 12, 12, 12, 12, 12, 12],\n",
       "           dtype='int64', name='ymd', length=365)"
      ]
     },
     "metadata": {},
     "execution_count": 50
    }
   ],
   "source": [
    "df.index.month"
   ]
  },
  {
   "cell_type": "code",
   "execution_count": 52,
   "metadata": {},
   "outputs": [],
   "source": [
    "# 查询每个月最高温度\n",
    "data = df.groupby(df.index.month)['hw'].max()"
   ]
  },
  {
   "cell_type": "code",
   "execution_count": 53,
   "metadata": {},
   "outputs": [
    {
     "output_type": "execute_result",
     "data": {
      "text/plain": [
       "<matplotlib.axes._subplots.AxesSubplot at 0x7fbfb64f2940>"
      ]
     },
     "metadata": {},
     "execution_count": 53
    },
    {
     "output_type": "display_data",
     "data": {
      "text/plain": "<Figure size 432x288 with 1 Axes>",
      "image/svg+xml": "<?xml version=\"1.0\" encoding=\"utf-8\" standalone=\"no\"?>\n<!DOCTYPE svg PUBLIC \"-//W3C//DTD SVG 1.1//EN\"\n  \"http://www.w3.org/Graphics/SVG/1.1/DTD/svg11.dtd\">\n<!-- Created with matplotlib (https://matplotlib.org/) -->\n<svg height=\"262.19625pt\" version=\"1.1\" viewBox=\"0 0 375.2875 262.19625\" width=\"375.2875pt\" xmlns=\"http://www.w3.org/2000/svg\" xmlns:xlink=\"http://www.w3.org/1999/xlink\">\n <defs>\n  <style type=\"text/css\">\n*{stroke-linecap:butt;stroke-linejoin:round;}\n  </style>\n </defs>\n <g id=\"figure_1\">\n  <g id=\"patch_1\">\n   <path d=\"M -0 262.19625 \nL 375.2875 262.19625 \nL 375.2875 0 \nL -0 0 \nz\n\" style=\"fill:none;\"/>\n  </g>\n  <g id=\"axes_1\">\n   <g id=\"patch_2\">\n    <path d=\"M 26.925 224.64 \nL 361.725 224.64 \nL 361.725 7.2 \nL 26.925 7.2 \nz\n\" style=\"fill:#ffffff;\"/>\n   </g>\n   <g id=\"matplotlib.axis_1\">\n    <g id=\"xtick_1\">\n     <g id=\"line2d_1\">\n      <defs>\n       <path d=\"M 0 0 \nL 0 3.5 \n\" id=\"m7d58a8a0ca\" style=\"stroke:#000000;stroke-width:0.8;\"/>\n      </defs>\n      <g>\n       <use style=\"stroke:#000000;stroke-width:0.8;\" x=\"57.361364\" xlink:href=\"#m7d58a8a0ca\" y=\"224.64\"/>\n      </g>\n     </g>\n     <g id=\"text_1\">\n      <!-- 2 -->\n      <defs>\n       <path d=\"M 19.1875 8.296875 \nL 53.609375 8.296875 \nL 53.609375 0 \nL 7.328125 0 \nL 7.328125 8.296875 \nQ 12.9375 14.109375 22.625 23.890625 \nQ 32.328125 33.6875 34.8125 36.53125 \nQ 39.546875 41.84375 41.421875 45.53125 \nQ 43.3125 49.21875 43.3125 52.78125 \nQ 43.3125 58.59375 39.234375 62.25 \nQ 35.15625 65.921875 28.609375 65.921875 \nQ 23.96875 65.921875 18.8125 64.3125 \nQ 13.671875 62.703125 7.8125 59.421875 \nL 7.8125 69.390625 \nQ 13.765625 71.78125 18.9375 73 \nQ 24.125 74.21875 28.421875 74.21875 \nQ 39.75 74.21875 46.484375 68.546875 \nQ 53.21875 62.890625 53.21875 53.421875 \nQ 53.21875 48.921875 51.53125 44.890625 \nQ 49.859375 40.875 45.40625 35.40625 \nQ 44.1875 33.984375 37.640625 27.21875 \nQ 31.109375 20.453125 19.1875 8.296875 \nz\n\" id=\"DejaVuSans-50\"/>\n      </defs>\n      <g transform=\"translate(54.180114 239.238438)scale(0.1 -0.1)\">\n       <use xlink:href=\"#DejaVuSans-50\"/>\n      </g>\n     </g>\n    </g>\n    <g id=\"xtick_2\">\n     <g id=\"line2d_2\">\n      <g>\n       <use style=\"stroke:#000000;stroke-width:0.8;\" x=\"118.234091\" xlink:href=\"#m7d58a8a0ca\" y=\"224.64\"/>\n      </g>\n     </g>\n     <g id=\"text_2\">\n      <!-- 4 -->\n      <defs>\n       <path d=\"M 37.796875 64.3125 \nL 12.890625 25.390625 \nL 37.796875 25.390625 \nz\nM 35.203125 72.90625 \nL 47.609375 72.90625 \nL 47.609375 25.390625 \nL 58.015625 25.390625 \nL 58.015625 17.1875 \nL 47.609375 17.1875 \nL 47.609375 0 \nL 37.796875 0 \nL 37.796875 17.1875 \nL 4.890625 17.1875 \nL 4.890625 26.703125 \nz\n\" id=\"DejaVuSans-52\"/>\n      </defs>\n      <g transform=\"translate(115.052841 239.238438)scale(0.1 -0.1)\">\n       <use xlink:href=\"#DejaVuSans-52\"/>\n      </g>\n     </g>\n    </g>\n    <g id=\"xtick_3\">\n     <g id=\"line2d_3\">\n      <g>\n       <use style=\"stroke:#000000;stroke-width:0.8;\" x=\"179.106818\" xlink:href=\"#m7d58a8a0ca\" y=\"224.64\"/>\n      </g>\n     </g>\n     <g id=\"text_3\">\n      <!-- 6 -->\n      <defs>\n       <path d=\"M 33.015625 40.375 \nQ 26.375 40.375 22.484375 35.828125 \nQ 18.609375 31.296875 18.609375 23.390625 \nQ 18.609375 15.53125 22.484375 10.953125 \nQ 26.375 6.390625 33.015625 6.390625 \nQ 39.65625 6.390625 43.53125 10.953125 \nQ 47.40625 15.53125 47.40625 23.390625 \nQ 47.40625 31.296875 43.53125 35.828125 \nQ 39.65625 40.375 33.015625 40.375 \nz\nM 52.59375 71.296875 \nL 52.59375 62.3125 \nQ 48.875 64.0625 45.09375 64.984375 \nQ 41.3125 65.921875 37.59375 65.921875 \nQ 27.828125 65.921875 22.671875 59.328125 \nQ 17.53125 52.734375 16.796875 39.40625 \nQ 19.671875 43.65625 24.015625 45.921875 \nQ 28.375 48.1875 33.59375 48.1875 \nQ 44.578125 48.1875 50.953125 41.515625 \nQ 57.328125 34.859375 57.328125 23.390625 \nQ 57.328125 12.15625 50.6875 5.359375 \nQ 44.046875 -1.421875 33.015625 -1.421875 \nQ 20.359375 -1.421875 13.671875 8.265625 \nQ 6.984375 17.96875 6.984375 36.375 \nQ 6.984375 53.65625 15.1875 63.9375 \nQ 23.390625 74.21875 37.203125 74.21875 \nQ 40.921875 74.21875 44.703125 73.484375 \nQ 48.484375 72.75 52.59375 71.296875 \nz\n\" id=\"DejaVuSans-54\"/>\n      </defs>\n      <g transform=\"translate(175.925568 239.238438)scale(0.1 -0.1)\">\n       <use xlink:href=\"#DejaVuSans-54\"/>\n      </g>\n     </g>\n    </g>\n    <g id=\"xtick_4\">\n     <g id=\"line2d_4\">\n      <g>\n       <use style=\"stroke:#000000;stroke-width:0.8;\" x=\"239.979545\" xlink:href=\"#m7d58a8a0ca\" y=\"224.64\"/>\n      </g>\n     </g>\n     <g id=\"text_4\">\n      <!-- 8 -->\n      <defs>\n       <path d=\"M 31.78125 34.625 \nQ 24.75 34.625 20.71875 30.859375 \nQ 16.703125 27.09375 16.703125 20.515625 \nQ 16.703125 13.921875 20.71875 10.15625 \nQ 24.75 6.390625 31.78125 6.390625 \nQ 38.8125 6.390625 42.859375 10.171875 \nQ 46.921875 13.96875 46.921875 20.515625 \nQ 46.921875 27.09375 42.890625 30.859375 \nQ 38.875 34.625 31.78125 34.625 \nz\nM 21.921875 38.8125 \nQ 15.578125 40.375 12.03125 44.71875 \nQ 8.5 49.078125 8.5 55.328125 \nQ 8.5 64.0625 14.71875 69.140625 \nQ 20.953125 74.21875 31.78125 74.21875 \nQ 42.671875 74.21875 48.875 69.140625 \nQ 55.078125 64.0625 55.078125 55.328125 \nQ 55.078125 49.078125 51.53125 44.71875 \nQ 48 40.375 41.703125 38.8125 \nQ 48.828125 37.15625 52.796875 32.3125 \nQ 56.78125 27.484375 56.78125 20.515625 \nQ 56.78125 9.90625 50.3125 4.234375 \nQ 43.84375 -1.421875 31.78125 -1.421875 \nQ 19.734375 -1.421875 13.25 4.234375 \nQ 6.78125 9.90625 6.78125 20.515625 \nQ 6.78125 27.484375 10.78125 32.3125 \nQ 14.796875 37.15625 21.921875 38.8125 \nz\nM 18.3125 54.390625 \nQ 18.3125 48.734375 21.84375 45.5625 \nQ 25.390625 42.390625 31.78125 42.390625 \nQ 38.140625 42.390625 41.71875 45.5625 \nQ 45.3125 48.734375 45.3125 54.390625 \nQ 45.3125 60.0625 41.71875 63.234375 \nQ 38.140625 66.40625 31.78125 66.40625 \nQ 25.390625 66.40625 21.84375 63.234375 \nQ 18.3125 60.0625 18.3125 54.390625 \nz\n\" id=\"DejaVuSans-56\"/>\n      </defs>\n      <g transform=\"translate(236.798295 239.238438)scale(0.1 -0.1)\">\n       <use xlink:href=\"#DejaVuSans-56\"/>\n      </g>\n     </g>\n    </g>\n    <g id=\"xtick_5\">\n     <g id=\"line2d_5\">\n      <g>\n       <use style=\"stroke:#000000;stroke-width:0.8;\" x=\"300.852273\" xlink:href=\"#m7d58a8a0ca\" y=\"224.64\"/>\n      </g>\n     </g>\n     <g id=\"text_5\">\n      <!-- 10 -->\n      <defs>\n       <path d=\"M 12.40625 8.296875 \nL 28.515625 8.296875 \nL 28.515625 63.921875 \nL 10.984375 60.40625 \nL 10.984375 69.390625 \nL 28.421875 72.90625 \nL 38.28125 72.90625 \nL 38.28125 8.296875 \nL 54.390625 8.296875 \nL 54.390625 0 \nL 12.40625 0 \nz\n\" id=\"DejaVuSans-49\"/>\n       <path d=\"M 31.78125 66.40625 \nQ 24.171875 66.40625 20.328125 58.90625 \nQ 16.5 51.421875 16.5 36.375 \nQ 16.5 21.390625 20.328125 13.890625 \nQ 24.171875 6.390625 31.78125 6.390625 \nQ 39.453125 6.390625 43.28125 13.890625 \nQ 47.125 21.390625 47.125 36.375 \nQ 47.125 51.421875 43.28125 58.90625 \nQ 39.453125 66.40625 31.78125 66.40625 \nz\nM 31.78125 74.21875 \nQ 44.046875 74.21875 50.515625 64.515625 \nQ 56.984375 54.828125 56.984375 36.375 \nQ 56.984375 17.96875 50.515625 8.265625 \nQ 44.046875 -1.421875 31.78125 -1.421875 \nQ 19.53125 -1.421875 13.0625 8.265625 \nQ 6.59375 17.96875 6.59375 36.375 \nQ 6.59375 54.828125 13.0625 64.515625 \nQ 19.53125 74.21875 31.78125 74.21875 \nz\n\" id=\"DejaVuSans-48\"/>\n      </defs>\n      <g transform=\"translate(294.489773 239.238438)scale(0.1 -0.1)\">\n       <use xlink:href=\"#DejaVuSans-49\"/>\n       <use x=\"63.623047\" xlink:href=\"#DejaVuSans-48\"/>\n      </g>\n     </g>\n    </g>\n    <g id=\"xtick_6\">\n     <g id=\"line2d_6\">\n      <g>\n       <use style=\"stroke:#000000;stroke-width:0.8;\" x=\"361.725\" xlink:href=\"#m7d58a8a0ca\" y=\"224.64\"/>\n      </g>\n     </g>\n     <g id=\"text_6\">\n      <!-- 12 -->\n      <g transform=\"translate(355.3625 239.238438)scale(0.1 -0.1)\">\n       <use xlink:href=\"#DejaVuSans-49\"/>\n       <use x=\"63.623047\" xlink:href=\"#DejaVuSans-50\"/>\n      </g>\n     </g>\n    </g>\n    <g id=\"text_7\">\n     <!-- ymd -->\n     <defs>\n      <path d=\"M 32.171875 -5.078125 \nQ 28.375 -14.84375 24.75 -17.8125 \nQ 21.140625 -20.796875 15.09375 -20.796875 \nL 7.90625 -20.796875 \nL 7.90625 -13.28125 \nL 13.1875 -13.28125 \nQ 16.890625 -13.28125 18.9375 -11.515625 \nQ 21 -9.765625 23.484375 -3.21875 \nL 25.09375 0.875 \nL 2.984375 54.6875 \nL 12.5 54.6875 \nL 29.59375 11.921875 \nL 46.6875 54.6875 \nL 56.203125 54.6875 \nz\n\" id=\"DejaVuSans-121\"/>\n      <path d=\"M 52 44.1875 \nQ 55.375 50.25 60.0625 53.125 \nQ 64.75 56 71.09375 56 \nQ 79.640625 56 84.28125 50.015625 \nQ 88.921875 44.046875 88.921875 33.015625 \nL 88.921875 0 \nL 79.890625 0 \nL 79.890625 32.71875 \nQ 79.890625 40.578125 77.09375 44.375 \nQ 74.3125 48.1875 68.609375 48.1875 \nQ 61.625 48.1875 57.5625 43.546875 \nQ 53.515625 38.921875 53.515625 30.90625 \nL 53.515625 0 \nL 44.484375 0 \nL 44.484375 32.71875 \nQ 44.484375 40.625 41.703125 44.40625 \nQ 38.921875 48.1875 33.109375 48.1875 \nQ 26.21875 48.1875 22.15625 43.53125 \nQ 18.109375 38.875 18.109375 30.90625 \nL 18.109375 0 \nL 9.078125 0 \nL 9.078125 54.6875 \nL 18.109375 54.6875 \nL 18.109375 46.1875 \nQ 21.1875 51.21875 25.484375 53.609375 \nQ 29.78125 56 35.6875 56 \nQ 41.65625 56 45.828125 52.96875 \nQ 50 49.953125 52 44.1875 \nz\n\" id=\"DejaVuSans-109\"/>\n      <path d=\"M 45.40625 46.390625 \nL 45.40625 75.984375 \nL 54.390625 75.984375 \nL 54.390625 0 \nL 45.40625 0 \nL 45.40625 8.203125 \nQ 42.578125 3.328125 38.25 0.953125 \nQ 33.9375 -1.421875 27.875 -1.421875 \nQ 17.96875 -1.421875 11.734375 6.484375 \nQ 5.515625 14.40625 5.515625 27.296875 \nQ 5.515625 40.1875 11.734375 48.09375 \nQ 17.96875 56 27.875 56 \nQ 33.9375 56 38.25 53.625 \nQ 42.578125 51.265625 45.40625 46.390625 \nz\nM 14.796875 27.296875 \nQ 14.796875 17.390625 18.875 11.75 \nQ 22.953125 6.109375 30.078125 6.109375 \nQ 37.203125 6.109375 41.296875 11.75 \nQ 45.40625 17.390625 45.40625 27.296875 \nQ 45.40625 37.203125 41.296875 42.84375 \nQ 37.203125 48.484375 30.078125 48.484375 \nQ 22.953125 48.484375 18.875 42.84375 \nQ 14.796875 37.203125 14.796875 27.296875 \nz\n\" id=\"DejaVuSans-100\"/>\n     </defs>\n     <g transform=\"translate(183.321094 252.916563)scale(0.1 -0.1)\">\n      <use xlink:href=\"#DejaVuSans-121\"/>\n      <use x=\"59.179688\" xlink:href=\"#DejaVuSans-109\"/>\n      <use x=\"156.591797\" xlink:href=\"#DejaVuSans-100\"/>\n     </g>\n    </g>\n   </g>\n   <g id=\"matplotlib.axis_2\">\n    <g id=\"ytick_1\">\n     <g id=\"line2d_7\">\n      <defs>\n       <path d=\"M 0 0 \nL -3.5 0 \n\" id=\"mfa06b124f5\" style=\"stroke:#000000;stroke-width:0.8;\"/>\n      </defs>\n      <g>\n       <use style=\"stroke:#000000;stroke-width:0.8;\" x=\"26.925\" xlink:href=\"#mfa06b124f5\" y=\"195.626745\"/>\n      </g>\n     </g>\n     <g id=\"text_8\">\n      <!-- 10 -->\n      <g transform=\"translate(7.2 199.425964)scale(0.1 -0.1)\">\n       <use xlink:href=\"#DejaVuSans-49\"/>\n       <use x=\"63.623047\" xlink:href=\"#DejaVuSans-48\"/>\n      </g>\n     </g>\n    </g>\n    <g id=\"ytick_2\">\n     <g id=\"line2d_8\">\n      <g>\n       <use style=\"stroke:#000000;stroke-width:0.8;\" x=\"26.925\" xlink:href=\"#mfa06b124f5\" y=\"163.744047\"/>\n      </g>\n     </g>\n     <g id=\"text_9\">\n      <!-- 15 -->\n      <defs>\n       <path d=\"M 10.796875 72.90625 \nL 49.515625 72.90625 \nL 49.515625 64.59375 \nL 19.828125 64.59375 \nL 19.828125 46.734375 \nQ 21.96875 47.46875 24.109375 47.828125 \nQ 26.265625 48.1875 28.421875 48.1875 \nQ 40.625 48.1875 47.75 41.5 \nQ 54.890625 34.8125 54.890625 23.390625 \nQ 54.890625 11.625 47.5625 5.09375 \nQ 40.234375 -1.421875 26.90625 -1.421875 \nQ 22.3125 -1.421875 17.546875 -0.640625 \nQ 12.796875 0.140625 7.71875 1.703125 \nL 7.71875 11.625 \nQ 12.109375 9.234375 16.796875 8.0625 \nQ 21.484375 6.890625 26.703125 6.890625 \nQ 35.15625 6.890625 40.078125 11.328125 \nQ 45.015625 15.765625 45.015625 23.390625 \nQ 45.015625 31 40.078125 35.4375 \nQ 35.15625 39.890625 26.703125 39.890625 \nQ 22.75 39.890625 18.8125 39.015625 \nQ 14.890625 38.140625 10.796875 36.28125 \nz\n\" id=\"DejaVuSans-53\"/>\n      </defs>\n      <g transform=\"translate(7.2 167.543266)scale(0.1 -0.1)\">\n       <use xlink:href=\"#DejaVuSans-49\"/>\n       <use x=\"63.623047\" xlink:href=\"#DejaVuSans-53\"/>\n      </g>\n     </g>\n    </g>\n    <g id=\"ytick_3\">\n     <g id=\"line2d_9\">\n      <g>\n       <use style=\"stroke:#000000;stroke-width:0.8;\" x=\"26.925\" xlink:href=\"#mfa06b124f5\" y=\"131.861349\"/>\n      </g>\n     </g>\n     <g id=\"text_10\">\n      <!-- 20 -->\n      <g transform=\"translate(7.2 135.660568)scale(0.1 -0.1)\">\n       <use xlink:href=\"#DejaVuSans-50\"/>\n       <use x=\"63.623047\" xlink:href=\"#DejaVuSans-48\"/>\n      </g>\n     </g>\n    </g>\n    <g id=\"ytick_4\">\n     <g id=\"line2d_10\">\n      <g>\n       <use style=\"stroke:#000000;stroke-width:0.8;\" x=\"26.925\" xlink:href=\"#mfa06b124f5\" y=\"99.978651\"/>\n      </g>\n     </g>\n     <g id=\"text_11\">\n      <!-- 25 -->\n      <g transform=\"translate(7.2 103.77787)scale(0.1 -0.1)\">\n       <use xlink:href=\"#DejaVuSans-50\"/>\n       <use x=\"63.623047\" xlink:href=\"#DejaVuSans-53\"/>\n      </g>\n     </g>\n    </g>\n    <g id=\"ytick_5\">\n     <g id=\"line2d_11\">\n      <g>\n       <use style=\"stroke:#000000;stroke-width:0.8;\" x=\"26.925\" xlink:href=\"#mfa06b124f5\" y=\"68.095953\"/>\n      </g>\n     </g>\n     <g id=\"text_12\">\n      <!-- 30 -->\n      <defs>\n       <path d=\"M 40.578125 39.3125 \nQ 47.65625 37.796875 51.625 33 \nQ 55.609375 28.21875 55.609375 21.1875 \nQ 55.609375 10.40625 48.1875 4.484375 \nQ 40.765625 -1.421875 27.09375 -1.421875 \nQ 22.515625 -1.421875 17.65625 -0.515625 \nQ 12.796875 0.390625 7.625 2.203125 \nL 7.625 11.71875 \nQ 11.71875 9.328125 16.59375 8.109375 \nQ 21.484375 6.890625 26.8125 6.890625 \nQ 36.078125 6.890625 40.9375 10.546875 \nQ 45.796875 14.203125 45.796875 21.1875 \nQ 45.796875 27.640625 41.28125 31.265625 \nQ 36.765625 34.90625 28.71875 34.90625 \nL 20.21875 34.90625 \nL 20.21875 43.015625 \nL 29.109375 43.015625 \nQ 36.375 43.015625 40.234375 45.921875 \nQ 44.09375 48.828125 44.09375 54.296875 \nQ 44.09375 59.90625 40.109375 62.90625 \nQ 36.140625 65.921875 28.71875 65.921875 \nQ 24.65625 65.921875 20.015625 65.03125 \nQ 15.375 64.15625 9.8125 62.3125 \nL 9.8125 71.09375 \nQ 15.4375 72.65625 20.34375 73.4375 \nQ 25.25 74.21875 29.59375 74.21875 \nQ 40.828125 74.21875 47.359375 69.109375 \nQ 53.90625 64.015625 53.90625 55.328125 \nQ 53.90625 49.265625 50.4375 45.09375 \nQ 46.96875 40.921875 40.578125 39.3125 \nz\n\" id=\"DejaVuSans-51\"/>\n      </defs>\n      <g transform=\"translate(7.2 71.895172)scale(0.1 -0.1)\">\n       <use xlink:href=\"#DejaVuSans-51\"/>\n       <use x=\"63.623047\" xlink:href=\"#DejaVuSans-48\"/>\n      </g>\n     </g>\n    </g>\n    <g id=\"ytick_6\">\n     <g id=\"line2d_12\">\n      <g>\n       <use style=\"stroke:#000000;stroke-width:0.8;\" x=\"26.925\" xlink:href=\"#mfa06b124f5\" y=\"36.213255\"/>\n      </g>\n     </g>\n     <g id=\"text_13\">\n      <!-- 35 -->\n      <g transform=\"translate(7.2 40.012474)scale(0.1 -0.1)\">\n       <use xlink:href=\"#DejaVuSans-51\"/>\n       <use x=\"63.623047\" xlink:href=\"#DejaVuSans-53\"/>\n      </g>\n     </g>\n    </g>\n   </g>\n   <g id=\"line2d_13\">\n    <path clip-path=\"url(#pd2c0709c12)\" d=\"M 26.925 214.756364 \nL 57.361364 182.873666 \nL 87.797727 87.225572 \nL 118.234091 68.095953 \nL 148.670455 36.213255 \nL 179.106818 17.083636 \nL 209.543182 23.460176 \nL 239.979545 29.836716 \nL 270.415909 61.719413 \nL 300.852273 99.978651 \nL 331.288636 144.614428 \nL 361.725 195.626745 \n\" style=\"fill:none;stroke:#1f77b4;stroke-linecap:square;stroke-width:1.5;\"/>\n   </g>\n   <g id=\"patch_3\">\n    <path d=\"M 26.925 224.64 \nL 26.925 7.2 \n\" style=\"fill:none;stroke:#000000;stroke-linecap:square;stroke-linejoin:miter;stroke-width:0.8;\"/>\n   </g>\n   <g id=\"patch_4\">\n    <path d=\"M 361.725 224.64 \nL 361.725 7.2 \n\" style=\"fill:none;stroke:#000000;stroke-linecap:square;stroke-linejoin:miter;stroke-width:0.8;\"/>\n   </g>\n   <g id=\"patch_5\">\n    <path d=\"M 26.925 224.64 \nL 361.725 224.64 \n\" style=\"fill:none;stroke:#000000;stroke-linecap:square;stroke-linejoin:miter;stroke-width:0.8;\"/>\n   </g>\n   <g id=\"patch_6\">\n    <path d=\"M 26.925 7.2 \nL 361.725 7.2 \n\" style=\"fill:none;stroke:#000000;stroke-linecap:square;stroke-linejoin:miter;stroke-width:0.8;\"/>\n   </g>\n  </g>\n </g>\n <defs>\n  <clipPath id=\"pd2c0709c12\">\n   <rect height=\"217.44\" width=\"334.8\" x=\"26.925\" y=\"7.2\"/>\n  </clipPath>\n </defs>\n</svg>\n",
      "image/png": "[encoded data removed]"
     },
     "metadata": {
      "needs_background": "light"
     }
    }
   ],
   "source": [
    "data.plot()"
   ]
  },
  {
   "cell_type": "code",
   "execution_count": 59,
   "metadata": {},
   "outputs": [],
   "source": [
    "mdata = df.groupby(df.index.month).agg({'hw': max, 'lw': min, 'aqi': np.mean})"
   ]
  },
  {
   "cell_type": "code",
   "execution_count": 60,
   "metadata": {},
   "outputs": [
    {
     "output_type": "execute_result",
     "data": {
      "text/plain": [
       "<matplotlib.axes._subplots.AxesSubplot at 0x7fbfb5314e48>"
      ]
     },
     "metadata": {},
     "execution_count": 60
    },
    {
     "output_type": "display_data",
     "data": {
      "text/plain": "<Figure size 432x288 with 1 Axes>",
      "image/svg+xml": "<?xml version=\"1.0\" encoding=\"utf-8\" standalone=\"no\"?>\n<!DOCTYPE svg PUBLIC \"-//W3C//DTD SVG 1.1//EN\"\n  \"http://www.w3.org/Graphics/SVG/1.1/DTD/svg11.dtd\">\n<!-- Created with matplotlib (https://matplotlib.org/) -->\n<svg height=\"262.19625pt\" version=\"1.1\" viewBox=\"0 0 381.65 262.19625\" width=\"381.65pt\" xmlns=\"http://www.w3.org/2000/svg\" xmlns:xlink=\"http://www.w3.org/1999/xlink\">\n <defs>\n  <style type=\"text/css\">\n*{stroke-linecap:butt;stroke-linejoin:round;}\n  </style>\n </defs>\n <g id=\"figure_1\">\n  <g id=\"patch_1\">\n   <path d=\"M 0 262.19625 \nL 381.65 262.19625 \nL 381.65 0 \nL 0 0 \nz\n\" style=\"fill:none;\"/>\n  </g>\n  <g id=\"axes_1\">\n   <g id=\"patch_2\">\n    <path d=\"M 33.2875 224.64 \nL 368.0875 224.64 \nL 368.0875 7.2 \nL 33.2875 7.2 \nz\n\" style=\"fill:#ffffff;\"/>\n   </g>\n   <g id=\"matplotlib.axis_1\">\n    <g id=\"xtick_1\">\n     <g id=\"line2d_1\">\n      <defs>\n       <path d=\"M 0 0 \nL 0 3.5 \n\" id=\"mdfc82cb2e2\" style=\"stroke:#000000;stroke-width:0.8;\"/>\n      </defs>\n      <g>\n       <use style=\"stroke:#000000;stroke-width:0.8;\" x=\"63.723864\" xlink:href=\"#mdfc82cb2e2\" y=\"224.64\"/>\n      </g>\n     </g>\n     <g id=\"text_1\">\n      <!-- 2 -->\n      <defs>\n       <path d=\"M 19.1875 8.296875 \nL 53.609375 8.296875 \nL 53.609375 0 \nL 7.328125 0 \nL 7.328125 8.296875 \nQ 12.9375 14.109375 22.625 23.890625 \nQ 32.328125 33.6875 34.8125 36.53125 \nQ 39.546875 41.84375 41.421875 45.53125 \nQ 43.3125 49.21875 43.3125 52.78125 \nQ 43.3125 58.59375 39.234375 62.25 \nQ 35.15625 65.921875 28.609375 65.921875 \nQ 23.96875 65.921875 18.8125 64.3125 \nQ 13.671875 62.703125 7.8125 59.421875 \nL 7.8125 69.390625 \nQ 13.765625 71.78125 18.9375 73 \nQ 24.125 74.21875 28.421875 74.21875 \nQ 39.75 74.21875 46.484375 68.546875 \nQ 53.21875 62.890625 53.21875 53.421875 \nQ 53.21875 48.921875 51.53125 44.890625 \nQ 49.859375 40.875 45.40625 35.40625 \nQ 44.1875 33.984375 37.640625 27.21875 \nQ 31.109375 20.453125 19.1875 8.296875 \nz\n\" id=\"DejaVuSans-50\"/>\n      </defs>\n      <g transform=\"translate(60.542614 239.238437)scale(0.1 -0.1)\">\n       <use xlink:href=\"#DejaVuSans-50\"/>\n      </g>\n     </g>\n    </g>\n    <g id=\"xtick_2\">\n     <g id=\"line2d_2\">\n      <g>\n       <use style=\"stroke:#000000;stroke-width:0.8;\" x=\"124.596591\" xlink:href=\"#mdfc82cb2e2\" y=\"224.64\"/>\n      </g>\n     </g>\n     <g id=\"text_2\">\n      <!-- 4 -->\n      <defs>\n       <path d=\"M 37.796875 64.3125 \nL 12.890625 25.390625 \nL 37.796875 25.390625 \nz\nM 35.203125 72.90625 \nL 47.609375 72.90625 \nL 47.609375 25.390625 \nL 58.015625 25.390625 \nL 58.015625 17.1875 \nL 47.609375 17.1875 \nL 47.609375 0 \nL 37.796875 0 \nL 37.796875 17.1875 \nL 4.890625 17.1875 \nL 4.890625 26.703125 \nz\n\" id=\"DejaVuSans-52\"/>\n      </defs>\n      <g transform=\"translate(121.415341 239.238437)scale(0.1 -0.1)\">\n       <use xlink:href=\"#DejaVuSans-52\"/>\n      </g>\n     </g>\n    </g>\n    <g id=\"xtick_3\">\n     <g id=\"line2d_3\">\n      <g>\n       <use style=\"stroke:#000000;stroke-width:0.8;\" x=\"185.469318\" xlink:href=\"#mdfc82cb2e2\" y=\"224.64\"/>\n      </g>\n     </g>\n     <g id=\"text_3\">\n      <!-- 6 -->\n      <defs>\n       <path d=\"M 33.015625 40.375 \nQ 26.375 40.375 22.484375 35.828125 \nQ 18.609375 31.296875 18.609375 23.390625 \nQ 18.609375 15.53125 22.484375 10.953125 \nQ 26.375 6.390625 33.015625 6.390625 \nQ 39.65625 6.390625 43.53125 10.953125 \nQ 47.40625 15.53125 47.40625 23.390625 \nQ 47.40625 31.296875 43.53125 35.828125 \nQ 39.65625 40.375 33.015625 40.375 \nz\nM 52.59375 71.296875 \nL 52.59375 62.3125 \nQ 48.875 64.0625 45.09375 64.984375 \nQ 41.3125 65.921875 37.59375 65.921875 \nQ 27.828125 65.921875 22.671875 59.328125 \nQ 17.53125 52.734375 16.796875 39.40625 \nQ 19.671875 43.65625 24.015625 45.921875 \nQ 28.375 48.1875 33.59375 48.1875 \nQ 44.578125 48.1875 50.953125 41.515625 \nQ 57.328125 34.859375 57.328125 23.390625 \nQ 57.328125 12.15625 50.6875 5.359375 \nQ 44.046875 -1.421875 33.015625 -1.421875 \nQ 20.359375 -1.421875 13.671875 8.265625 \nQ 6.984375 17.96875 6.984375 36.375 \nQ 6.984375 53.65625 15.1875 63.9375 \nQ 23.390625 74.21875 37.203125 74.21875 \nQ 40.921875 74.21875 44.703125 73.484375 \nQ 48.484375 72.75 52.59375 71.296875 \nz\n\" id=\"DejaVuSans-54\"/>\n      </defs>\n      <g transform=\"translate(182.288068 239.238437)scale(0.1 -0.1)\">\n       <use xlink:href=\"#DejaVuSans-54\"/>\n      </g>\n     </g>\n    </g>\n    <g id=\"xtick_4\">\n     <g id=\"line2d_4\">\n      <g>\n       <use style=\"stroke:#000000;stroke-width:0.8;\" x=\"246.342045\" xlink:href=\"#mdfc82cb2e2\" y=\"224.64\"/>\n      </g>\n     </g>\n     <g id=\"text_4\">\n      <!-- 8 -->\n      <defs>\n       <path d=\"M 31.78125 34.625 \nQ 24.75 34.625 20.71875 30.859375 \nQ 16.703125 27.09375 16.703125 20.515625 \nQ 16.703125 13.921875 20.71875 10.15625 \nQ 24.75 6.390625 31.78125 6.390625 \nQ 38.8125 6.390625 42.859375 10.171875 \nQ 46.921875 13.96875 46.921875 20.515625 \nQ 46.921875 27.09375 42.890625 30.859375 \nQ 38.875 34.625 31.78125 34.625 \nz\nM 21.921875 38.8125 \nQ 15.578125 40.375 12.03125 44.71875 \nQ 8.5 49.078125 8.5 55.328125 \nQ 8.5 64.0625 14.71875 69.140625 \nQ 20.953125 74.21875 31.78125 74.21875 \nQ 42.671875 74.21875 48.875 69.140625 \nQ 55.078125 64.0625 55.078125 55.328125 \nQ 55.078125 49.078125 51.53125 44.71875 \nQ 48 40.375 41.703125 38.8125 \nQ 48.828125 37.15625 52.796875 32.3125 \nQ 56.78125 27.484375 56.78125 20.515625 \nQ 56.78125 9.90625 50.3125 4.234375 \nQ 43.84375 -1.421875 31.78125 -1.421875 \nQ 19.734375 -1.421875 13.25 4.234375 \nQ 6.78125 9.90625 6.78125 20.515625 \nQ 6.78125 27.484375 10.78125 32.3125 \nQ 14.796875 37.15625 21.921875 38.8125 \nz\nM 18.3125 54.390625 \nQ 18.3125 48.734375 21.84375 45.5625 \nQ 25.390625 42.390625 31.78125 42.390625 \nQ 38.140625 42.390625 41.71875 45.5625 \nQ 45.3125 48.734375 45.3125 54.390625 \nQ 45.3125 60.0625 41.71875 63.234375 \nQ 38.140625 66.40625 31.78125 66.40625 \nQ 25.390625 66.40625 21.84375 63.234375 \nQ 18.3125 60.0625 18.3125 54.390625 \nz\n\" id=\"DejaVuSans-56\"/>\n      </defs>\n      <g transform=\"translate(243.160795 239.238437)scale(0.1 -0.1)\">\n       <use xlink:href=\"#DejaVuSans-56\"/>\n      </g>\n     </g>\n    </g>\n    <g id=\"xtick_5\">\n     <g id=\"line2d_5\">\n      <g>\n       <use style=\"stroke:#000000;stroke-width:0.8;\" x=\"307.214773\" xlink:href=\"#mdfc82cb2e2\" y=\"224.64\"/>\n      </g>\n     </g>\n     <g id=\"text_5\">\n      <!-- 10 -->\n      <defs>\n       <path d=\"M 12.40625 8.296875 \nL 28.515625 8.296875 \nL 28.515625 63.921875 \nL 10.984375 60.40625 \nL 10.984375 69.390625 \nL 28.421875 72.90625 \nL 38.28125 72.90625 \nL 38.28125 8.296875 \nL 54.390625 8.296875 \nL 54.390625 0 \nL 12.40625 0 \nz\n\" id=\"DejaVuSans-49\"/>\n       <path d=\"M 31.78125 66.40625 \nQ 24.171875 66.40625 20.328125 58.90625 \nQ 16.5 51.421875 16.5 36.375 \nQ 16.5 21.390625 20.328125 13.890625 \nQ 24.171875 6.390625 31.78125 6.390625 \nQ 39.453125 6.390625 43.28125 13.890625 \nQ 47.125 21.390625 47.125 36.375 \nQ 47.125 51.421875 43.28125 58.90625 \nQ 39.453125 66.40625 31.78125 66.40625 \nz\nM 31.78125 74.21875 \nQ 44.046875 74.21875 50.515625 64.515625 \nQ 56.984375 54.828125 56.984375 36.375 \nQ 56.984375 17.96875 50.515625 8.265625 \nQ 44.046875 -1.421875 31.78125 -1.421875 \nQ 19.53125 -1.421875 13.0625 8.265625 \nQ 6.59375 17.96875 6.59375 36.375 \nQ 6.59375 54.828125 13.0625 64.515625 \nQ 19.53125 74.21875 31.78125 74.21875 \nz\n\" id=\"DejaVuSans-48\"/>\n      </defs>\n      <g transform=\"translate(300.852273 239.238437)scale(0.1 -0.1)\">\n       <use xlink:href=\"#DejaVuSans-49\"/>\n       <use x=\"63.623047\" xlink:href=\"#DejaVuSans-48\"/>\n      </g>\n     </g>\n    </g>\n    <g id=\"xtick_6\">\n     <g id=\"line2d_6\">\n      <g>\n       <use style=\"stroke:#000000;stroke-width:0.8;\" x=\"368.0875\" xlink:href=\"#mdfc82cb2e2\" y=\"224.64\"/>\n      </g>\n     </g>\n     <g id=\"text_6\">\n      <!-- 12 -->\n      <g transform=\"translate(361.725 239.238437)scale(0.1 -0.1)\">\n       <use xlink:href=\"#DejaVuSans-49\"/>\n       <use x=\"63.623047\" xlink:href=\"#DejaVuSans-50\"/>\n      </g>\n     </g>\n    </g>\n    <g id=\"text_7\">\n     <!-- ymd -->\n     <defs>\n      <path d=\"M 32.171875 -5.078125 \nQ 28.375 -14.84375 24.75 -17.8125 \nQ 21.140625 -20.796875 15.09375 -20.796875 \nL 7.90625 -20.796875 \nL 7.90625 -13.28125 \nL 13.1875 -13.28125 \nQ 16.890625 -13.28125 18.9375 -11.515625 \nQ 21 -9.765625 23.484375 -3.21875 \nL 25.09375 0.875 \nL 2.984375 54.6875 \nL 12.5 54.6875 \nL 29.59375 11.921875 \nL 46.6875 54.6875 \nL 56.203125 54.6875 \nz\n\" id=\"DejaVuSans-121\"/>\n      <path d=\"M 52 44.1875 \nQ 55.375 50.25 60.0625 53.125 \nQ 64.75 56 71.09375 56 \nQ 79.640625 56 84.28125 50.015625 \nQ 88.921875 44.046875 88.921875 33.015625 \nL 88.921875 0 \nL 79.890625 0 \nL 79.890625 32.71875 \nQ 79.890625 40.578125 77.09375 44.375 \nQ 74.3125 48.1875 68.609375 48.1875 \nQ 61.625 48.1875 57.5625 43.546875 \nQ 53.515625 38.921875 53.515625 30.90625 \nL 53.515625 0 \nL 44.484375 0 \nL 44.484375 32.71875 \nQ 44.484375 40.625 41.703125 44.40625 \nQ 38.921875 48.1875 33.109375 48.1875 \nQ 26.21875 48.1875 22.15625 43.53125 \nQ 18.109375 38.875 18.109375 30.90625 \nL 18.109375 0 \nL 9.078125 0 \nL 9.078125 54.6875 \nL 18.109375 54.6875 \nL 18.109375 46.1875 \nQ 21.1875 51.21875 25.484375 53.609375 \nQ 29.78125 56 35.6875 56 \nQ 41.65625 56 45.828125 52.96875 \nQ 50 49.953125 52 44.1875 \nz\n\" id=\"DejaVuSans-109\"/>\n      <path d=\"M 45.40625 46.390625 \nL 45.40625 75.984375 \nL 54.390625 75.984375 \nL 54.390625 0 \nL 45.40625 0 \nL 45.40625 8.203125 \nQ 42.578125 3.328125 38.25 0.953125 \nQ 33.9375 -1.421875 27.875 -1.421875 \nQ 17.96875 -1.421875 11.734375 6.484375 \nQ 5.515625 14.40625 5.515625 27.296875 \nQ 5.515625 40.1875 11.734375 48.09375 \nQ 17.96875 56 27.875 56 \nQ 33.9375 56 38.25 53.625 \nQ 42.578125 51.265625 45.40625 46.390625 \nz\nM 14.796875 27.296875 \nQ 14.796875 17.390625 18.875 11.75 \nQ 22.953125 6.109375 30.078125 6.109375 \nQ 37.203125 6.109375 41.296875 11.75 \nQ 45.40625 17.390625 45.40625 27.296875 \nQ 45.40625 37.203125 41.296875 42.84375 \nQ 37.203125 48.484375 30.078125 48.484375 \nQ 22.953125 48.484375 18.875 42.84375 \nQ 14.796875 37.203125 14.796875 27.296875 \nz\n\" id=\"DejaVuSans-100\"/>\n     </defs>\n     <g transform=\"translate(189.683594 252.916562)scale(0.1 -0.1)\">\n      <use xlink:href=\"#DejaVuSans-121\"/>\n      <use x=\"59.179688\" xlink:href=\"#DejaVuSans-109\"/>\n      <use x=\"156.591797\" xlink:href=\"#DejaVuSans-100\"/>\n     </g>\n    </g>\n   </g>\n   <g id=\"matplotlib.axis_2\">\n    <g id=\"ytick_1\">\n     <g id=\"line2d_7\">\n      <defs>\n       <path d=\"M 0 0 \nL -3.5 0 \n\" id=\"m7689f31a4c\" style=\"stroke:#000000;stroke-width:0.8;\"/>\n      </defs>\n      <g>\n       <use style=\"stroke:#000000;stroke-width:0.8;\" x=\"33.2875\" xlink:href=\"#m7689f31a4c\" y=\"198.089488\"/>\n      </g>\n     </g>\n     <g id=\"text_8\">\n      <!-- 0 -->\n      <g transform=\"translate(19.925 201.888707)scale(0.1 -0.1)\">\n       <use xlink:href=\"#DejaVuSans-48\"/>\n      </g>\n     </g>\n    </g>\n    <g id=\"ytick_2\">\n     <g id=\"line2d_8\">\n      <g>\n       <use style=\"stroke:#000000;stroke-width:0.8;\" x=\"33.2875\" xlink:href=\"#m7689f31a4c\" y=\"170.311362\"/>\n      </g>\n     </g>\n     <g id=\"text_9\">\n      <!-- 20 -->\n      <g transform=\"translate(13.5625 174.110581)scale(0.1 -0.1)\">\n       <use xlink:href=\"#DejaVuSans-50\"/>\n       <use x=\"63.623047\" xlink:href=\"#DejaVuSans-48\"/>\n      </g>\n     </g>\n    </g>\n    <g id=\"ytick_3\">\n     <g id=\"line2d_9\">\n      <g>\n       <use style=\"stroke:#000000;stroke-width:0.8;\" x=\"33.2875\" xlink:href=\"#m7689f31a4c\" y=\"142.533237\"/>\n      </g>\n     </g>\n     <g id=\"text_10\">\n      <!-- 40 -->\n      <g transform=\"translate(13.5625 146.332455)scale(0.1 -0.1)\">\n       <use xlink:href=\"#DejaVuSans-52\"/>\n       <use x=\"63.623047\" xlink:href=\"#DejaVuSans-48\"/>\n      </g>\n     </g>\n    </g>\n    <g id=\"ytick_4\">\n     <g id=\"line2d_10\">\n      <g>\n       <use style=\"stroke:#000000;stroke-width:0.8;\" x=\"33.2875\" xlink:href=\"#m7689f31a4c\" y=\"114.755111\"/>\n      </g>\n     </g>\n     <g id=\"text_11\">\n      <!-- 60 -->\n      <g transform=\"translate(13.5625 118.55433)scale(0.1 -0.1)\">\n       <use xlink:href=\"#DejaVuSans-54\"/>\n       <use x=\"63.623047\" xlink:href=\"#DejaVuSans-48\"/>\n      </g>\n     </g>\n    </g>\n    <g id=\"ytick_5\">\n     <g id=\"line2d_11\">\n      <g>\n       <use style=\"stroke:#000000;stroke-width:0.8;\" x=\"33.2875\" xlink:href=\"#m7689f31a4c\" y=\"86.976985\"/>\n      </g>\n     </g>\n     <g id=\"text_12\">\n      <!-- 80 -->\n      <g transform=\"translate(13.5625 90.776204)scale(0.1 -0.1)\">\n       <use xlink:href=\"#DejaVuSans-56\"/>\n       <use x=\"63.623047\" xlink:href=\"#DejaVuSans-48\"/>\n      </g>\n     </g>\n    </g>\n    <g id=\"ytick_6\">\n     <g id=\"line2d_12\">\n      <g>\n       <use style=\"stroke:#000000;stroke-width:0.8;\" x=\"33.2875\" xlink:href=\"#m7689f31a4c\" y=\"59.198859\"/>\n      </g>\n     </g>\n     <g id=\"text_13\">\n      <!-- 100 -->\n      <g transform=\"translate(7.2 62.998078)scale(0.1 -0.1)\">\n       <use xlink:href=\"#DejaVuSans-49\"/>\n       <use x=\"63.623047\" xlink:href=\"#DejaVuSans-48\"/>\n       <use x=\"127.246094\" xlink:href=\"#DejaVuSans-48\"/>\n      </g>\n     </g>\n    </g>\n    <g id=\"ytick_7\">\n     <g id=\"line2d_13\">\n      <g>\n       <use style=\"stroke:#000000;stroke-width:0.8;\" x=\"33.2875\" xlink:href=\"#m7689f31a4c\" y=\"31.420734\"/>\n      </g>\n     </g>\n     <g id=\"text_14\">\n      <!-- 120 -->\n      <g transform=\"translate(7.2 35.219952)scale(0.1 -0.1)\">\n       <use xlink:href=\"#DejaVuSans-49\"/>\n       <use x=\"63.623047\" xlink:href=\"#DejaVuSans-50\"/>\n       <use x=\"127.246094\" xlink:href=\"#DejaVuSans-48\"/>\n      </g>\n     </g>\n    </g>\n   </g>\n   <g id=\"line2d_14\">\n    <path clip-path=\"url(#p653a5e471b)\" d=\"M 33.2875 188.367144 \nL 63.723864 181.422613 \nL 94.160227 160.589018 \nL 124.596591 156.4223 \nL 155.032955 149.477768 \nL 185.469318 145.311049 \nL 215.905682 146.699955 \nL 246.342045 148.088862 \nL 276.778409 155.033393 \nL 307.214773 163.366831 \nL 337.651136 173.089175 \nL 368.0875 184.200425 \n\" style=\"fill:none;stroke:#1f77b4;stroke-linecap:square;stroke-width:1.5;\"/>\n   </g>\n   <g id=\"line2d_15\">\n    <path clip-path=\"url(#p653a5e471b)\" d=\"M 33.2875 214.756364 \nL 63.723864 211.978551 \nL 94.160227 203.645113 \nL 124.596591 196.700582 \nL 155.032955 184.200425 \nL 185.469318 174.478081 \nL 215.905682 167.53355 \nL 246.342045 170.311362 \nL 276.778409 182.811519 \nL 307.214773 196.700582 \nL 337.651136 203.645113 \nL 368.0875 214.756364 \n\" style=\"fill:none;stroke:#ff7f0e;stroke-linecap:square;stroke-width:1.5;\"/>\n   </g>\n   <g id=\"line2d_16\">\n    <path clip-path=\"url(#p653a5e471b)\" d=\"M 33.2875 113.814239 \nL 63.723864 88.564307 \nL 94.160227 17.083636 \nL 124.596591 55.217328 \nL 155.032955 60.498159 \nL 185.469318 83.782501 \nL 215.905682 97.147363 \nL 246.342045 115.427162 \nL 276.778409 128.042314 \nL 307.214773 104.898357 \nL 337.651136 52.115437 \nL 368.0875 90.650866 \n\" style=\"fill:none;stroke:#2ca02c;stroke-linecap:square;stroke-width:1.5;\"/>\n   </g>\n   <g id=\"patch_3\">\n    <path d=\"M 33.2875 224.64 \nL 33.2875 7.2 \n\" style=\"fill:none;stroke:#000000;stroke-linecap:square;stroke-linejoin:miter;stroke-width:0.8;\"/>\n   </g>\n   <g id=\"patch_4\">\n    <path d=\"M 368.0875 224.64 \nL 368.0875 7.2 \n\" style=\"fill:none;stroke:#000000;stroke-linecap:square;stroke-linejoin:miter;stroke-width:0.8;\"/>\n   </g>\n   <g id=\"patch_5\">\n    <path d=\"M 33.2875 224.64 \nL 368.0875 224.64 \n\" style=\"fill:none;stroke:#000000;stroke-linecap:square;stroke-linejoin:miter;stroke-width:0.8;\"/>\n   </g>\n   <g id=\"patch_6\">\n    <path d=\"M 33.2875 7.2 \nL 368.0875 7.2 \n\" style=\"fill:none;stroke:#000000;stroke-linecap:square;stroke-linejoin:miter;stroke-width:0.8;\"/>\n   </g>\n   <g id=\"legend_1\">\n    <g id=\"patch_7\">\n     <path d=\"M 177.060156 59.234375 \nL 224.314844 59.234375 \nQ 226.314844 59.234375 226.314844 57.234375 \nL 226.314844 14.2 \nQ 226.314844 12.2 224.314844 12.2 \nL 177.060156 12.2 \nQ 175.060156 12.2 175.060156 14.2 \nL 175.060156 57.234375 \nQ 175.060156 59.234375 177.060156 59.234375 \nz\n\" style=\"fill:#ffffff;opacity:0.8;stroke:#cccccc;stroke-linejoin:miter;\"/>\n    </g>\n    <g id=\"line2d_17\">\n     <path d=\"M 179.060156 20.298437 \nL 199.060156 20.298437 \n\" style=\"fill:none;stroke:#1f77b4;stroke-linecap:square;stroke-width:1.5;\"/>\n    </g>\n    <g id=\"line2d_18\"/>\n    <g id=\"text_15\">\n     <!-- hw -->\n     <defs>\n      <path d=\"M 54.890625 33.015625 \nL 54.890625 0 \nL 45.90625 0 \nL 45.90625 32.71875 \nQ 45.90625 40.484375 42.875 44.328125 \nQ 39.84375 48.1875 33.796875 48.1875 \nQ 26.515625 48.1875 22.3125 43.546875 \nQ 18.109375 38.921875 18.109375 30.90625 \nL 18.109375 0 \nL 9.078125 0 \nL 9.078125 75.984375 \nL 18.109375 75.984375 \nL 18.109375 46.1875 \nQ 21.34375 51.125 25.703125 53.5625 \nQ 30.078125 56 35.796875 56 \nQ 45.21875 56 50.046875 50.171875 \nQ 54.890625 44.34375 54.890625 33.015625 \nz\n\" id=\"DejaVuSans-104\"/>\n      <path d=\"M 4.203125 54.6875 \nL 13.1875 54.6875 \nL 24.421875 12.015625 \nL 35.59375 54.6875 \nL 46.1875 54.6875 \nL 57.421875 12.015625 \nL 68.609375 54.6875 \nL 77.59375 54.6875 \nL 63.28125 0 \nL 52.6875 0 \nL 40.921875 44.828125 \nL 29.109375 0 \nL 18.5 0 \nz\n\" id=\"DejaVuSans-119\"/>\n     </defs>\n     <g transform=\"translate(207.060156 23.798437)scale(0.1 -0.1)\">\n      <use xlink:href=\"#DejaVuSans-104\"/>\n      <use x=\"63.378906\" xlink:href=\"#DejaVuSans-119\"/>\n     </g>\n    </g>\n    <g id=\"line2d_19\">\n     <path d=\"M 179.060156 34.976562 \nL 199.060156 34.976562 \n\" style=\"fill:none;stroke:#ff7f0e;stroke-linecap:square;stroke-width:1.5;\"/>\n    </g>\n    <g id=\"line2d_20\"/>\n    <g id=\"text_16\">\n     <!-- lw -->\n     <defs>\n      <path d=\"M 9.421875 75.984375 \nL 18.40625 75.984375 \nL 18.40625 0 \nL 9.421875 0 \nz\n\" id=\"DejaVuSans-108\"/>\n     </defs>\n     <g transform=\"translate(207.060156 38.476562)scale(0.1 -0.1)\">\n      <use xlink:href=\"#DejaVuSans-108\"/>\n      <use x=\"27.783203\" xlink:href=\"#DejaVuSans-119\"/>\n     </g>\n    </g>\n    <g id=\"line2d_21\">\n     <path d=\"M 179.060156 49.654687 \nL 199.060156 49.654687 \n\" style=\"fill:none;stroke:#2ca02c;stroke-linecap:square;stroke-width:1.5;\"/>\n    </g>\n    <g id=\"line2d_22\"/>\n    <g id=\"text_17\">\n     <!-- aqi -->\n     <defs>\n      <path d=\"M 34.28125 27.484375 \nQ 23.390625 27.484375 19.1875 25 \nQ 14.984375 22.515625 14.984375 16.5 \nQ 14.984375 11.71875 18.140625 8.90625 \nQ 21.296875 6.109375 26.703125 6.109375 \nQ 34.1875 6.109375 38.703125 11.40625 \nQ 43.21875 16.703125 43.21875 25.484375 \nL 43.21875 27.484375 \nz\nM 52.203125 31.203125 \nL 52.203125 0 \nL 43.21875 0 \nL 43.21875 8.296875 \nQ 40.140625 3.328125 35.546875 0.953125 \nQ 30.953125 -1.421875 24.3125 -1.421875 \nQ 15.921875 -1.421875 10.953125 3.296875 \nQ 6 8.015625 6 15.921875 \nQ 6 25.140625 12.171875 29.828125 \nQ 18.359375 34.515625 30.609375 34.515625 \nL 43.21875 34.515625 \nL 43.21875 35.40625 \nQ 43.21875 41.609375 39.140625 45 \nQ 35.0625 48.390625 27.6875 48.390625 \nQ 23 48.390625 18.546875 47.265625 \nQ 14.109375 46.140625 10.015625 43.890625 \nL 10.015625 52.203125 \nQ 14.9375 54.109375 19.578125 55.046875 \nQ 24.21875 56 28.609375 56 \nQ 40.484375 56 46.34375 49.84375 \nQ 52.203125 43.703125 52.203125 31.203125 \nz\n\" id=\"DejaVuSans-97\"/>\n      <path d=\"M 14.796875 27.296875 \nQ 14.796875 17.390625 18.875 11.75 \nQ 22.953125 6.109375 30.078125 6.109375 \nQ 37.203125 6.109375 41.296875 11.75 \nQ 45.40625 17.390625 45.40625 27.296875 \nQ 45.40625 37.203125 41.296875 42.84375 \nQ 37.203125 48.484375 30.078125 48.484375 \nQ 22.953125 48.484375 18.875 42.84375 \nQ 14.796875 37.203125 14.796875 27.296875 \nz\nM 45.40625 8.203125 \nQ 42.578125 3.328125 38.25 0.953125 \nQ 33.9375 -1.421875 27.875 -1.421875 \nQ 17.96875 -1.421875 11.734375 6.484375 \nQ 5.515625 14.40625 5.515625 27.296875 \nQ 5.515625 40.1875 11.734375 48.09375 \nQ 17.96875 56 27.875 56 \nQ 33.9375 56 38.25 53.625 \nQ 42.578125 51.265625 45.40625 46.390625 \nL 45.40625 54.6875 \nL 54.390625 54.6875 \nL 54.390625 -20.796875 \nL 45.40625 -20.796875 \nz\n\" id=\"DejaVuSans-113\"/>\n      <path d=\"M 9.421875 54.6875 \nL 18.40625 54.6875 \nL 18.40625 0 \nL 9.421875 0 \nz\nM 9.421875 75.984375 \nL 18.40625 75.984375 \nL 18.40625 64.59375 \nL 9.421875 64.59375 \nz\n\" id=\"DejaVuSans-105\"/>\n     </defs>\n     <g transform=\"translate(207.060156 53.154687)scale(0.1 -0.1)\">\n      <use xlink:href=\"#DejaVuSans-97\"/>\n      <use x=\"61.279297\" xlink:href=\"#DejaVuSans-113\"/>\n      <use x=\"124.755859\" xlink:href=\"#DejaVuSans-105\"/>\n     </g>\n    </g>\n   </g>\n  </g>\n </g>\n <defs>\n  <clipPath id=\"p653a5e471b\">\n   <rect height=\"217.44\" width=\"334.8\" x=\"33.2875\" y=\"7.2\"/>\n  </clipPath>\n </defs>\n</svg>\n",
      "image/png": "[encoded data removed]"
     },
     "metadata": {
      "needs_background": "light"
     }
    }
   ],
   "source": [
    "mdata.plot()"
   ]
  },
  {
   "cell_type": "code",
   "execution_count": 63,
   "metadata": {},
   "outputs": [
    {
     "output_type": "execute_result",
     "data": {
      "text/plain": [
       "Int64Index([  1,   2,   3,   4,   5,   6,   7,   8,   9,  10,\n",
       "            ...\n",
       "            356, 357, 358, 359, 360, 361, 362, 363, 364, 365],\n",
       "           dtype='int64', name='ymd', length=365)"
      ]
     },
     "metadata": {},
     "execution_count": 63
    }
   ],
   "source": [
    "df.index.dayofyear"
   ]
  },
  {
   "source": [
    "### 多重索引\n",
    "1. Series的多重索引\n",
    "2. DataFrame的多重索引"
   ],
   "cell_type": "markdown",
   "metadata": {}
  },
  {
   "cell_type": "code",
   "execution_count": 68,
   "metadata": {},
   "outputs": [
    {
     "output_type": "execute_result",
     "data": {
      "text/plain": [
       "           日期    公司      收盘      开盘       高       低   交易量   涨跌幅\n",
       "0  2019-10-10  BIDU  103.85  100.79  104.74  100.26  3.56  0.04\n",
       "1  2019-10-09  BIDU   99.90  100.29  100.63   98.55  3.41  0.00\n",
       "2  2019-10-08  BIDU   99.53   99.50  100.56   98.20  4.43 -0.02\n",
       "3  2019-10-07  BIDU  101.47  103.79  103.99  101.17  3.40 -0.03\n",
       "4  2019-10-04  BIDU  104.47  103.83  105.10  103.29  1.69  0.00"
      ],
      "text/html": "<div>\n<style scoped>\n    .dataframe tbody tr th:only-of-type {\n        vertical-align: middle;\n    }\n\n    .dataframe tbody tr th {\n        vertical-align: top;\n    }\n\n    .dataframe thead th {\n        text-align: right;\n    }\n</style>\n<table border=\"1\" class=\"dataframe\">\n  <thead>\n    <tr style=\"text-align: right;\">\n      <th></th>\n      <th>日期</th>\n      <th>公司</th>\n      <th>收盘</th>\n      <th>开盘</th>\n      <th>高</th>\n      <th>低</th>\n      <th>交易量</th>\n      <th>涨跌幅</th>\n    </tr>\n  </thead>\n  <tbody>\n    <tr>\n      <td>0</td>\n      <td>2019-10-10</td>\n      <td>BIDU</td>\n      <td>103.85</td>\n      <td>100.79</td>\n      <td>104.74</td>\n      <td>100.26</td>\n      <td>3.56</td>\n      <td>0.04</td>\n    </tr>\n    <tr>\n      <td>1</td>\n      <td>2019-10-09</td>\n      <td>BIDU</td>\n      <td>99.90</td>\n      <td>100.29</td>\n      <td>100.63</td>\n      <td>98.55</td>\n      <td>3.41</td>\n      <td>0.00</td>\n    </tr>\n    <tr>\n      <td>2</td>\n      <td>2019-10-08</td>\n      <td>BIDU</td>\n      <td>99.53</td>\n      <td>99.50</td>\n      <td>100.56</td>\n      <td>98.20</td>\n      <td>4.43</td>\n      <td>-0.02</td>\n    </tr>\n    <tr>\n      <td>3</td>\n      <td>2019-10-07</td>\n      <td>BIDU</td>\n      <td>101.47</td>\n      <td>103.79</td>\n      <td>103.99</td>\n      <td>101.17</td>\n      <td>3.40</td>\n      <td>-0.03</td>\n    </tr>\n    <tr>\n      <td>4</td>\n      <td>2019-10-04</td>\n      <td>BIDU</td>\n      <td>104.47</td>\n      <td>103.83</td>\n      <td>105.10</td>\n      <td>103.29</td>\n      <td>1.69</td>\n      <td>0.00</td>\n    </tr>\n  </tbody>\n</table>\n</div>"
     },
     "metadata": {},
     "execution_count": 68
    }
   ],
   "source": [
    "stocks = pd.read_excel('../datas/stocks/互联网公司股票-02.xlsx')\n",
    "stocks.head()"
   ]
  },
  {
   "cell_type": "code",
   "execution_count": 70,
   "metadata": {},
   "outputs": [
    {
     "output_type": "execute_result",
     "data": {
      "text/plain": [
       "公司    日期        \n",
       "BABA  2019-10-01    165.15\n",
       "      2019-10-02    165.77\n",
       "      2019-10-03    169.48\n",
       "      2019-10-04    170.34\n",
       "      2019-10-07    168.32\n",
       "      2019-10-08    161.93\n",
       "      2019-10-09    165.19\n",
       "      2019-10-10    166.07\n",
       "BIDU  2019-10-01    102.00\n",
       "      2019-10-02    102.62\n",
       "      2019-10-03    104.32\n",
       "      2019-10-04    104.47\n",
       "      2019-10-07    101.47\n",
       "      2019-10-08     99.53\n",
       "      2019-10-09     99.90\n",
       "      2019-10-10    103.85\n",
       "IQ    2019-10-01     15.92\n",
       "      2019-10-02     15.72\n",
       "      2019-10-03     16.06\n",
       "      2019-10-04     16.39\n",
       "      2019-10-07     16.18\n",
       "      2019-10-08     15.69\n",
       "      2019-10-09     15.74\n",
       "      2019-10-10     15.71\n",
       "JD    2019-10-01     28.19\n",
       "      2019-10-02     28.06\n",
       "      2019-10-03     28.80\n",
       "      2019-10-04     28.99\n",
       "      2019-10-07     28.85\n",
       "      2019-10-08     27.73\n",
       "      2019-10-09     28.38\n",
       "      2019-10-10     28.58\n",
       "Name: 收盘, dtype: float64"
      ]
     },
     "metadata": {},
     "execution_count": 70
    }
   ],
   "source": [
    "se = stocks.groupby(['公司','日期'])['收盘'].mean()\n",
    "se"
   ]
  },
  {
   "cell_type": "code",
   "execution_count": 72,
   "metadata": {},
   "outputs": [
    {
     "output_type": "execute_result",
     "data": {
      "text/plain": [
       "日期    2019-10-01  2019-10-02  2019-10-03  2019-10-04  2019-10-07  2019-10-08  \\\n",
       "公司                                                                             \n",
       "BABA      165.15      165.77      169.48      170.34      168.32      161.93   \n",
       "BIDU      102.00      102.62      104.32      104.47      101.47       99.53   \n",
       "IQ         15.92       15.72       16.06       16.39       16.18       15.69   \n",
       "JD         28.19       28.06       28.80       28.99       28.85       27.73   \n",
       "\n",
       "日期    2019-10-09  2019-10-10  \n",
       "公司                            \n",
       "BABA      165.19      166.07  \n",
       "BIDU       99.90      103.85  \n",
       "IQ         15.74       15.71  \n",
       "JD         28.38       28.58  "
      ],
      "text/html": "<div>\n<style scoped>\n    .dataframe tbody tr th:only-of-type {\n        vertical-align: middle;\n    }\n\n    .dataframe tbody tr th {\n        vertical-align: top;\n    }\n\n    .dataframe thead th {\n        text-align: right;\n    }\n</style>\n<table border=\"1\" class=\"dataframe\">\n  <thead>\n    <tr style=\"text-align: right;\">\n      <th>日期</th>\n      <th>2019-10-01</th>\n      <th>2019-10-02</th>\n      <th>2019-10-03</th>\n      <th>2019-10-04</th>\n      <th>2019-10-07</th>\n      <th>2019-10-08</th>\n      <th>2019-10-09</th>\n      <th>2019-10-10</th>\n    </tr>\n    <tr>\n      <th>公司</th>\n      <th></th>\n      <th></th>\n      <th></th>\n      <th></th>\n      <th></th>\n      <th></th>\n      <th></th>\n      <th></th>\n    </tr>\n  </thead>\n  <tbody>\n    <tr>\n      <td>BABA</td>\n      <td>165.15</td>\n      <td>165.77</td>\n      <td>169.48</td>\n      <td>170.34</td>\n      <td>168.32</td>\n      <td>161.93</td>\n      <td>165.19</td>\n      <td>166.07</td>\n    </tr>\n    <tr>\n      <td>BIDU</td>\n      <td>102.00</td>\n      <td>102.62</td>\n      <td>104.32</td>\n      <td>104.47</td>\n      <td>101.47</td>\n      <td>99.53</td>\n      <td>99.90</td>\n      <td>103.85</td>\n    </tr>\n    <tr>\n      <td>IQ</td>\n      <td>15.92</td>\n      <td>15.72</td>\n      <td>16.06</td>\n      <td>16.39</td>\n      <td>16.18</td>\n      <td>15.69</td>\n      <td>15.74</td>\n      <td>15.71</td>\n    </tr>\n    <tr>\n      <td>JD</td>\n      <td>28.19</td>\n      <td>28.06</td>\n      <td>28.80</td>\n      <td>28.99</td>\n      <td>28.85</td>\n      <td>27.73</td>\n      <td>28.38</td>\n      <td>28.58</td>\n    </tr>\n  </tbody>\n</table>\n</div>"
     },
     "metadata": {},
     "execution_count": 72
    }
   ],
   "source": [
    "# 二级索引变为列\n",
    "unse = se.unstack()\n",
    "unse"
   ]
  },
  {
   "cell_type": "code",
   "execution_count": 75,
   "metadata": {},
   "outputs": [
    {
     "output_type": "execute_result",
     "data": {
      "text/plain": [
       "公司    日期        \n",
       "BABA  2019-10-01    165.15\n",
       "      2019-10-02    165.77\n",
       "      2019-10-03    169.48\n",
       "      2019-10-04    170.34\n",
       "      2019-10-07    168.32\n",
       "      2019-10-08    161.93\n",
       "      2019-10-09    165.19\n",
       "      2019-10-10    166.07\n",
       "BIDU  2019-10-01    102.00\n",
       "      2019-10-02    102.62\n",
       "      2019-10-03    104.32\n",
       "      2019-10-04    104.47\n",
       "      2019-10-07    101.47\n",
       "      2019-10-08     99.53\n",
       "      2019-10-09     99.90\n",
       "      2019-10-10    103.85\n",
       "IQ    2019-10-01     15.92\n",
       "      2019-10-02     15.72\n",
       "      2019-10-03     16.06\n",
       "      2019-10-04     16.39\n",
       "      2019-10-07     16.18\n",
       "      2019-10-08     15.69\n",
       "      2019-10-09     15.74\n",
       "      2019-10-10     15.71\n",
       "JD    2019-10-01     28.19\n",
       "      2019-10-02     28.06\n",
       "      2019-10-03     28.80\n",
       "      2019-10-04     28.99\n",
       "      2019-10-07     28.85\n",
       "      2019-10-08     27.73\n",
       "      2019-10-09     28.38\n",
       "      2019-10-10     28.58\n",
       "dtype: float64"
      ]
     },
     "metadata": {},
     "execution_count": 75
    }
   ],
   "source": [
    "# 二维变一维数据\n",
    "unse.stack()"
   ]
  },
  {
   "cell_type": "code",
   "execution_count": 78,
   "metadata": {},
   "outputs": [
    {
     "output_type": "execute_result",
     "data": {
      "text/plain": [
       "      公司          日期      收盘\n",
       "0   BABA  2019-10-01  165.15\n",
       "1   BABA  2019-10-02  165.77\n",
       "2   BABA  2019-10-03  169.48\n",
       "3   BABA  2019-10-04  170.34\n",
       "4   BABA  2019-10-07  168.32\n",
       "5   BABA  2019-10-08  161.93\n",
       "6   BABA  2019-10-09  165.19\n",
       "7   BABA  2019-10-10  166.07\n",
       "8   BIDU  2019-10-01  102.00\n",
       "9   BIDU  2019-10-02  102.62\n",
       "10  BIDU  2019-10-03  104.32\n",
       "11  BIDU  2019-10-04  104.47\n",
       "12  BIDU  2019-10-07  101.47\n",
       "13  BIDU  2019-10-08   99.53\n",
       "14  BIDU  2019-10-09   99.90\n",
       "15  BIDU  2019-10-10  103.85\n",
       "16    IQ  2019-10-01   15.92\n",
       "17    IQ  2019-10-02   15.72\n",
       "18    IQ  2019-10-03   16.06\n",
       "19    IQ  2019-10-04   16.39\n",
       "20    IQ  2019-10-07   16.18\n",
       "21    IQ  2019-10-08   15.69\n",
       "22    IQ  2019-10-09   15.74\n",
       "23    IQ  2019-10-10   15.71\n",
       "24    JD  2019-10-01   28.19\n",
       "25    JD  2019-10-02   28.06\n",
       "26    JD  2019-10-03   28.80\n",
       "27    JD  2019-10-04   28.99\n",
       "28    JD  2019-10-07   28.85\n",
       "29    JD  2019-10-08   27.73\n",
       "30    JD  2019-10-09   28.38\n",
       "31    JD  2019-10-10   28.58"
      ],
      "text/html": "<div>\n<style scoped>\n    .dataframe tbody tr th:only-of-type {\n        vertical-align: middle;\n    }\n\n    .dataframe tbody tr th {\n        vertical-align: top;\n    }\n\n    .dataframe thead th {\n        text-align: right;\n    }\n</style>\n<table border=\"1\" class=\"dataframe\">\n  <thead>\n    <tr style=\"text-align: right;\">\n      <th></th>\n      <th>公司</th>\n      <th>日期</th>\n      <th>收盘</th>\n    </tr>\n  </thead>\n  <tbody>\n    <tr>\n      <td>0</td>\n      <td>BABA</td>\n      <td>2019-10-01</td>\n      <td>165.15</td>\n    </tr>\n    <tr>\n      <td>1</td>\n      <td>BABA</td>\n      <td>2019-10-02</td>\n      <td>165.77</td>\n    </tr>\n    <tr>\n      <td>2</td>\n      <td>BABA</td>\n      <td>2019-10-03</td>\n      <td>169.48</td>\n    </tr>\n    <tr>\n      <td>3</td>\n      <td>BABA</td>\n      <td>2019-10-04</td>\n      <td>170.34</td>\n    </tr>\n    <tr>\n      <td>4</td>\n      <td>BABA</td>\n      <td>2019-10-07</td>\n      <td>168.32</td>\n    </tr>\n    <tr>\n      <td>5</td>\n      <td>BABA</td>\n      <td>2019-10-08</td>\n      <td>161.93</td>\n    </tr>\n    <tr>\n      <td>6</td>\n      <td>BABA</td>\n      <td>2019-10-09</td>\n      <td>165.19</td>\n    </tr>\n    <tr>\n      <td>7</td>\n      <td>BABA</td>\n      <td>2019-10-10</td>\n      <td>166.07</td>\n    </tr>\n    <tr>\n      <td>8</td>\n      <td>BIDU</td>\n      <td>2019-10-01</td>\n      <td>102.00</td>\n    </tr>\n    <tr>\n      <td>9</td>\n      <td>BIDU</td>\n      <td>2019-10-02</td>\n      <td>102.62</td>\n    </tr>\n    <tr>\n      <td>10</td>\n      <td>BIDU</td>\n      <td>2019-10-03</td>\n      <td>104.32</td>\n    </tr>\n    <tr>\n      <td>11</td>\n      <td>BIDU</td>\n      <td>2019-10-04</td>\n      <td>104.47</td>\n    </tr>\n    <tr>\n      <td>12</td>\n      <td>BIDU</td>\n      <td>2019-10-07</td>\n      <td>101.47</td>\n    </tr>\n    <tr>\n      <td>13</td>\n      <td>BIDU</td>\n      <td>2019-10-08</td>\n      <td>99.53</td>\n    </tr>\n    <tr>\n      <td>14</td>\n      <td>BIDU</td>\n      <td>2019-10-09</td>\n      <td>99.90</td>\n    </tr>\n    <tr>\n      <td>15</td>\n      <td>BIDU</td>\n      <td>2019-10-10</td>\n      <td>103.85</td>\n    </tr>\n    <tr>\n      <td>16</td>\n      <td>IQ</td>\n      <td>2019-10-01</td>\n      <td>15.92</td>\n    </tr>\n    <tr>\n      <td>17</td>\n      <td>IQ</td>\n      <td>2019-10-02</td>\n      <td>15.72</td>\n    </tr>\n    <tr>\n      <td>18</td>\n      <td>IQ</td>\n      <td>2019-10-03</td>\n      <td>16.06</td>\n    </tr>\n    <tr>\n      <td>19</td>\n      <td>IQ</td>\n      <td>2019-10-04</td>\n      <td>16.39</td>\n    </tr>\n    <tr>\n      <td>20</td>\n      <td>IQ</td>\n      <td>2019-10-07</td>\n      <td>16.18</td>\n    </tr>\n    <tr>\n      <td>21</td>\n      <td>IQ</td>\n      <td>2019-10-08</td>\n      <td>15.69</td>\n    </tr>\n    <tr>\n      <td>22</td>\n      <td>IQ</td>\n      <td>2019-10-09</td>\n      <td>15.74</td>\n    </tr>\n    <tr>\n      <td>23</td>\n      <td>IQ</td>\n      <td>2019-10-10</td>\n      <td>15.71</td>\n    </tr>\n    <tr>\n      <td>24</td>\n      <td>JD</td>\n      <td>2019-10-01</td>\n      <td>28.19</td>\n    </tr>\n    <tr>\n      <td>25</td>\n      <td>JD</td>\n      <td>2019-10-02</td>\n      <td>28.06</td>\n    </tr>\n    <tr>\n      <td>26</td>\n      <td>JD</td>\n      <td>2019-10-03</td>\n      <td>28.80</td>\n    </tr>\n    <tr>\n      <td>27</td>\n      <td>JD</td>\n      <td>2019-10-04</td>\n      <td>28.99</td>\n    </tr>\n    <tr>\n      <td>28</td>\n      <td>JD</td>\n      <td>2019-10-07</td>\n      <td>28.85</td>\n    </tr>\n    <tr>\n      <td>29</td>\n      <td>JD</td>\n      <td>2019-10-08</td>\n      <td>27.73</td>\n    </tr>\n    <tr>\n      <td>30</td>\n      <td>JD</td>\n      <td>2019-10-09</td>\n      <td>28.38</td>\n    </tr>\n    <tr>\n      <td>31</td>\n      <td>JD</td>\n      <td>2019-10-10</td>\n      <td>28.58</td>\n    </tr>\n  </tbody>\n</table>\n</div>"
     },
     "metadata": {},
     "execution_count": 78
    }
   ],
   "source": [
    "# 铺平索引，二维索引变一维索引\n",
    "se.reset_index()"
   ]
  },
  {
   "cell_type": "code",
   "execution_count": 84,
   "metadata": {},
   "outputs": [
    {
     "output_type": "execute_result",
     "data": {
      "text/plain": [
       "公司\n",
       "BABA    165.15\n",
       "BIDU    102.00\n",
       "IQ       15.92\n",
       "JD       28.19\n",
       "Name: 收盘, dtype: float64"
      ]
     },
     "metadata": {},
     "execution_count": 84
    }
   ],
   "source": [
    "# 查看具体日期所有公司数据\n",
    "se[(slice(None),'2019-10-01')]"
   ]
  },
  {
   "cell_type": "code",
   "execution_count": 85,
   "metadata": {},
   "outputs": [
    {
     "output_type": "execute_result",
     "data": {
      "text/plain": [
       "日期\n",
       "2019-10-01    28.19\n",
       "2019-10-02    28.06\n",
       "2019-10-03    28.80\n",
       "2019-10-04    28.99\n",
       "2019-10-07    28.85\n",
       "2019-10-08    27.73\n",
       "2019-10-09    28.38\n",
       "2019-10-10    28.58\n",
       "Name: 收盘, dtype: float64"
      ]
     },
     "metadata": {},
     "execution_count": 85
    }
   ],
   "source": [
    "# 查看标签数据\n",
    "se['JD']"
   ]
  },
  {
   "cell_type": "code",
   "execution_count": 87,
   "metadata": {},
   "outputs": [
    {
     "output_type": "execute_result",
     "data": {
      "text/plain": [
       "公司  日期        \n",
       "IQ  2019-10-01    15.92\n",
       "    2019-10-02    15.72\n",
       "    2019-10-03    16.06\n",
       "    2019-10-04    16.39\n",
       "    2019-10-07    16.18\n",
       "    2019-10-08    15.69\n",
       "    2019-10-09    15.74\n",
       "    2019-10-10    15.71\n",
       "JD  2019-10-01    28.19\n",
       "    2019-10-02    28.06\n",
       "    2019-10-03    28.80\n",
       "    2019-10-04    28.99\n",
       "    2019-10-07    28.85\n",
       "    2019-10-08    27.73\n",
       "    2019-10-09    28.38\n",
       "    2019-10-10    28.58\n",
       "Name: 收盘, dtype: float64"
      ]
     },
     "metadata": {},
     "execution_count": 87
    }
   ],
   "source": [
    "se[['JD','IQ']]"
   ]
  },
  {
   "cell_type": "code",
   "execution_count": 93,
   "metadata": {},
   "outputs": [
    {
     "output_type": "execute_result",
     "data": {
      "text/plain": [
       "公司  日期        \n",
       "IQ  2019-10-01    15.92\n",
       "    2019-10-09    15.74\n",
       "JD  2019-10-01    28.19\n",
       "    2019-10-09    28.38\n",
       "Name: 收盘, dtype: float64"
      ]
     },
     "metadata": {},
     "execution_count": 93
    }
   ],
   "source": [
    "# 查询多个公司，多个日期数据\n",
    "se.loc[(['JD','IQ'],['2019-10-09', '2019-10-01'])]"
   ]
  },
  {
   "cell_type": "code",
   "execution_count": 102,
   "metadata": {},
   "outputs": [
    {
     "output_type": "execute_result",
     "data": {
      "text/plain": [
       "公司    日期        \n",
       "BABA  2019-10-01    165.15\n",
       "      2019-10-09    165.19\n",
       "BIDU  2019-10-01    102.00\n",
       "      2019-10-09     99.90\n",
       "IQ    2019-10-01     15.92\n",
       "      2019-10-09     15.74\n",
       "JD    2019-10-01     28.19\n",
       "      2019-10-09     28.38\n",
       "Name: 收盘, dtype: float64"
      ]
     },
     "metadata": {},
     "execution_count": 102
    }
   ],
   "source": [
    "se.loc[(slice(None), ['2019-10-01','2019-10-09'])]"
   ]
  },
  {
   "cell_type": "code",
   "execution_count": 114,
   "metadata": {},
   "outputs": [
    {
     "output_type": "execute_result",
     "data": {
      "text/plain": [
       "公司\n",
       "BABA    165.15\n",
       "BIDU    102.00\n",
       "IQ       15.92\n",
       "JD       28.19\n",
       "Name: 收盘, dtype: float64"
      ]
     },
     "metadata": {},
     "execution_count": 114
    }
   ],
   "source": [
    "# se[:, '2019-10-01']等同于下面的\n",
    "se[slice(None),'2019-10-01']"
   ]
  },
  {
   "cell_type": "code",
   "execution_count": 115,
   "metadata": {},
   "outputs": [
    {
     "output_type": "execute_result",
     "data": {
      "text/plain": [
       "                     收盘      开盘       高       低    交易量   涨跌幅\n",
       "公司   日期                                                     \n",
       "BIDU 2019-10-10  103.85  100.79  104.74  100.26   3.56  0.04\n",
       "     2019-10-09   99.90  100.29  100.63   98.55   3.41  0.00\n",
       "     2019-10-08   99.53   99.50  100.56   98.20   4.43 -0.02\n",
       "     2019-10-07  101.47  103.79  103.99  101.17   3.40 -0.03\n",
       "     2019-10-04  104.47  103.83  105.10  103.29   1.69  0.00\n",
       "     2019-10-03  104.32  102.35  104.73  101.15   2.24  0.02\n",
       "     2019-10-02  102.62  100.85  103.24   99.50   2.69  0.01\n",
       "     2019-10-01  102.00  102.80  103.26  101.00   1.78 -0.01\n",
       "BABA 2019-10-10  166.07  165.96  168.57  164.09  11.54  0.01\n",
       "     2019-10-09  165.19  165.50  166.58  163.42  11.19  0.02\n",
       "     2019-10-08  161.93  164.30  165.22  161.68  15.94 -0.04\n",
       "     2019-10-07  168.32  168.83  172.30  167.21  12.03 -0.01\n",
       "     2019-10-04  170.34  169.60  170.70  167.56   8.86  0.01\n",
       "     2019-10-03  169.48  166.65  170.18  165.00  10.39  0.02\n",
       "     2019-10-02  165.77  162.82  166.88  161.90  11.60  0.00\n",
       "     2019-10-01  165.15  168.01  168.23  163.64  14.19 -0.01\n",
       "IQ   2019-10-10   15.71   15.74   15.90   15.53   5.58  0.00\n",
       "     2019-10-09   15.74   15.95   16.08   15.64   4.07  0.00\n",
       "     2019-10-08   15.69   15.90   15.98   15.55   5.66 -0.03\n",
       "     2019-10-07   16.18   16.29   16.50   15.90   6.10 -0.01\n",
       "     2019-10-04   16.39   16.12   16.90   16.10   7.23  0.02\n",
       "     2019-10-03   16.06   15.71   16.38   15.32  10.08  0.02\n",
       "     2019-10-02   15.72   15.85   15.87   15.12   8.10 -0.01\n",
       "     2019-10-01   15.92   16.14   16.22   15.50  11.65 -0.01\n",
       "JD   2019-10-10   28.58   28.32   28.95   28.20   8.21  0.01\n",
       "     2019-10-09   28.38   28.28   28.60   27.96   8.45  0.02\n",
       "     2019-10-08   27.73   28.19   28.61   27.72  11.74 -0.04\n",
       "     2019-10-07   28.85   28.84   29.40   28.60   9.09  0.00\n",
       "     2019-10-04   28.99   28.88   29.19   28.65   7.43  0.01\n",
       "     2019-10-03   28.80   28.11   28.97   27.82   8.77  0.03\n",
       "     2019-10-02   28.06   28.00   28.22   27.53   9.53  0.00\n",
       "     2019-10-01   28.19   28.22   28.57   27.97  10.64  0.00"
      ],
      "text/html": "<div>\n<style scoped>\n    .dataframe tbody tr th:only-of-type {\n        vertical-align: middle;\n    }\n\n    .dataframe tbody tr th {\n        vertical-align: top;\n    }\n\n    .dataframe thead th {\n        text-align: right;\n    }\n</style>\n<table border=\"1\" class=\"dataframe\">\n  <thead>\n    <tr style=\"text-align: right;\">\n      <th></th>\n      <th></th>\n      <th>收盘</th>\n      <th>开盘</th>\n      <th>高</th>\n      <th>低</th>\n      <th>交易量</th>\n      <th>涨跌幅</th>\n    </tr>\n    <tr>\n      <th>公司</th>\n      <th>日期</th>\n      <th></th>\n      <th></th>\n      <th></th>\n      <th></th>\n      <th></th>\n      <th></th>\n    </tr>\n  </thead>\n  <tbody>\n    <tr>\n      <td rowspan=\"8\" valign=\"top\">BIDU</td>\n      <td>2019-10-10</td>\n      <td>103.85</td>\n      <td>100.79</td>\n      <td>104.74</td>\n      <td>100.26</td>\n      <td>3.56</td>\n      <td>0.04</td>\n    </tr>\n    <tr>\n      <td>2019-10-09</td>\n      <td>99.90</td>\n      <td>100.29</td>\n      <td>100.63</td>\n      <td>98.55</td>\n      <td>3.41</td>\n      <td>0.00</td>\n    </tr>\n    <tr>\n      <td>2019-10-08</td>\n      <td>99.53</td>\n      <td>99.50</td>\n      <td>100.56</td>\n      <td>98.20</td>\n      <td>4.43</td>\n      <td>-0.02</td>\n    </tr>\n    <tr>\n      <td>2019-10-07</td>\n      <td>101.47</td>\n      <td>103.79</td>\n      <td>103.99</td>\n      <td>101.17</td>\n      <td>3.40</td>\n      <td>-0.03</td>\n    </tr>\n    <tr>\n      <td>2019-10-04</td>\n      <td>104.47</td>\n      <td>103.83</td>\n      <td>105.10</td>\n      <td>103.29</td>\n      <td>1.69</td>\n      <td>0.00</td>\n    </tr>\n    <tr>\n      <td>2019-10-03</td>\n      <td>104.32</td>\n      <td>102.35</td>\n      <td>104.73</td>\n      <td>101.15</td>\n      <td>2.24</td>\n      <td>0.02</td>\n    </tr>\n    <tr>\n      <td>2019-10-02</td>\n      <td>102.62</td>\n      <td>100.85</td>\n      <td>103.24</td>\n      <td>99.50</td>\n      <td>2.69</td>\n      <td>0.01</td>\n    </tr>\n    <tr>\n      <td>2019-10-01</td>\n      <td>102.00</td>\n      <td>102.80</td>\n      <td>103.26</td>\n      <td>101.00</td>\n      <td>1.78</td>\n      <td>-0.01</td>\n    </tr>\n    <tr>\n      <td rowspan=\"8\" valign=\"top\">BABA</td>\n      <td>2019-10-10</td>\n      <td>166.07</td>\n      <td>165.96</td>\n      <td>168.57</td>\n      <td>164.09</td>\n      <td>11.54</td>\n      <td>0.01</td>\n    </tr>\n    <tr>\n      <td>2019-10-09</td>\n      <td>165.19</td>\n      <td>165.50</td>\n      <td>166.58</td>\n      <td>163.42</td>\n      <td>11.19</td>\n      <td>0.02</td>\n    </tr>\n    <tr>\n      <td>2019-10-08</td>\n      <td>161.93</td>\n      <td>164.30</td>\n      <td>165.22</td>\n      <td>161.68</td>\n      <td>15.94</td>\n      <td>-0.04</td>\n    </tr>\n    <tr>\n      <td>2019-10-07</td>\n      <td>168.32</td>\n      <td>168.83</td>\n      <td>172.30</td>\n      <td>167.21</td>\n      <td>12.03</td>\n      <td>-0.01</td>\n    </tr>\n    <tr>\n      <td>2019-10-04</td>\n      <td>170.34</td>\n      <td>169.60</td>\n      <td>170.70</td>\n      <td>167.56</td>\n      <td>8.86</td>\n      <td>0.01</td>\n    </tr>\n    <tr>\n      <td>2019-10-03</td>\n      <td>169.48</td>\n      <td>166.65</td>\n      <td>170.18</td>\n      <td>165.00</td>\n      <td>10.39</td>\n      <td>0.02</td>\n    </tr>\n    <tr>\n      <td>2019-10-02</td>\n      <td>165.77</td>\n      <td>162.82</td>\n      <td>166.88</td>\n      <td>161.90</td>\n      <td>11.60</td>\n      <td>0.00</td>\n    </tr>\n    <tr>\n      <td>2019-10-01</td>\n      <td>165.15</td>\n      <td>168.01</td>\n      <td>168.23</td>\n      <td>163.64</td>\n      <td>14.19</td>\n      <td>-0.01</td>\n    </tr>\n    <tr>\n      <td rowspan=\"8\" valign=\"top\">IQ</td>\n      <td>2019-10-10</td>\n      <td>15.71</td>\n      <td>15.74</td>\n      <td>15.90</td>\n      <td>15.53</td>\n      <td>5.58</td>\n      <td>0.00</td>\n    </tr>\n    <tr>\n      <td>2019-10-09</td>\n      <td>15.74</td>\n      <td>15.95</td>\n      <td>16.08</td>\n      <td>15.64</td>\n      <td>4.07</td>\n      <td>0.00</td>\n    </tr>\n    <tr>\n      <td>2019-10-08</td>\n      <td>15.69</td>\n      <td>15.90</td>\n      <td>15.98</td>\n      <td>15.55</td>\n      <td>5.66</td>\n      <td>-0.03</td>\n    </tr>\n    <tr>\n      <td>2019-10-07</td>\n      <td>16.18</td>\n      <td>16.29</td>\n      <td>16.50</td>\n      <td>15.90</td>\n      <td>6.10</td>\n      <td>-0.01</td>\n    </tr>\n    <tr>\n      <td>2019-10-04</td>\n      <td>16.39</td>\n      <td>16.12</td>\n      <td>16.90</td>\n      <td>16.10</td>\n      <td>7.23</td>\n      <td>0.02</td>\n    </tr>\n    <tr>\n      <td>2019-10-03</td>\n      <td>16.06</td>\n      <td>15.71</td>\n      <td>16.38</td>\n      <td>15.32</td>\n      <td>10.08</td>\n      <td>0.02</td>\n    </tr>\n    <tr>\n      <td>2019-10-02</td>\n      <td>15.72</td>\n      <td>15.85</td>\n      <td>15.87</td>\n      <td>15.12</td>\n      <td>8.10</td>\n      <td>-0.01</td>\n    </tr>\n    <tr>\n      <td>2019-10-01</td>\n      <td>15.92</td>\n      <td>16.14</td>\n      <td>16.22</td>\n      <td>15.50</td>\n      <td>11.65</td>\n      <td>-0.01</td>\n    </tr>\n    <tr>\n      <td rowspan=\"8\" valign=\"top\">JD</td>\n      <td>2019-10-10</td>\n      <td>28.58</td>\n      <td>28.32</td>\n      <td>28.95</td>\n      <td>28.20</td>\n      <td>8.21</td>\n      <td>0.01</td>\n    </tr>\n    <tr>\n      <td>2019-10-09</td>\n      <td>28.38</td>\n      <td>28.28</td>\n      <td>28.60</td>\n      <td>27.96</td>\n      <td>8.45</td>\n      <td>0.02</td>\n    </tr>\n    <tr>\n      <td>2019-10-08</td>\n      <td>27.73</td>\n      <td>28.19</td>\n      <td>28.61</td>\n      <td>27.72</td>\n      <td>11.74</td>\n      <td>-0.04</td>\n    </tr>\n    <tr>\n      <td>2019-10-07</td>\n      <td>28.85</td>\n      <td>28.84</td>\n      <td>29.40</td>\n      <td>28.60</td>\n      <td>9.09</td>\n      <td>0.00</td>\n    </tr>\n    <tr>\n      <td>2019-10-04</td>\n      <td>28.99</td>\n      <td>28.88</td>\n      <td>29.19</td>\n      <td>28.65</td>\n      <td>7.43</td>\n      <td>0.01</td>\n    </tr>\n    <tr>\n      <td>2019-10-03</td>\n      <td>28.80</td>\n      <td>28.11</td>\n      <td>28.97</td>\n      <td>27.82</td>\n      <td>8.77</td>\n      <td>0.03</td>\n    </tr>\n    <tr>\n      <td>2019-10-02</td>\n      <td>28.06</td>\n      <td>28.00</td>\n      <td>28.22</td>\n      <td>27.53</td>\n      <td>9.53</td>\n      <td>0.00</td>\n    </tr>\n    <tr>\n      <td>2019-10-01</td>\n      <td>28.19</td>\n      <td>28.22</td>\n      <td>28.57</td>\n      <td>27.97</td>\n      <td>10.64</td>\n      <td>0.00</td>\n    </tr>\n  </tbody>\n</table>\n</div>"
     },
     "metadata": {},
     "execution_count": 115
    }
   ],
   "source": [
    "stocks.set_index(['公司', '日期'], inplace=True)\n",
    "stocks"
   ]
  },
  {
   "cell_type": "code",
   "execution_count": 125,
   "metadata": {},
   "outputs": [
    {
     "output_type": "execute_result",
     "data": {
      "text/plain": [
       "                收盘      开盘       高       低    交易量   涨跌幅\n",
       "日期                                                     \n",
       "2019-10-10  166.07  165.96  168.57  164.09  11.54  0.01\n",
       "2019-10-09  165.19  165.50  166.58  163.42  11.19  0.02\n",
       "2019-10-08  161.93  164.30  165.22  161.68  15.94 -0.04\n",
       "2019-10-07  168.32  168.83  172.30  167.21  12.03 -0.01\n",
       "2019-10-04  170.34  169.60  170.70  167.56   8.86  0.01\n",
       "2019-10-03  169.48  166.65  170.18  165.00  10.39  0.02\n",
       "2019-10-02  165.77  162.82  166.88  161.90  11.60  0.00\n",
       "2019-10-01  165.15  168.01  168.23  163.64  14.19 -0.01"
      ],
      "text/html": "<div>\n<style scoped>\n    .dataframe tbody tr th:only-of-type {\n        vertical-align: middle;\n    }\n\n    .dataframe tbody tr th {\n        vertical-align: top;\n    }\n\n    .dataframe thead th {\n        text-align: right;\n    }\n</style>\n<table border=\"1\" class=\"dataframe\">\n  <thead>\n    <tr style=\"text-align: right;\">\n      <th></th>\n      <th>收盘</th>\n      <th>开盘</th>\n      <th>高</th>\n      <th>低</th>\n      <th>交易量</th>\n      <th>涨跌幅</th>\n    </tr>\n    <tr>\n      <th>日期</th>\n      <th></th>\n      <th></th>\n      <th></th>\n      <th></th>\n      <th></th>\n      <th></th>\n    </tr>\n  </thead>\n  <tbody>\n    <tr>\n      <td>2019-10-10</td>\n      <td>166.07</td>\n      <td>165.96</td>\n      <td>168.57</td>\n      <td>164.09</td>\n      <td>11.54</td>\n      <td>0.01</td>\n    </tr>\n    <tr>\n      <td>2019-10-09</td>\n      <td>165.19</td>\n      <td>165.50</td>\n      <td>166.58</td>\n      <td>163.42</td>\n      <td>11.19</td>\n      <td>0.02</td>\n    </tr>\n    <tr>\n      <td>2019-10-08</td>\n      <td>161.93</td>\n      <td>164.30</td>\n      <td>165.22</td>\n      <td>161.68</td>\n      <td>15.94</td>\n      <td>-0.04</td>\n    </tr>\n    <tr>\n      <td>2019-10-07</td>\n      <td>168.32</td>\n      <td>168.83</td>\n      <td>172.30</td>\n      <td>167.21</td>\n      <td>12.03</td>\n      <td>-0.01</td>\n    </tr>\n    <tr>\n      <td>2019-10-04</td>\n      <td>170.34</td>\n      <td>169.60</td>\n      <td>170.70</td>\n      <td>167.56</td>\n      <td>8.86</td>\n      <td>0.01</td>\n    </tr>\n    <tr>\n      <td>2019-10-03</td>\n      <td>169.48</td>\n      <td>166.65</td>\n      <td>170.18</td>\n      <td>165.00</td>\n      <td>10.39</td>\n      <td>0.02</td>\n    </tr>\n    <tr>\n      <td>2019-10-02</td>\n      <td>165.77</td>\n      <td>162.82</td>\n      <td>166.88</td>\n      <td>161.90</td>\n      <td>11.60</td>\n      <td>0.00</td>\n    </tr>\n    <tr>\n      <td>2019-10-01</td>\n      <td>165.15</td>\n      <td>168.01</td>\n      <td>168.23</td>\n      <td>163.64</td>\n      <td>14.19</td>\n      <td>-0.01</td>\n    </tr>\n  </tbody>\n</table>\n</div>"
     },
     "metadata": {},
     "execution_count": 125
    }
   ],
   "source": [
    "stocks.loc['BABA']"
   ]
  },
  {
   "cell_type": "code",
   "execution_count": 131,
   "metadata": {},
   "outputs": [
    {
     "output_type": "execute_result",
     "data": {
      "text/plain": [
       "公司    日期        \n",
       "BABA  2019-10-10    166.07\n",
       "      2019-10-09    165.19\n",
       "      2019-10-08    161.93\n",
       "      2019-10-07    168.32\n",
       "      2019-10-04    170.34\n",
       "      2019-10-03    169.48\n",
       "      2019-10-02    165.77\n",
       "      2019-10-01    165.15\n",
       "JD    2019-10-10     28.58\n",
       "      2019-10-09     28.38\n",
       "      2019-10-08     27.73\n",
       "      2019-10-07     28.85\n",
       "      2019-10-04     28.99\n",
       "      2019-10-03     28.80\n",
       "      2019-10-02     28.06\n",
       "      2019-10-01     28.19\n",
       "Name: 收盘, dtype: float64"
      ]
     },
     "metadata": {},
     "execution_count": 131
    }
   ],
   "source": [
    "# 获取公司收盘价\n",
    "stocks.loc[['BABA', 'JD']]['收盘']"
   ]
  },
  {
   "cell_type": "code",
   "execution_count": 132,
   "metadata": {},
   "outputs": [
    {
     "output_type": "execute_result",
     "data": {
      "text/plain": [
       "                     收盘      开盘       高       低    交易量   涨跌幅\n",
       "公司   日期                                                     \n",
       "BABA 2019-10-01  165.15  168.01  168.23  163.64  14.19 -0.01\n",
       "     2019-10-02  165.77  162.82  166.88  161.90  11.60  0.00\n",
       "     2019-10-03  169.48  166.65  170.18  165.00  10.39  0.02\n",
       "     2019-10-04  170.34  169.60  170.70  167.56   8.86  0.01\n",
       "     2019-10-07  168.32  168.83  172.30  167.21  12.03 -0.01\n",
       "     2019-10-08  161.93  164.30  165.22  161.68  15.94 -0.04\n",
       "     2019-10-09  165.19  165.50  166.58  163.42  11.19  0.02\n",
       "     2019-10-10  166.07  165.96  168.57  164.09  11.54  0.01\n",
       "BIDU 2019-10-01  102.00  102.80  103.26  101.00   1.78 -0.01\n",
       "     2019-10-02  102.62  100.85  103.24   99.50   2.69  0.01\n",
       "     2019-10-03  104.32  102.35  104.73  101.15   2.24  0.02\n",
       "     2019-10-04  104.47  103.83  105.10  103.29   1.69  0.00\n",
       "     2019-10-07  101.47  103.79  103.99  101.17   3.40 -0.03\n",
       "     2019-10-08   99.53   99.50  100.56   98.20   4.43 -0.02\n",
       "     2019-10-09   99.90  100.29  100.63   98.55   3.41  0.00\n",
       "     2019-10-10  103.85  100.79  104.74  100.26   3.56  0.04\n",
       "IQ   2019-10-01   15.92   16.14   16.22   15.50  11.65 -0.01\n",
       "     2019-10-02   15.72   15.85   15.87   15.12   8.10 -0.01\n",
       "     2019-10-03   16.06   15.71   16.38   15.32  10.08  0.02\n",
       "     2019-10-04   16.39   16.12   16.90   16.10   7.23  0.02\n",
       "     2019-10-07   16.18   16.29   16.50   15.90   6.10 -0.01\n",
       "     2019-10-08   15.69   15.90   15.98   15.55   5.66 -0.03\n",
       "     2019-10-09   15.74   15.95   16.08   15.64   4.07  0.00\n",
       "     2019-10-10   15.71   15.74   15.90   15.53   5.58  0.00\n",
       "JD   2019-10-01   28.19   28.22   28.57   27.97  10.64  0.00\n",
       "     2019-10-02   28.06   28.00   28.22   27.53   9.53  0.00\n",
       "     2019-10-03   28.80   28.11   28.97   27.82   8.77  0.03\n",
       "     2019-10-04   28.99   28.88   29.19   28.65   7.43  0.01\n",
       "     2019-10-07   28.85   28.84   29.40   28.60   9.09  0.00\n",
       "     2019-10-08   27.73   28.19   28.61   27.72  11.74 -0.04\n",
       "     2019-10-09   28.38   28.28   28.60   27.96   8.45  0.02\n",
       "     2019-10-10   28.58   28.32   28.95   28.20   8.21  0.01"
      ],
      "text/html": "<div>\n<style scoped>\n    .dataframe tbody tr th:only-of-type {\n        vertical-align: middle;\n    }\n\n    .dataframe tbody tr th {\n        vertical-align: top;\n    }\n\n    .dataframe thead th {\n        text-align: right;\n    }\n</style>\n<table border=\"1\" class=\"dataframe\">\n  <thead>\n    <tr style=\"text-align: right;\">\n      <th></th>\n      <th></th>\n      <th>收盘</th>\n      <th>开盘</th>\n      <th>高</th>\n      <th>低</th>\n      <th>交易量</th>\n      <th>涨跌幅</th>\n    </tr>\n    <tr>\n      <th>公司</th>\n      <th>日期</th>\n      <th></th>\n      <th></th>\n      <th></th>\n      <th></th>\n      <th></th>\n      <th></th>\n    </tr>\n  </thead>\n  <tbody>\n    <tr>\n      <td rowspan=\"8\" valign=\"top\">BABA</td>\n      <td>2019-10-01</td>\n      <td>165.15</td>\n      <td>168.01</td>\n      <td>168.23</td>\n      <td>163.64</td>\n      <td>14.19</td>\n      <td>-0.01</td>\n    </tr>\n    <tr>\n      <td>2019-10-02</td>\n      <td>165.77</td>\n      <td>162.82</td>\n      <td>166.88</td>\n      <td>161.90</td>\n      <td>11.60</td>\n      <td>0.00</td>\n    </tr>\n    <tr>\n      <td>2019-10-03</td>\n      <td>169.48</td>\n      <td>166.65</td>\n      <td>170.18</td>\n      <td>165.00</td>\n      <td>10.39</td>\n      <td>0.02</td>\n    </tr>\n    <tr>\n      <td>2019-10-04</td>\n      <td>170.34</td>\n      <td>169.60</td>\n      <td>170.70</td>\n      <td>167.56</td>\n      <td>8.86</td>\n      <td>0.01</td>\n    </tr>\n    <tr>\n      <td>2019-10-07</td>\n      <td>168.32</td>\n      <td>168.83</td>\n      <td>172.30</td>\n      <td>167.21</td>\n      <td>12.03</td>\n      <td>-0.01</td>\n    </tr>\n    <tr>\n      <td>2019-10-08</td>\n      <td>161.93</td>\n      <td>164.30</td>\n      <td>165.22</td>\n      <td>161.68</td>\n      <td>15.94</td>\n      <td>-0.04</td>\n    </tr>\n    <tr>\n      <td>2019-10-09</td>\n      <td>165.19</td>\n      <td>165.50</td>\n      <td>166.58</td>\n      <td>163.42</td>\n      <td>11.19</td>\n      <td>0.02</td>\n    </tr>\n    <tr>\n      <td>2019-10-10</td>\n      <td>166.07</td>\n      <td>165.96</td>\n      <td>168.57</td>\n      <td>164.09</td>\n      <td>11.54</td>\n      <td>0.01</td>\n    </tr>\n    <tr>\n      <td rowspan=\"8\" valign=\"top\">BIDU</td>\n      <td>2019-10-01</td>\n      <td>102.00</td>\n      <td>102.80</td>\n      <td>103.26</td>\n      <td>101.00</td>\n      <td>1.78</td>\n      <td>-0.01</td>\n    </tr>\n    <tr>\n      <td>2019-10-02</td>\n      <td>102.62</td>\n      <td>100.85</td>\n      <td>103.24</td>\n      <td>99.50</td>\n      <td>2.69</td>\n      <td>0.01</td>\n    </tr>\n    <tr>\n      <td>2019-10-03</td>\n      <td>104.32</td>\n      <td>102.35</td>\n      <td>104.73</td>\n      <td>101.15</td>\n      <td>2.24</td>\n      <td>0.02</td>\n    </tr>\n    <tr>\n      <td>2019-10-04</td>\n      <td>104.47</td>\n      <td>103.83</td>\n      <td>105.10</td>\n      <td>103.29</td>\n      <td>1.69</td>\n      <td>0.00</td>\n    </tr>\n    <tr>\n      <td>2019-10-07</td>\n      <td>101.47</td>\n      <td>103.79</td>\n      <td>103.99</td>\n      <td>101.17</td>\n      <td>3.40</td>\n      <td>-0.03</td>\n    </tr>\n    <tr>\n      <td>2019-10-08</td>\n      <td>99.53</td>\n      <td>99.50</td>\n      <td>100.56</td>\n      <td>98.20</td>\n      <td>4.43</td>\n      <td>-0.02</td>\n    </tr>\n    <tr>\n      <td>2019-10-09</td>\n      <td>99.90</td>\n      <td>100.29</td>\n      <td>100.63</td>\n      <td>98.55</td>\n      <td>3.41</td>\n      <td>0.00</td>\n    </tr>\n    <tr>\n      <td>2019-10-10</td>\n      <td>103.85</td>\n      <td>100.79</td>\n      <td>104.74</td>\n      <td>100.26</td>\n      <td>3.56</td>\n      <td>0.04</td>\n    </tr>\n    <tr>\n      <td rowspan=\"8\" valign=\"top\">IQ</td>\n      <td>2019-10-01</td>\n      <td>15.92</td>\n      <td>16.14</td>\n      <td>16.22</td>\n      <td>15.50</td>\n      <td>11.65</td>\n      <td>-0.01</td>\n    </tr>\n    <tr>\n      <td>2019-10-02</td>\n      <td>15.72</td>\n      <td>15.85</td>\n      <td>15.87</td>\n      <td>15.12</td>\n      <td>8.10</td>\n      <td>-0.01</td>\n    </tr>\n    <tr>\n      <td>2019-10-03</td>\n      <td>16.06</td>\n      <td>15.71</td>\n      <td>16.38</td>\n      <td>15.32</td>\n      <td>10.08</td>\n      <td>0.02</td>\n    </tr>\n    <tr>\n      <td>2019-10-04</td>\n      <td>16.39</td>\n      <td>16.12</td>\n      <td>16.90</td>\n      <td>16.10</td>\n      <td>7.23</td>\n      <td>0.02</td>\n    </tr>\n    <tr>\n      <td>2019-10-07</td>\n      <td>16.18</td>\n      <td>16.29</td>\n      <td>16.50</td>\n      <td>15.90</td>\n      <td>6.10</td>\n      <td>-0.01</td>\n    </tr>\n    <tr>\n      <td>2019-10-08</td>\n      <td>15.69</td>\n      <td>15.90</td>\n      <td>15.98</td>\n      <td>15.55</td>\n      <td>5.66</td>\n      <td>-0.03</td>\n    </tr>\n    <tr>\n      <td>2019-10-09</td>\n      <td>15.74</td>\n      <td>15.95</td>\n      <td>16.08</td>\n      <td>15.64</td>\n      <td>4.07</td>\n      <td>0.00</td>\n    </tr>\n    <tr>\n      <td>2019-10-10</td>\n      <td>15.71</td>\n      <td>15.74</td>\n      <td>15.90</td>\n      <td>15.53</td>\n      <td>5.58</td>\n      <td>0.00</td>\n    </tr>\n    <tr>\n      <td rowspan=\"8\" valign=\"top\">JD</td>\n      <td>2019-10-01</td>\n      <td>28.19</td>\n      <td>28.22</td>\n      <td>28.57</td>\n      <td>27.97</td>\n      <td>10.64</td>\n      <td>0.00</td>\n    </tr>\n    <tr>\n      <td>2019-10-02</td>\n      <td>28.06</td>\n      <td>28.00</td>\n      <td>28.22</td>\n      <td>27.53</td>\n      <td>9.53</td>\n      <td>0.00</td>\n    </tr>\n    <tr>\n      <td>2019-10-03</td>\n      <td>28.80</td>\n      <td>28.11</td>\n      <td>28.97</td>\n      <td>27.82</td>\n      <td>8.77</td>\n      <td>0.03</td>\n    </tr>\n    <tr>\n      <td>2019-10-04</td>\n      <td>28.99</td>\n      <td>28.88</td>\n      <td>29.19</td>\n      <td>28.65</td>\n      <td>7.43</td>\n      <td>0.01</td>\n    </tr>\n    <tr>\n      <td>2019-10-07</td>\n      <td>28.85</td>\n      <td>28.84</td>\n      <td>29.40</td>\n      <td>28.60</td>\n      <td>9.09</td>\n      <td>0.00</td>\n    </tr>\n    <tr>\n      <td>2019-10-08</td>\n      <td>27.73</td>\n      <td>28.19</td>\n      <td>28.61</td>\n      <td>27.72</td>\n      <td>11.74</td>\n      <td>-0.04</td>\n    </tr>\n    <tr>\n      <td>2019-10-09</td>\n      <td>28.38</td>\n      <td>28.28</td>\n      <td>28.60</td>\n      <td>27.96</td>\n      <td>8.45</td>\n      <td>0.02</td>\n    </tr>\n    <tr>\n      <td>2019-10-10</td>\n      <td>28.58</td>\n      <td>28.32</td>\n      <td>28.95</td>\n      <td>28.20</td>\n      <td>8.21</td>\n      <td>0.01</td>\n    </tr>\n  </tbody>\n</table>\n</div>"
     },
     "metadata": {},
     "execution_count": 132
    }
   ],
   "source": [
    "stocks.sort_index(inplace=True)\n",
    "stocks"
   ]
  },
  {
   "cell_type": "code",
   "execution_count": 137,
   "metadata": {},
   "outputs": [
    {
     "output_type": "execute_result",
     "data": {
      "text/plain": [
       "公司    日期        \n",
       "BABA  2019-10-07    168.32\n",
       "      2019-10-10    166.07\n",
       "JD    2019-10-07     28.85\n",
       "      2019-10-10     28.58\n",
       "Name: 收盘, dtype: float64"
      ]
     },
     "metadata": {},
     "execution_count": 137
    }
   ],
   "source": [
    "# 选择多个公司，多个日期\n",
    "stocks.loc[(['JD','BABA'], ['2019-10-07','2019-10-10']),:]"
   ]
  },
  {
   "cell_type": "code",
   "execution_count": 140,
   "metadata": {},
   "outputs": [
    {
     "output_type": "execute_result",
     "data": {
      "text/plain": [
       "                     收盘      开盘       高       低    交易量   涨跌幅\n",
       "公司   日期                                                     \n",
       "BABA 2019-10-07  168.32  168.83  172.30  167.21  12.03 -0.01\n",
       "     2019-10-10  166.07  165.96  168.57  164.09  11.54  0.01\n",
       "JD   2019-10-07   28.85   28.84   29.40   28.60   9.09  0.00\n",
       "     2019-10-10   28.58   28.32   28.95   28.20   8.21  0.01"
      ],
      "text/html": "<div>\n<style scoped>\n    .dataframe tbody tr th:only-of-type {\n        vertical-align: middle;\n    }\n\n    .dataframe tbody tr th {\n        vertical-align: top;\n    }\n\n    .dataframe thead th {\n        text-align: right;\n    }\n</style>\n<table border=\"1\" class=\"dataframe\">\n  <thead>\n    <tr style=\"text-align: right;\">\n      <th></th>\n      <th></th>\n      <th>收盘</th>\n      <th>开盘</th>\n      <th>高</th>\n      <th>低</th>\n      <th>交易量</th>\n      <th>涨跌幅</th>\n    </tr>\n    <tr>\n      <th>公司</th>\n      <th>日期</th>\n      <th></th>\n      <th></th>\n      <th></th>\n      <th></th>\n      <th></th>\n      <th></th>\n    </tr>\n  </thead>\n  <tbody>\n    <tr>\n      <td rowspan=\"2\" valign=\"top\">BABA</td>\n      <td>2019-10-07</td>\n      <td>168.32</td>\n      <td>168.83</td>\n      <td>172.30</td>\n      <td>167.21</td>\n      <td>12.03</td>\n      <td>-0.01</td>\n    </tr>\n    <tr>\n      <td>2019-10-10</td>\n      <td>166.07</td>\n      <td>165.96</td>\n      <td>168.57</td>\n      <td>164.09</td>\n      <td>11.54</td>\n      <td>0.01</td>\n    </tr>\n    <tr>\n      <td rowspan=\"2\" valign=\"top\">JD</td>\n      <td>2019-10-07</td>\n      <td>28.85</td>\n      <td>28.84</td>\n      <td>29.40</td>\n      <td>28.60</td>\n      <td>9.09</td>\n      <td>0.00</td>\n    </tr>\n    <tr>\n      <td>2019-10-10</td>\n      <td>28.58</td>\n      <td>28.32</td>\n      <td>28.95</td>\n      <td>28.20</td>\n      <td>8.21</td>\n      <td>0.01</td>\n    </tr>\n  </tbody>\n</table>\n</div>"
     },
     "metadata": {},
     "execution_count": 140
    }
   ],
   "source": [
    "stocks.loc[(['JD','BABA'], ['2019-10-07','2019-10-10']),:]"
   ]
  },
  {
   "cell_type": "code",
   "execution_count": 143,
   "metadata": {},
   "outputs": [
    {
     "output_type": "execute_result",
     "data": {
      "text/plain": [
       "                     收盘      开盘       高       低    交易量   涨跌幅\n",
       "公司   日期                                                     \n",
       "BABA 2019-10-01  165.15  168.01  168.23  163.64  14.19 -0.01\n",
       "     2019-10-02  165.77  162.82  166.88  161.90  11.60  0.00\n",
       "     2019-10-03  169.48  166.65  170.18  165.00  10.39  0.02\n",
       "     2019-10-04  170.34  169.60  170.70  167.56   8.86  0.01\n",
       "     2019-10-07  168.32  168.83  172.30  167.21  12.03 -0.01\n",
       "     2019-10-08  161.93  164.30  165.22  161.68  15.94 -0.04\n",
       "     2019-10-09  165.19  165.50  166.58  163.42  11.19  0.02\n",
       "     2019-10-10  166.07  165.96  168.57  164.09  11.54  0.01\n",
       "JD   2019-10-01   28.19   28.22   28.57   27.97  10.64  0.00\n",
       "     2019-10-02   28.06   28.00   28.22   27.53   9.53  0.00\n",
       "     2019-10-03   28.80   28.11   28.97   27.82   8.77  0.03\n",
       "     2019-10-04   28.99   28.88   29.19   28.65   7.43  0.01\n",
       "     2019-10-07   28.85   28.84   29.40   28.60   9.09  0.00\n",
       "     2019-10-08   27.73   28.19   28.61   27.72  11.74 -0.04\n",
       "     2019-10-09   28.38   28.28   28.60   27.96   8.45  0.02\n",
       "     2019-10-10   28.58   28.32   28.95   28.20   8.21  0.01"
      ],
      "text/html": "<div>\n<style scoped>\n    .dataframe tbody tr th:only-of-type {\n        vertical-align: middle;\n    }\n\n    .dataframe tbody tr th {\n        vertical-align: top;\n    }\n\n    .dataframe thead th {\n        text-align: right;\n    }\n</style>\n<table border=\"1\" class=\"dataframe\">\n  <thead>\n    <tr style=\"text-align: right;\">\n      <th></th>\n      <th></th>\n      <th>收盘</th>\n      <th>开盘</th>\n      <th>高</th>\n      <th>低</th>\n      <th>交易量</th>\n      <th>涨跌幅</th>\n    </tr>\n    <tr>\n      <th>公司</th>\n      <th>日期</th>\n      <th></th>\n      <th></th>\n      <th></th>\n      <th></th>\n      <th></th>\n      <th></th>\n    </tr>\n  </thead>\n  <tbody>\n    <tr>\n      <td rowspan=\"8\" valign=\"top\">BABA</td>\n      <td>2019-10-01</td>\n      <td>165.15</td>\n      <td>168.01</td>\n      <td>168.23</td>\n      <td>163.64</td>\n      <td>14.19</td>\n      <td>-0.01</td>\n    </tr>\n    <tr>\n      <td>2019-10-02</td>\n      <td>165.77</td>\n      <td>162.82</td>\n      <td>166.88</td>\n      <td>161.90</td>\n      <td>11.60</td>\n      <td>0.00</td>\n    </tr>\n    <tr>\n      <td>2019-10-03</td>\n      <td>169.48</td>\n      <td>166.65</td>\n      <td>170.18</td>\n      <td>165.00</td>\n      <td>10.39</td>\n      <td>0.02</td>\n    </tr>\n    <tr>\n      <td>2019-10-04</td>\n      <td>170.34</td>\n      <td>169.60</td>\n      <td>170.70</td>\n      <td>167.56</td>\n      <td>8.86</td>\n      <td>0.01</td>\n    </tr>\n    <tr>\n      <td>2019-10-07</td>\n      <td>168.32</td>\n      <td>168.83</td>\n      <td>172.30</td>\n      <td>167.21</td>\n      <td>12.03</td>\n      <td>-0.01</td>\n    </tr>\n    <tr>\n      <td>2019-10-08</td>\n      <td>161.93</td>\n      <td>164.30</td>\n      <td>165.22</td>\n      <td>161.68</td>\n      <td>15.94</td>\n      <td>-0.04</td>\n    </tr>\n    <tr>\n      <td>2019-10-09</td>\n      <td>165.19</td>\n      <td>165.50</td>\n      <td>166.58</td>\n      <td>163.42</td>\n      <td>11.19</td>\n      <td>0.02</td>\n    </tr>\n    <tr>\n      <td>2019-10-10</td>\n      <td>166.07</td>\n      <td>165.96</td>\n      <td>168.57</td>\n      <td>164.09</td>\n      <td>11.54</td>\n      <td>0.01</td>\n    </tr>\n    <tr>\n      <td rowspan=\"8\" valign=\"top\">JD</td>\n      <td>2019-10-01</td>\n      <td>28.19</td>\n      <td>28.22</td>\n      <td>28.57</td>\n      <td>27.97</td>\n      <td>10.64</td>\n      <td>0.00</td>\n    </tr>\n    <tr>\n      <td>2019-10-02</td>\n      <td>28.06</td>\n      <td>28.00</td>\n      <td>28.22</td>\n      <td>27.53</td>\n      <td>9.53</td>\n      <td>0.00</td>\n    </tr>\n    <tr>\n      <td>2019-10-03</td>\n      <td>28.80</td>\n      <td>28.11</td>\n      <td>28.97</td>\n      <td>27.82</td>\n      <td>8.77</td>\n      <td>0.03</td>\n    </tr>\n    <tr>\n      <td>2019-10-04</td>\n      <td>28.99</td>\n      <td>28.88</td>\n      <td>29.19</td>\n      <td>28.65</td>\n      <td>7.43</td>\n      <td>0.01</td>\n    </tr>\n    <tr>\n      <td>2019-10-07</td>\n      <td>28.85</td>\n      <td>28.84</td>\n      <td>29.40</td>\n      <td>28.60</td>\n      <td>9.09</td>\n      <td>0.00</td>\n    </tr>\n    <tr>\n      <td>2019-10-08</td>\n      <td>27.73</td>\n      <td>28.19</td>\n      <td>28.61</td>\n      <td>27.72</td>\n      <td>11.74</td>\n      <td>-0.04</td>\n    </tr>\n    <tr>\n      <td>2019-10-09</td>\n      <td>28.38</td>\n      <td>28.28</td>\n      <td>28.60</td>\n      <td>27.96</td>\n      <td>8.45</td>\n      <td>0.02</td>\n    </tr>\n    <tr>\n      <td>2019-10-10</td>\n      <td>28.58</td>\n      <td>28.32</td>\n      <td>28.95</td>\n      <td>28.20</td>\n      <td>8.21</td>\n      <td>0.01</td>\n    </tr>\n  </tbody>\n</table>\n</div>"
     },
     "metadata": {},
     "execution_count": 143
    }
   ],
   "source": [
    "stocks.loc[['JD','BABA'], : ]"
   ]
  },
  {
   "cell_type": "code",
   "execution_count": 151,
   "metadata": {},
   "outputs": [
    {
     "output_type": "execute_result",
     "data": {
      "text/plain": [
       "                     收盘      开盘       高       低    交易量   涨跌幅\n",
       "公司   日期                                                     \n",
       "BABA 2019-10-07  168.32  168.83  172.30  167.21  12.03 -0.01\n",
       "     2019-10-09  165.19  165.50  166.58  163.42  11.19  0.02\n",
       "BIDU 2019-10-07  101.47  103.79  103.99  101.17   3.40 -0.03\n",
       "     2019-10-09   99.90  100.29  100.63   98.55   3.41  0.00\n",
       "IQ   2019-10-07   16.18   16.29   16.50   15.90   6.10 -0.01\n",
       "     2019-10-09   15.74   15.95   16.08   15.64   4.07  0.00\n",
       "JD   2019-10-07   28.85   28.84   29.40   28.60   9.09  0.00\n",
       "     2019-10-09   28.38   28.28   28.60   27.96   8.45  0.02"
      ],
      "text/html": "<div>\n<style scoped>\n    .dataframe tbody tr th:only-of-type {\n        vertical-align: middle;\n    }\n\n    .dataframe tbody tr th {\n        vertical-align: top;\n    }\n\n    .dataframe thead th {\n        text-align: right;\n    }\n</style>\n<table border=\"1\" class=\"dataframe\">\n  <thead>\n    <tr style=\"text-align: right;\">\n      <th></th>\n      <th></th>\n      <th>收盘</th>\n      <th>开盘</th>\n      <th>高</th>\n      <th>低</th>\n      <th>交易量</th>\n      <th>涨跌幅</th>\n    </tr>\n    <tr>\n      <th>公司</th>\n      <th>日期</th>\n      <th></th>\n      <th></th>\n      <th></th>\n      <th></th>\n      <th></th>\n      <th></th>\n    </tr>\n  </thead>\n  <tbody>\n    <tr>\n      <td rowspan=\"2\" valign=\"top\">BABA</td>\n      <td>2019-10-07</td>\n      <td>168.32</td>\n      <td>168.83</td>\n      <td>172.30</td>\n      <td>167.21</td>\n      <td>12.03</td>\n      <td>-0.01</td>\n    </tr>\n    <tr>\n      <td>2019-10-09</td>\n      <td>165.19</td>\n      <td>165.50</td>\n      <td>166.58</td>\n      <td>163.42</td>\n      <td>11.19</td>\n      <td>0.02</td>\n    </tr>\n    <tr>\n      <td rowspan=\"2\" valign=\"top\">BIDU</td>\n      <td>2019-10-07</td>\n      <td>101.47</td>\n      <td>103.79</td>\n      <td>103.99</td>\n      <td>101.17</td>\n      <td>3.40</td>\n      <td>-0.03</td>\n    </tr>\n    <tr>\n      <td>2019-10-09</td>\n      <td>99.90</td>\n      <td>100.29</td>\n      <td>100.63</td>\n      <td>98.55</td>\n      <td>3.41</td>\n      <td>0.00</td>\n    </tr>\n    <tr>\n      <td rowspan=\"2\" valign=\"top\">IQ</td>\n      <td>2019-10-07</td>\n      <td>16.18</td>\n      <td>16.29</td>\n      <td>16.50</td>\n      <td>15.90</td>\n      <td>6.10</td>\n      <td>-0.01</td>\n    </tr>\n    <tr>\n      <td>2019-10-09</td>\n      <td>15.74</td>\n      <td>15.95</td>\n      <td>16.08</td>\n      <td>15.64</td>\n      <td>4.07</td>\n      <td>0.00</td>\n    </tr>\n    <tr>\n      <td rowspan=\"2\" valign=\"top\">JD</td>\n      <td>2019-10-07</td>\n      <td>28.85</td>\n      <td>28.84</td>\n      <td>29.40</td>\n      <td>28.60</td>\n      <td>9.09</td>\n      <td>0.00</td>\n    </tr>\n    <tr>\n      <td>2019-10-09</td>\n      <td>28.38</td>\n      <td>28.28</td>\n      <td>28.60</td>\n      <td>27.96</td>\n      <td>8.45</td>\n      <td>0.02</td>\n    </tr>\n  </tbody>\n</table>\n</div>"
     },
     "metadata": {},
     "execution_count": 151
    }
   ],
   "source": [
    "stocks.loc[(slice(None), ['2019-10-07','2019-10-09']),:]"
   ]
  },
  {
   "cell_type": "code",
   "execution_count": 152,
   "metadata": {},
   "outputs": [
    {
     "output_type": "execute_result",
     "data": {
      "text/plain": [
       "                     收盘      开盘       高       低    交易量   涨跌幅\n",
       "公司   日期                                                     \n",
       "BABA 2019-10-01  165.15  168.01  168.23  163.64  14.19 -0.01\n",
       "     2019-10-02  165.77  162.82  166.88  161.90  11.60  0.00\n",
       "     2019-10-03  169.48  166.65  170.18  165.00  10.39  0.02\n",
       "     2019-10-04  170.34  169.60  170.70  167.56   8.86  0.01\n",
       "     2019-10-07  168.32  168.83  172.30  167.21  12.03 -0.01\n",
       "     2019-10-08  161.93  164.30  165.22  161.68  15.94 -0.04\n",
       "     2019-10-09  165.19  165.50  166.58  163.42  11.19  0.02\n",
       "     2019-10-10  166.07  165.96  168.57  164.09  11.54  0.01\n",
       "BIDU 2019-10-01  102.00  102.80  103.26  101.00   1.78 -0.01\n",
       "     2019-10-02  102.62  100.85  103.24   99.50   2.69  0.01\n",
       "     2019-10-03  104.32  102.35  104.73  101.15   2.24  0.02\n",
       "     2019-10-04  104.47  103.83  105.10  103.29   1.69  0.00\n",
       "     2019-10-07  101.47  103.79  103.99  101.17   3.40 -0.03\n",
       "     2019-10-08   99.53   99.50  100.56   98.20   4.43 -0.02\n",
       "     2019-10-09   99.90  100.29  100.63   98.55   3.41  0.00\n",
       "     2019-10-10  103.85  100.79  104.74  100.26   3.56  0.04\n",
       "IQ   2019-10-01   15.92   16.14   16.22   15.50  11.65 -0.01\n",
       "     2019-10-02   15.72   15.85   15.87   15.12   8.10 -0.01\n",
       "     2019-10-03   16.06   15.71   16.38   15.32  10.08  0.02\n",
       "     2019-10-04   16.39   16.12   16.90   16.10   7.23  0.02\n",
       "     2019-10-07   16.18   16.29   16.50   15.90   6.10 -0.01\n",
       "     2019-10-08   15.69   15.90   15.98   15.55   5.66 -0.03\n",
       "     2019-10-09   15.74   15.95   16.08   15.64   4.07  0.00\n",
       "     2019-10-10   15.71   15.74   15.90   15.53   5.58  0.00\n",
       "JD   2019-10-01   28.19   28.22   28.57   27.97  10.64  0.00\n",
       "     2019-10-02   28.06   28.00   28.22   27.53   9.53  0.00\n",
       "     2019-10-03   28.80   28.11   28.97   27.82   8.77  0.03\n",
       "     2019-10-04   28.99   28.88   29.19   28.65   7.43  0.01\n",
       "     2019-10-07   28.85   28.84   29.40   28.60   9.09  0.00\n",
       "     2019-10-08   27.73   28.19   28.61   27.72  11.74 -0.04"
      ],
      "text/html": "<div>\n<style scoped>\n    .dataframe tbody tr th:only-of-type {\n        vertical-align: middle;\n    }\n\n    .dataframe tbody tr th {\n        vertical-align: top;\n    }\n\n    .dataframe thead th {\n        text-align: right;\n    }\n</style>\n<table border=\"1\" class=\"dataframe\">\n  <thead>\n    <tr style=\"text-align: right;\">\n      <th></th>\n      <th></th>\n      <th>收盘</th>\n      <th>开盘</th>\n      <th>高</th>\n      <th>低</th>\n      <th>交易量</th>\n      <th>涨跌幅</th>\n    </tr>\n    <tr>\n      <th>公司</th>\n      <th>日期</th>\n      <th></th>\n      <th></th>\n      <th></th>\n      <th></th>\n      <th></th>\n      <th></th>\n    </tr>\n  </thead>\n  <tbody>\n    <tr>\n      <td rowspan=\"8\" valign=\"top\">BABA</td>\n      <td>2019-10-01</td>\n      <td>165.15</td>\n      <td>168.01</td>\n      <td>168.23</td>\n      <td>163.64</td>\n      <td>14.19</td>\n      <td>-0.01</td>\n    </tr>\n    <tr>\n      <td>2019-10-02</td>\n      <td>165.77</td>\n      <td>162.82</td>\n      <td>166.88</td>\n      <td>161.90</td>\n      <td>11.60</td>\n      <td>0.00</td>\n    </tr>\n    <tr>\n      <td>2019-10-03</td>\n      <td>169.48</td>\n      <td>166.65</td>\n      <td>170.18</td>\n      <td>165.00</td>\n      <td>10.39</td>\n      <td>0.02</td>\n    </tr>\n    <tr>\n      <td>2019-10-04</td>\n      <td>170.34</td>\n      <td>169.60</td>\n      <td>170.70</td>\n      <td>167.56</td>\n      <td>8.86</td>\n      <td>0.01</td>\n    </tr>\n    <tr>\n      <td>2019-10-07</td>\n      <td>168.32</td>\n      <td>168.83</td>\n      <td>172.30</td>\n      <td>167.21</td>\n      <td>12.03</td>\n      <td>-0.01</td>\n    </tr>\n    <tr>\n      <td>2019-10-08</td>\n      <td>161.93</td>\n      <td>164.30</td>\n      <td>165.22</td>\n      <td>161.68</td>\n      <td>15.94</td>\n      <td>-0.04</td>\n    </tr>\n    <tr>\n      <td>2019-10-09</td>\n      <td>165.19</td>\n      <td>165.50</td>\n      <td>166.58</td>\n      <td>163.42</td>\n      <td>11.19</td>\n      <td>0.02</td>\n    </tr>\n    <tr>\n      <td>2019-10-10</td>\n      <td>166.07</td>\n      <td>165.96</td>\n      <td>168.57</td>\n      <td>164.09</td>\n      <td>11.54</td>\n      <td>0.01</td>\n    </tr>\n    <tr>\n      <td rowspan=\"8\" valign=\"top\">BIDU</td>\n      <td>2019-10-01</td>\n      <td>102.00</td>\n      <td>102.80</td>\n      <td>103.26</td>\n      <td>101.00</td>\n      <td>1.78</td>\n      <td>-0.01</td>\n    </tr>\n    <tr>\n      <td>2019-10-02</td>\n      <td>102.62</td>\n      <td>100.85</td>\n      <td>103.24</td>\n      <td>99.50</td>\n      <td>2.69</td>\n      <td>0.01</td>\n    </tr>\n    <tr>\n      <td>2019-10-03</td>\n      <td>104.32</td>\n      <td>102.35</td>\n      <td>104.73</td>\n      <td>101.15</td>\n      <td>2.24</td>\n      <td>0.02</td>\n    </tr>\n    <tr>\n      <td>2019-10-04</td>\n      <td>104.47</td>\n      <td>103.83</td>\n      <td>105.10</td>\n      <td>103.29</td>\n      <td>1.69</td>\n      <td>0.00</td>\n    </tr>\n    <tr>\n      <td>2019-10-07</td>\n      <td>101.47</td>\n      <td>103.79</td>\n      <td>103.99</td>\n      <td>101.17</td>\n      <td>3.40</td>\n      <td>-0.03</td>\n    </tr>\n    <tr>\n      <td>2019-10-08</td>\n      <td>99.53</td>\n      <td>99.50</td>\n      <td>100.56</td>\n      <td>98.20</td>\n      <td>4.43</td>\n      <td>-0.02</td>\n    </tr>\n    <tr>\n      <td>2019-10-09</td>\n      <td>99.90</td>\n      <td>100.29</td>\n      <td>100.63</td>\n      <td>98.55</td>\n      <td>3.41</td>\n      <td>0.00</td>\n    </tr>\n    <tr>\n      <td>2019-10-10</td>\n      <td>103.85</td>\n      <td>100.79</td>\n      <td>104.74</td>\n      <td>100.26</td>\n      <td>3.56</td>\n      <td>0.04</td>\n    </tr>\n    <tr>\n      <td rowspan=\"8\" valign=\"top\">IQ</td>\n      <td>2019-10-01</td>\n      <td>15.92</td>\n      <td>16.14</td>\n      <td>16.22</td>\n      <td>15.50</td>\n      <td>11.65</td>\n      <td>-0.01</td>\n    </tr>\n    <tr>\n      <td>2019-10-02</td>\n      <td>15.72</td>\n      <td>15.85</td>\n      <td>15.87</td>\n      <td>15.12</td>\n      <td>8.10</td>\n      <td>-0.01</td>\n    </tr>\n    <tr>\n      <td>2019-10-03</td>\n      <td>16.06</td>\n      <td>15.71</td>\n      <td>16.38</td>\n      <td>15.32</td>\n      <td>10.08</td>\n      <td>0.02</td>\n    </tr>\n    <tr>\n      <td>2019-10-04</td>\n      <td>16.39</td>\n      <td>16.12</td>\n      <td>16.90</td>\n      <td>16.10</td>\n      <td>7.23</td>\n      <td>0.02</td>\n    </tr>\n    <tr>\n      <td>2019-10-07</td>\n      <td>16.18</td>\n      <td>16.29</td>\n      <td>16.50</td>\n      <td>15.90</td>\n      <td>6.10</td>\n      <td>-0.01</td>\n    </tr>\n    <tr>\n      <td>2019-10-08</td>\n      <td>15.69</td>\n      <td>15.90</td>\n      <td>15.98</td>\n      <td>15.55</td>\n      <td>5.66</td>\n      <td>-0.03</td>\n    </tr>\n    <tr>\n      <td>2019-10-09</td>\n      <td>15.74</td>\n      <td>15.95</td>\n      <td>16.08</td>\n      <td>15.64</td>\n      <td>4.07</td>\n      <td>0.00</td>\n    </tr>\n    <tr>\n      <td>2019-10-10</td>\n      <td>15.71</td>\n      <td>15.74</td>\n      <td>15.90</td>\n      <td>15.53</td>\n      <td>5.58</td>\n      <td>0.00</td>\n    </tr>\n    <tr>\n      <td rowspan=\"6\" valign=\"top\">JD</td>\n      <td>2019-10-01</td>\n      <td>28.19</td>\n      <td>28.22</td>\n      <td>28.57</td>\n      <td>27.97</td>\n      <td>10.64</td>\n      <td>0.00</td>\n    </tr>\n    <tr>\n      <td>2019-10-02</td>\n      <td>28.06</td>\n      <td>28.00</td>\n      <td>28.22</td>\n      <td>27.53</td>\n      <td>9.53</td>\n      <td>0.00</td>\n    </tr>\n    <tr>\n      <td>2019-10-03</td>\n      <td>28.80</td>\n      <td>28.11</td>\n      <td>28.97</td>\n      <td>27.82</td>\n      <td>8.77</td>\n      <td>0.03</td>\n    </tr>\n    <tr>\n      <td>2019-10-04</td>\n      <td>28.99</td>\n      <td>28.88</td>\n      <td>29.19</td>\n      <td>28.65</td>\n      <td>7.43</td>\n      <td>0.01</td>\n    </tr>\n    <tr>\n      <td>2019-10-07</td>\n      <td>28.85</td>\n      <td>28.84</td>\n      <td>29.40</td>\n      <td>28.60</td>\n      <td>9.09</td>\n      <td>0.00</td>\n    </tr>\n    <tr>\n      <td>2019-10-08</td>\n      <td>27.73</td>\n      <td>28.19</td>\n      <td>28.61</td>\n      <td>27.72</td>\n      <td>11.74</td>\n      <td>-0.04</td>\n    </tr>\n  </tbody>\n</table>\n</div>"
     },
     "metadata": {},
     "execution_count": 152
    }
   ],
   "source": [
    "# 切片\n",
    "stocks.loc[('BABA','2019-10-01'):('JD','2019-10-08'), :]"
   ]
  },
  {
   "source": [
    "#### 总结\n",
    "1. (key1,key2)代表选不同层级\n",
    "2. \\[key1,key2\\]代表选相同层级\n",
    "3. df.loc\\[(,),:\\]这里最后的:不能省略"
   ],
   "cell_type": "markdown",
   "metadata": {}
  },
  {
   "source": [
    "### 数据转换\n",
    "1. map,只用于Series，参数可以是字典或者函数，一对一的映射\n",
    "2. apply,可用于Series和DataFrame，Series的时候，为单个元素；DataFrame时候，为一列或者一行数据\n",
    "3. applymap,只用于DataFrame，对每个元素应用"
   ],
   "cell_type": "markdown",
   "metadata": {}
  },
  {
   "cell_type": "code",
   "execution_count": 153,
   "metadata": {},
   "outputs": [
    {
     "output_type": "execute_result",
     "data": {
      "text/plain": [
       "                     收盘      开盘       高       低    交易量   涨跌幅\n",
       "公司   日期                                                     \n",
       "BABA 2019-10-01  165.15  168.01  168.23  163.64  14.19 -0.01\n",
       "     2019-10-02  165.77  162.82  166.88  161.90  11.60  0.00\n",
       "     2019-10-03  169.48  166.65  170.18  165.00  10.39  0.02\n",
       "     2019-10-04  170.34  169.60  170.70  167.56   8.86  0.01\n",
       "     2019-10-07  168.32  168.83  172.30  167.21  12.03 -0.01"
      ],
      "text/html": "<div>\n<style scoped>\n    .dataframe tbody tr th:only-of-type {\n        vertical-align: middle;\n    }\n\n    .dataframe tbody tr th {\n        vertical-align: top;\n    }\n\n    .dataframe thead th {\n        text-align: right;\n    }\n</style>\n<table border=\"1\" class=\"dataframe\">\n  <thead>\n    <tr style=\"text-align: right;\">\n      <th></th>\n      <th></th>\n      <th>收盘</th>\n      <th>开盘</th>\n      <th>高</th>\n      <th>低</th>\n      <th>交易量</th>\n      <th>涨跌幅</th>\n    </tr>\n    <tr>\n      <th>公司</th>\n      <th>日期</th>\n      <th></th>\n      <th></th>\n      <th></th>\n      <th></th>\n      <th></th>\n      <th></th>\n    </tr>\n  </thead>\n  <tbody>\n    <tr>\n      <td rowspan=\"5\" valign=\"top\">BABA</td>\n      <td>2019-10-01</td>\n      <td>165.15</td>\n      <td>168.01</td>\n      <td>168.23</td>\n      <td>163.64</td>\n      <td>14.19</td>\n      <td>-0.01</td>\n    </tr>\n    <tr>\n      <td>2019-10-02</td>\n      <td>165.77</td>\n      <td>162.82</td>\n      <td>166.88</td>\n      <td>161.90</td>\n      <td>11.60</td>\n      <td>0.00</td>\n    </tr>\n    <tr>\n      <td>2019-10-03</td>\n      <td>169.48</td>\n      <td>166.65</td>\n      <td>170.18</td>\n      <td>165.00</td>\n      <td>10.39</td>\n      <td>0.02</td>\n    </tr>\n    <tr>\n      <td>2019-10-04</td>\n      <td>170.34</td>\n      <td>169.60</td>\n      <td>170.70</td>\n      <td>167.56</td>\n      <td>8.86</td>\n      <td>0.01</td>\n    </tr>\n    <tr>\n      <td>2019-10-07</td>\n      <td>168.32</td>\n      <td>168.83</td>\n      <td>172.30</td>\n      <td>167.21</td>\n      <td>12.03</td>\n      <td>-0.01</td>\n    </tr>\n  </tbody>\n</table>\n</div>"
     },
     "metadata": {},
     "execution_count": 153
    }
   ],
   "source": [
    "stocks.head()"
   ]
  },
  {
   "cell_type": "code",
   "execution_count": 154,
   "metadata": {},
   "outputs": [
    {
     "output_type": "execute_result",
     "data": {
      "text/plain": [
       "     公司          日期      收盘      开盘       高       低    交易量   涨跌幅\n",
       "0  BABA  2019-10-01  165.15  168.01  168.23  163.64  14.19 -0.01\n",
       "1  BABA  2019-10-02  165.77  162.82  166.88  161.90  11.60  0.00\n",
       "2  BABA  2019-10-03  169.48  166.65  170.18  165.00  10.39  0.02\n",
       "3  BABA  2019-10-04  170.34  169.60  170.70  167.56   8.86  0.01\n",
       "4  BABA  2019-10-07  168.32  168.83  172.30  167.21  12.03 -0.01"
      ],
      "text/html": "<div>\n<style scoped>\n    .dataframe tbody tr th:only-of-type {\n        vertical-align: middle;\n    }\n\n    .dataframe tbody tr th {\n        vertical-align: top;\n    }\n\n    .dataframe thead th {\n        text-align: right;\n    }\n</style>\n<table border=\"1\" class=\"dataframe\">\n  <thead>\n    <tr style=\"text-align: right;\">\n      <th></th>\n      <th>公司</th>\n      <th>日期</th>\n      <th>收盘</th>\n      <th>开盘</th>\n      <th>高</th>\n      <th>低</th>\n      <th>交易量</th>\n      <th>涨跌幅</th>\n    </tr>\n  </thead>\n  <tbody>\n    <tr>\n      <td>0</td>\n      <td>BABA</td>\n      <td>2019-10-01</td>\n      <td>165.15</td>\n      <td>168.01</td>\n      <td>168.23</td>\n      <td>163.64</td>\n      <td>14.19</td>\n      <td>-0.01</td>\n    </tr>\n    <tr>\n      <td>1</td>\n      <td>BABA</td>\n      <td>2019-10-02</td>\n      <td>165.77</td>\n      <td>162.82</td>\n      <td>166.88</td>\n      <td>161.90</td>\n      <td>11.60</td>\n      <td>0.00</td>\n    </tr>\n    <tr>\n      <td>2</td>\n      <td>BABA</td>\n      <td>2019-10-03</td>\n      <td>169.48</td>\n      <td>166.65</td>\n      <td>170.18</td>\n      <td>165.00</td>\n      <td>10.39</td>\n      <td>0.02</td>\n    </tr>\n    <tr>\n      <td>3</td>\n      <td>BABA</td>\n      <td>2019-10-04</td>\n      <td>170.34</td>\n      <td>169.60</td>\n      <td>170.70</td>\n      <td>167.56</td>\n      <td>8.86</td>\n      <td>0.01</td>\n    </tr>\n    <tr>\n      <td>4</td>\n      <td>BABA</td>\n      <td>2019-10-07</td>\n      <td>168.32</td>\n      <td>168.83</td>\n      <td>172.30</td>\n      <td>167.21</td>\n      <td>12.03</td>\n      <td>-0.01</td>\n    </tr>\n  </tbody>\n</table>\n</div>"
     },
     "metadata": {},
     "execution_count": 154
    }
   ],
   "source": [
    "stocks.reset_index(inplace=True)\n",
    "stocks.head()"
   ]
  },
  {
   "cell_type": "code",
   "execution_count": 155,
   "metadata": {},
   "outputs": [
    {
     "output_type": "execute_result",
     "data": {
      "text/plain": [
       "array(['BABA', 'BIDU', 'IQ', 'JD'], dtype=object)"
      ]
     },
     "metadata": {},
     "execution_count": 155
    }
   ],
   "source": [
    "stocks['公司'].unique()"
   ]
  },
  {
   "cell_type": "code",
   "execution_count": 158,
   "metadata": {},
   "outputs": [
    {
     "output_type": "execute_result",
     "data": {
      "text/plain": [
       "array(['阿里巴巴', '百度', '爱奇艺', '京东'], dtype=object)"
      ]
     },
     "metadata": {},
     "execution_count": 158
    }
   ],
   "source": [
    "company = {'baba': '阿里巴巴', 'bidu':'百度', 'iq': '爱奇艺', 'jd':'京东'}\n",
    "# map\n",
    "stocks['公司1'] = stocks['公司'].str.lower().map(company)\n",
    "stocks['公司1'].unique()"
   ]
  },
  {
   "cell_type": "code",
   "execution_count": 159,
   "metadata": {},
   "outputs": [
    {
     "output_type": "execute_result",
     "data": {
      "text/plain": [
       "     公司          日期      收盘      开盘       高       低    交易量   涨跌幅   公司1   公司2\n",
       "0  BABA  2019-10-01  165.15  168.01  168.23  163.64  14.19 -0.01  阿里巴巴  阿里巴巴\n",
       "1  BABA  2019-10-02  165.77  162.82  166.88  161.90  11.60  0.00  阿里巴巴  阿里巴巴\n",
       "2  BABA  2019-10-03  169.48  166.65  170.18  165.00  10.39  0.02  阿里巴巴  阿里巴巴\n",
       "3  BABA  2019-10-04  170.34  169.60  170.70  167.56   8.86  0.01  阿里巴巴  阿里巴巴\n",
       "4  BABA  2019-10-07  168.32  168.83  172.30  167.21  12.03 -0.01  阿里巴巴  阿里巴巴\n",
       "5  BABA  2019-10-08  161.93  164.30  165.22  161.68  15.94 -0.04  阿里巴巴  阿里巴巴\n",
       "6  BABA  2019-10-09  165.19  165.50  166.58  163.42  11.19  0.02  阿里巴巴  阿里巴巴\n",
       "7  BABA  2019-10-10  166.07  165.96  168.57  164.09  11.54  0.01  阿里巴巴  阿里巴巴"
      ],
      "text/html": "<div>\n<style scoped>\n    .dataframe tbody tr th:only-of-type {\n        vertical-align: middle;\n    }\n\n    .dataframe tbody tr th {\n        vertical-align: top;\n    }\n\n    .dataframe thead th {\n        text-align: right;\n    }\n</style>\n<table border=\"1\" class=\"dataframe\">\n  <thead>\n    <tr style=\"text-align: right;\">\n      <th></th>\n      <th>公司</th>\n      <th>日期</th>\n      <th>收盘</th>\n      <th>开盘</th>\n      <th>高</th>\n      <th>低</th>\n      <th>交易量</th>\n      <th>涨跌幅</th>\n      <th>公司1</th>\n      <th>公司2</th>\n    </tr>\n  </thead>\n  <tbody>\n    <tr>\n      <td>0</td>\n      <td>BABA</td>\n      <td>2019-10-01</td>\n      <td>165.15</td>\n      <td>168.01</td>\n      <td>168.23</td>\n      <td>163.64</td>\n      <td>14.19</td>\n      <td>-0.01</td>\n      <td>阿里巴巴</td>\n      <td>阿里巴巴</td>\n    </tr>\n    <tr>\n      <td>1</td>\n      <td>BABA</td>\n      <td>2019-10-02</td>\n      <td>165.77</td>\n      <td>162.82</td>\n      <td>166.88</td>\n      <td>161.90</td>\n      <td>11.60</td>\n      <td>0.00</td>\n      <td>阿里巴巴</td>\n      <td>阿里巴巴</td>\n    </tr>\n    <tr>\n      <td>2</td>\n      <td>BABA</td>\n      <td>2019-10-03</td>\n      <td>169.48</td>\n      <td>166.65</td>\n      <td>170.18</td>\n      <td>165.00</td>\n      <td>10.39</td>\n      <td>0.02</td>\n      <td>阿里巴巴</td>\n      <td>阿里巴巴</td>\n    </tr>\n    <tr>\n      <td>3</td>\n      <td>BABA</td>\n      <td>2019-10-04</td>\n      <td>170.34</td>\n      <td>169.60</td>\n      <td>170.70</td>\n      <td>167.56</td>\n      <td>8.86</td>\n      <td>0.01</td>\n      <td>阿里巴巴</td>\n      <td>阿里巴巴</td>\n    </tr>\n    <tr>\n      <td>4</td>\n      <td>BABA</td>\n      <td>2019-10-07</td>\n      <td>168.32</td>\n      <td>168.83</td>\n      <td>172.30</td>\n      <td>167.21</td>\n      <td>12.03</td>\n      <td>-0.01</td>\n      <td>阿里巴巴</td>\n      <td>阿里巴巴</td>\n    </tr>\n    <tr>\n      <td>5</td>\n      <td>BABA</td>\n      <td>2019-10-08</td>\n      <td>161.93</td>\n      <td>164.30</td>\n      <td>165.22</td>\n      <td>161.68</td>\n      <td>15.94</td>\n      <td>-0.04</td>\n      <td>阿里巴巴</td>\n      <td>阿里巴巴</td>\n    </tr>\n    <tr>\n      <td>6</td>\n      <td>BABA</td>\n      <td>2019-10-09</td>\n      <td>165.19</td>\n      <td>165.50</td>\n      <td>166.58</td>\n      <td>163.42</td>\n      <td>11.19</td>\n      <td>0.02</td>\n      <td>阿里巴巴</td>\n      <td>阿里巴巴</td>\n    </tr>\n    <tr>\n      <td>7</td>\n      <td>BABA</td>\n      <td>2019-10-10</td>\n      <td>166.07</td>\n      <td>165.96</td>\n      <td>168.57</td>\n      <td>164.09</td>\n      <td>11.54</td>\n      <td>0.01</td>\n      <td>阿里巴巴</td>\n      <td>阿里巴巴</td>\n    </tr>\n  </tbody>\n</table>\n</div>"
     },
     "metadata": {},
     "execution_count": 159
    }
   ],
   "source": [
    "# apply\n",
    "stocks['公司2'] = stocks['公司'].apply(lambda x: company[x.lower()])\n",
    "stocks.head(8)\n"
   ]
  },
  {
   "cell_type": "code",
   "execution_count": 160,
   "metadata": {},
   "outputs": [
    {
     "output_type": "execute_result",
     "data": {
      "text/plain": [
       "     公司          日期      收盘      开盘       高       低    交易量   涨跌幅   公司1   公司2  \\\n",
       "0  BABA  2019-10-01  165.15  168.01  168.23  163.64  14.19 -0.01  阿里巴巴  阿里巴巴   \n",
       "1  BABA  2019-10-02  165.77  162.82  166.88  161.90  11.60  0.00  阿里巴巴  阿里巴巴   \n",
       "2  BABA  2019-10-03  169.48  166.65  170.18  165.00  10.39  0.02  阿里巴巴  阿里巴巴   \n",
       "3  BABA  2019-10-04  170.34  169.60  170.70  167.56   8.86  0.01  阿里巴巴  阿里巴巴   \n",
       "4  BABA  2019-10-07  168.32  168.83  172.30  167.21  12.03 -0.01  阿里巴巴  阿里巴巴   \n",
       "5  BABA  2019-10-08  161.93  164.30  165.22  161.68  15.94 -0.04  阿里巴巴  阿里巴巴   \n",
       "6  BABA  2019-10-09  165.19  165.50  166.58  163.42  11.19  0.02  阿里巴巴  阿里巴巴   \n",
       "7  BABA  2019-10-10  166.07  165.96  168.57  164.09  11.54  0.01  阿里巴巴  阿里巴巴   \n",
       "\n",
       "    公司3  \n",
       "0  阿里巴巴  \n",
       "1  阿里巴巴  \n",
       "2  阿里巴巴  \n",
       "3  阿里巴巴  \n",
       "4  阿里巴巴  \n",
       "5  阿里巴巴  \n",
       "6  阿里巴巴  \n",
       "7  阿里巴巴  "
      ],
      "text/html": "<div>\n<style scoped>\n    .dataframe tbody tr th:only-of-type {\n        vertical-align: middle;\n    }\n\n    .dataframe tbody tr th {\n        vertical-align: top;\n    }\n\n    .dataframe thead th {\n        text-align: right;\n    }\n</style>\n<table border=\"1\" class=\"dataframe\">\n  <thead>\n    <tr style=\"text-align: right;\">\n      <th></th>\n      <th>公司</th>\n      <th>日期</th>\n      <th>收盘</th>\n      <th>开盘</th>\n      <th>高</th>\n      <th>低</th>\n      <th>交易量</th>\n      <th>涨跌幅</th>\n      <th>公司1</th>\n      <th>公司2</th>\n      <th>公司3</th>\n    </tr>\n  </thead>\n  <tbody>\n    <tr>\n      <td>0</td>\n      <td>BABA</td>\n      <td>2019-10-01</td>\n      <td>165.15</td>\n      <td>168.01</td>\n      <td>168.23</td>\n      <td>163.64</td>\n      <td>14.19</td>\n      <td>-0.01</td>\n      <td>阿里巴巴</td>\n      <td>阿里巴巴</td>\n      <td>阿里巴巴</td>\n    </tr>\n    <tr>\n      <td>1</td>\n      <td>BABA</td>\n      <td>2019-10-02</td>\n      <td>165.77</td>\n      <td>162.82</td>\n      <td>166.88</td>\n      <td>161.90</td>\n      <td>11.60</td>\n      <td>0.00</td>\n      <td>阿里巴巴</td>\n      <td>阿里巴巴</td>\n      <td>阿里巴巴</td>\n    </tr>\n    <tr>\n      <td>2</td>\n      <td>BABA</td>\n      <td>2019-10-03</td>\n      <td>169.48</td>\n      <td>166.65</td>\n      <td>170.18</td>\n      <td>165.00</td>\n      <td>10.39</td>\n      <td>0.02</td>\n      <td>阿里巴巴</td>\n      <td>阿里巴巴</td>\n      <td>阿里巴巴</td>\n    </tr>\n    <tr>\n      <td>3</td>\n      <td>BABA</td>\n      <td>2019-10-04</td>\n      <td>170.34</td>\n      <td>169.60</td>\n      <td>170.70</td>\n      <td>167.56</td>\n      <td>8.86</td>\n      <td>0.01</td>\n      <td>阿里巴巴</td>\n      <td>阿里巴巴</td>\n      <td>阿里巴巴</td>\n    </tr>\n    <tr>\n      <td>4</td>\n      <td>BABA</td>\n      <td>2019-10-07</td>\n      <td>168.32</td>\n      <td>168.83</td>\n      <td>172.30</td>\n      <td>167.21</td>\n      <td>12.03</td>\n      <td>-0.01</td>\n      <td>阿里巴巴</td>\n      <td>阿里巴巴</td>\n      <td>阿里巴巴</td>\n    </tr>\n    <tr>\n      <td>5</td>\n      <td>BABA</td>\n      <td>2019-10-08</td>\n      <td>161.93</td>\n      <td>164.30</td>\n      <td>165.22</td>\n      <td>161.68</td>\n      <td>15.94</td>\n      <td>-0.04</td>\n      <td>阿里巴巴</td>\n      <td>阿里巴巴</td>\n      <td>阿里巴巴</td>\n    </tr>\n    <tr>\n      <td>6</td>\n      <td>BABA</td>\n      <td>2019-10-09</td>\n      <td>165.19</td>\n      <td>165.50</td>\n      <td>166.58</td>\n      <td>163.42</td>\n      <td>11.19</td>\n      <td>0.02</td>\n      <td>阿里巴巴</td>\n      <td>阿里巴巴</td>\n      <td>阿里巴巴</td>\n    </tr>\n    <tr>\n      <td>7</td>\n      <td>BABA</td>\n      <td>2019-10-10</td>\n      <td>166.07</td>\n      <td>165.96</td>\n      <td>168.57</td>\n      <td>164.09</td>\n      <td>11.54</td>\n      <td>0.01</td>\n      <td>阿里巴巴</td>\n      <td>阿里巴巴</td>\n      <td>阿里巴巴</td>\n    </tr>\n  </tbody>\n</table>\n</div>"
     },
     "metadata": {},
     "execution_count": 160
    }
   ],
   "source": [
    "stocks['公司3'] = stocks.apply(lambda x: company[x['公司'].lower()], axis=1)\n",
    "stocks.head(8)"
   ]
  },
  {
   "cell_type": "code",
   "execution_count": 162,
   "metadata": {},
   "outputs": [
    {
     "output_type": "execute_result",
     "data": {
      "text/plain": [
       "       开盘      收盘       高       低    交易量   涨跌幅\n",
       "0  168.01  165.15  168.23  163.64  14.19 -0.01\n",
       "1  162.82  165.77  166.88  161.90  11.60  0.00\n",
       "2  166.65  169.48  170.18  165.00  10.39  0.02\n",
       "3  169.60  170.34  170.70  167.56   8.86  0.01\n",
       "4  168.83  168.32  172.30  167.21  12.03 -0.01"
      ],
      "text/html": "<div>\n<style scoped>\n    .dataframe tbody tr th:only-of-type {\n        vertical-align: middle;\n    }\n\n    .dataframe tbody tr th {\n        vertical-align: top;\n    }\n\n    .dataframe thead th {\n        text-align: right;\n    }\n</style>\n<table border=\"1\" class=\"dataframe\">\n  <thead>\n    <tr style=\"text-align: right;\">\n      <th></th>\n      <th>开盘</th>\n      <th>收盘</th>\n      <th>高</th>\n      <th>低</th>\n      <th>交易量</th>\n      <th>涨跌幅</th>\n    </tr>\n  </thead>\n  <tbody>\n    <tr>\n      <td>0</td>\n      <td>168.01</td>\n      <td>165.15</td>\n      <td>168.23</td>\n      <td>163.64</td>\n      <td>14.19</td>\n      <td>-0.01</td>\n    </tr>\n    <tr>\n      <td>1</td>\n      <td>162.82</td>\n      <td>165.77</td>\n      <td>166.88</td>\n      <td>161.90</td>\n      <td>11.60</td>\n      <td>0.00</td>\n    </tr>\n    <tr>\n      <td>2</td>\n      <td>166.65</td>\n      <td>169.48</td>\n      <td>170.18</td>\n      <td>165.00</td>\n      <td>10.39</td>\n      <td>0.02</td>\n    </tr>\n    <tr>\n      <td>3</td>\n      <td>169.60</td>\n      <td>170.34</td>\n      <td>170.70</td>\n      <td>167.56</td>\n      <td>8.86</td>\n      <td>0.01</td>\n    </tr>\n    <tr>\n      <td>4</td>\n      <td>168.83</td>\n      <td>168.32</td>\n      <td>172.30</td>\n      <td>167.21</td>\n      <td>12.03</td>\n      <td>-0.01</td>\n    </tr>\n  </tbody>\n</table>\n</div>"
     },
     "metadata": {},
     "execution_count": 162
    }
   ],
   "source": [
    "sub_stock = stocks[['开盘','收盘','高','低','交易量','涨跌幅']]\n",
    "sub_stock.head()"
   ]
  },
  {
   "cell_type": "code",
   "execution_count": 167,
   "metadata": {},
   "outputs": [
    {
     "output_type": "execute_result",
     "data": {
      "text/plain": [
       "     公司          日期   收盘   开盘    高    低  交易量  涨跌幅   公司1   公司2   公司3\n",
       "0  BABA  2019-10-01  165  168  168  163   14    0  阿里巴巴  阿里巴巴  阿里巴巴\n",
       "1  BABA  2019-10-02  165  162  166  161   11    0  阿里巴巴  阿里巴巴  阿里巴巴\n",
       "2  BABA  2019-10-03  169  166  170  165   10    0  阿里巴巴  阿里巴巴  阿里巴巴\n",
       "3  BABA  2019-10-04  170  169  170  167    8    0  阿里巴巴  阿里巴巴  阿里巴巴\n",
       "4  BABA  2019-10-07  168  168  172  167   12    0  阿里巴巴  阿里巴巴  阿里巴巴\n",
       "5  BABA  2019-10-08  161  164  165  161   15    0  阿里巴巴  阿里巴巴  阿里巴巴\n",
       "6  BABA  2019-10-09  165  165  166  163   11    0  阿里巴巴  阿里巴巴  阿里巴巴\n",
       "7  BABA  2019-10-10  166  165  168  164   11    0  阿里巴巴  阿里巴巴  阿里巴巴"
      ],
      "text/html": "<div>\n<style scoped>\n    .dataframe tbody tr th:only-of-type {\n        vertical-align: middle;\n    }\n\n    .dataframe tbody tr th {\n        vertical-align: top;\n    }\n\n    .dataframe thead th {\n        text-align: right;\n    }\n</style>\n<table border=\"1\" class=\"dataframe\">\n  <thead>\n    <tr style=\"text-align: right;\">\n      <th></th>\n      <th>公司</th>\n      <th>日期</th>\n      <th>收盘</th>\n      <th>开盘</th>\n      <th>高</th>\n      <th>低</th>\n      <th>交易量</th>\n      <th>涨跌幅</th>\n      <th>公司1</th>\n      <th>公司2</th>\n      <th>公司3</th>\n    </tr>\n  </thead>\n  <tbody>\n    <tr>\n      <td>0</td>\n      <td>BABA</td>\n      <td>2019-10-01</td>\n      <td>165</td>\n      <td>168</td>\n      <td>168</td>\n      <td>163</td>\n      <td>14</td>\n      <td>0</td>\n      <td>阿里巴巴</td>\n      <td>阿里巴巴</td>\n      <td>阿里巴巴</td>\n    </tr>\n    <tr>\n      <td>1</td>\n      <td>BABA</td>\n      <td>2019-10-02</td>\n      <td>165</td>\n      <td>162</td>\n      <td>166</td>\n      <td>161</td>\n      <td>11</td>\n      <td>0</td>\n      <td>阿里巴巴</td>\n      <td>阿里巴巴</td>\n      <td>阿里巴巴</td>\n    </tr>\n    <tr>\n      <td>2</td>\n      <td>BABA</td>\n      <td>2019-10-03</td>\n      <td>169</td>\n      <td>166</td>\n      <td>170</td>\n      <td>165</td>\n      <td>10</td>\n      <td>0</td>\n      <td>阿里巴巴</td>\n      <td>阿里巴巴</td>\n      <td>阿里巴巴</td>\n    </tr>\n    <tr>\n      <td>3</td>\n      <td>BABA</td>\n      <td>2019-10-04</td>\n      <td>170</td>\n      <td>169</td>\n      <td>170</td>\n      <td>167</td>\n      <td>8</td>\n      <td>0</td>\n      <td>阿里巴巴</td>\n      <td>阿里巴巴</td>\n      <td>阿里巴巴</td>\n    </tr>\n    <tr>\n      <td>4</td>\n      <td>BABA</td>\n      <td>2019-10-07</td>\n      <td>168</td>\n      <td>168</td>\n      <td>172</td>\n      <td>167</td>\n      <td>12</td>\n      <td>0</td>\n      <td>阿里巴巴</td>\n      <td>阿里巴巴</td>\n      <td>阿里巴巴</td>\n    </tr>\n    <tr>\n      <td>5</td>\n      <td>BABA</td>\n      <td>2019-10-08</td>\n      <td>161</td>\n      <td>164</td>\n      <td>165</td>\n      <td>161</td>\n      <td>15</td>\n      <td>0</td>\n      <td>阿里巴巴</td>\n      <td>阿里巴巴</td>\n      <td>阿里巴巴</td>\n    </tr>\n    <tr>\n      <td>6</td>\n      <td>BABA</td>\n      <td>2019-10-09</td>\n      <td>165</td>\n      <td>165</td>\n      <td>166</td>\n      <td>163</td>\n      <td>11</td>\n      <td>0</td>\n      <td>阿里巴巴</td>\n      <td>阿里巴巴</td>\n      <td>阿里巴巴</td>\n    </tr>\n    <tr>\n      <td>7</td>\n      <td>BABA</td>\n      <td>2019-10-10</td>\n      <td>166</td>\n      <td>165</td>\n      <td>168</td>\n      <td>164</td>\n      <td>11</td>\n      <td>0</td>\n      <td>阿里巴巴</td>\n      <td>阿里巴巴</td>\n      <td>阿里巴巴</td>\n    </tr>\n  </tbody>\n</table>\n</div>"
     },
     "metadata": {},
     "execution_count": 167
    }
   ],
   "source": [
    "stocks[['开盘','收盘','高','低','交易量','涨跌幅']] = sub_stock.applymap(lambda x: int(x))\n",
    "stocks.head(8)"
   ]
  },
  {
   "cell_type": "code",
   "execution_count": null,
   "metadata": {},
   "outputs": [],
   "source": []
  }
 ]
}