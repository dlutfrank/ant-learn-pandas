{
 "metadata": {
  "language_info": {
   "codemirror_mode": {
    "name": "ipython",
    "version": 3
   },
   "file_extension": ".py",
   "mimetype": "text/x-python",
   "name": "python",
   "nbconvert_exporter": "python",
   "pygments_lexer": "ipython3",
   "version": 3
  },
  "orig_nbformat": 2
 },
 "nbformat": 4,
 "nbformat_minor": 2,
 "cells": [
  {
   "source": [
    "### pandas 学习笔记\n"
   ],
   "cell_type": "markdown",
   "metadata": {}
  },
  {
   "source": [
    "01 总结"
   ],
   "cell_type": "markdown",
   "metadata": {}
  },
  {
   "source": [
    "02 总结"
   ],
   "cell_type": "markdown",
   "metadata": {}
  }
 ]
}