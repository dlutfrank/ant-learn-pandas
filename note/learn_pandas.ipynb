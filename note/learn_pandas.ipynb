{
 "metadata": {
  "language_info": {
   "codemirror_mode": {
    "name": "ipython",
    "version": 3
   },
   "file_extension": ".py",
   "mimetype": "text/x-python",
   "name": "python",
   "nbconvert_exporter": "python",
   "pygments_lexer": "ipython3",
   "version": "3.6.8-final"
  },
  "orig_nbformat": 2,
  "kernelspec": {
   "name": "python3",
   "display_name": "Python 3"
  }
 },
 "nbformat": 4,
 "nbformat_minor": 2,
 "cells": [
  {
   "source": [
    "## pandas 学习笔记\n"
   ],
   "cell_type": "markdown",
   "metadata": {}
  },
  {
   "source": [
    "### 01 总结\n",
    "+ 安装 pip3 install pandas\n",
    "+ jupyter lab 交互式演示神器\n",
    "    + 安装 pip3 install jupyterlab\n",
    "+ vscode 非常好用的IDE，支持项目开发，支持jupyter\n",
    "+ 课程资源地址: https://github.com/dlutfrank/ant-learn-pandas.git"
   ],
   "cell_type": "markdown",
   "metadata": {}
  },
  {
   "source": [
    "### 02 数据读取\n",
    "#### 2.1 csv数据读取\n",
    "+ 直接读取"
   ],
   "cell_type": "markdown",
   "metadata": {}
  },
  {
   "cell_type": "code",
   "execution_count": null,
   "metadata": {},
   "outputs": [],
   "source": [
    "import pandas as pd\n",
    "fpath = '../datas/ml-latest-small/ratings.csv'\n",
    "ratings = pd.read_csv(fpath)"
   ]
  },
  {
   "cell_type": "code",
   "execution_count": null,
   "metadata": {},
   "outputs": [],
   "source": [
    "ratings.head()"
   ]
  },
  {
   "cell_type": "code",
   "execution_count": null,
   "metadata": {},
   "outputs": [],
   "source": [
    "ratings.describe()"
   ]
  },
  {
   "source": [
    "+ 指定分割符、列名读取"
   ],
   "cell_type": "markdown",
   "metadata": {}
  }
 ]
}