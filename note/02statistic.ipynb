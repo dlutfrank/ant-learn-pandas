{
 "metadata": {
  "language_info": {
   "codemirror_mode": {
    "name": "ipython",
    "version": 3
   },
   "file_extension": ".py",
   "mimetype": "text/x-python",
   "name": "python",
   "nbconvert_exporter": "python",
   "pygments_lexer": "ipython3",
   "version": "3.6.8-final"
  },
  "orig_nbformat": 2,
  "kernelspec": {
   "name": "python3",
   "display_name": "Python 3"
  }
 },
 "nbformat": 4,
 "nbformat_minor": 2,
 "cells": [
  {
   "source": [
    "### 统计函数\n",
    "1. 汇总类\n",
    "2. 唯一值\n",
    "3. 协方差和相关系数"
   ],
   "cell_type": "markdown",
   "metadata": {}
  },
  {
   "cell_type": "code",
   "execution_count": 1,
   "metadata": {},
   "outputs": [],
   "source": [
    "import pandas as pd\n",
    "fpath = \"../datas/beijing_tianqi/beijing_tianqi_2018.csv\"\n",
    "df = pd.read_csv(fpath)"
   ]
  },
  {
   "cell_type": "code",
   "execution_count": 7,
   "metadata": {},
   "outputs": [
    {
     "output_type": "execute_result",
     "data": {
      "text/plain": [
       "          ymd bWendu yWendu tianqi fengxiang fengli  aqi aqiInfo  aqiLevel  \\\n",
       "0  2018-01-01     3℃    -6℃   晴~多云       东北风   1-2级   59       良         2   \n",
       "1  2018-01-02     2℃    -5℃   阴~多云       东北风   1-2级   49       优         1   \n",
       "2  2018-01-03     2℃    -5℃     多云        北风   1-2级   28       优         1   \n",
       "3  2018-01-04     0℃    -8℃      阴       东北风   1-2级   28       优         1   \n",
       "4  2018-01-05     3℃    -6℃   多云~晴       西北风   1-2级   50       优         1   \n",
       "\n",
       "   hw  lw  diff  \n",
       "0   3  -6     9  \n",
       "1   2  -5     7  \n",
       "2   2  -5     7  \n",
       "3   0  -8     8  \n",
       "4   3  -6     9  "
      ],
      "text/html": "<div>\n<style scoped>\n    .dataframe tbody tr th:only-of-type {\n        vertical-align: middle;\n    }\n\n    .dataframe tbody tr th {\n        vertical-align: top;\n    }\n\n    .dataframe thead th {\n        text-align: right;\n    }\n</style>\n<table border=\"1\" class=\"dataframe\">\n  <thead>\n    <tr style=\"text-align: right;\">\n      <th></th>\n      <th>ymd</th>\n      <th>bWendu</th>\n      <th>yWendu</th>\n      <th>tianqi</th>\n      <th>fengxiang</th>\n      <th>fengli</th>\n      <th>aqi</th>\n      <th>aqiInfo</th>\n      <th>aqiLevel</th>\n      <th>hw</th>\n      <th>lw</th>\n      <th>diff</th>\n    </tr>\n  </thead>\n  <tbody>\n    <tr>\n      <td>0</td>\n      <td>2018-01-01</td>\n      <td>3℃</td>\n      <td>-6℃</td>\n      <td>晴~多云</td>\n      <td>东北风</td>\n      <td>1-2级</td>\n      <td>59</td>\n      <td>良</td>\n      <td>2</td>\n      <td>3</td>\n      <td>-6</td>\n      <td>9</td>\n    </tr>\n    <tr>\n      <td>1</td>\n      <td>2018-01-02</td>\n      <td>2℃</td>\n      <td>-5℃</td>\n      <td>阴~多云</td>\n      <td>东北风</td>\n      <td>1-2级</td>\n      <td>49</td>\n      <td>优</td>\n      <td>1</td>\n      <td>2</td>\n      <td>-5</td>\n      <td>7</td>\n    </tr>\n    <tr>\n      <td>2</td>\n      <td>2018-01-03</td>\n      <td>2℃</td>\n      <td>-5℃</td>\n      <td>多云</td>\n      <td>北风</td>\n      <td>1-2级</td>\n      <td>28</td>\n      <td>优</td>\n      <td>1</td>\n      <td>2</td>\n      <td>-5</td>\n      <td>7</td>\n    </tr>\n    <tr>\n      <td>3</td>\n      <td>2018-01-04</td>\n      <td>0℃</td>\n      <td>-8℃</td>\n      <td>阴</td>\n      <td>东北风</td>\n      <td>1-2级</td>\n      <td>28</td>\n      <td>优</td>\n      <td>1</td>\n      <td>0</td>\n      <td>-8</td>\n      <td>8</td>\n    </tr>\n    <tr>\n      <td>4</td>\n      <td>2018-01-05</td>\n      <td>3℃</td>\n      <td>-6℃</td>\n      <td>多云~晴</td>\n      <td>西北风</td>\n      <td>1-2级</td>\n      <td>50</td>\n      <td>优</td>\n      <td>1</td>\n      <td>3</td>\n      <td>-6</td>\n      <td>9</td>\n    </tr>\n  </tbody>\n</table>\n</div>"
     },
     "metadata": {},
     "execution_count": 7
    }
   ],
   "source": [
    "df['hw'] = df['bWendu'].str.replace('℃','').astype('int32')\n",
    "df['lw'] = df['yWendu'].str.replace('℃','').astype('int32')\n",
    "df['diff'] = df['hw'] - df['lw']\n",
    "df.head()"
   ]
  },
  {
   "cell_type": "code",
   "execution_count": 8,
   "metadata": {},
   "outputs": [
    {
     "output_type": "execute_result",
     "data": {
      "text/plain": [
       "              aqi    aqiLevel          hw          lw        diff\n",
       "count  365.000000  365.000000  365.000000  365.000000  365.000000\n",
       "mean    82.183562    2.090411   18.665753    8.358904   10.306849\n",
       "std     51.936159    1.029798   11.858046   11.755053    2.781233\n",
       "min     21.000000    1.000000   -5.000000  -12.000000    2.000000\n",
       "25%     46.000000    1.000000    8.000000   -3.000000    8.000000\n",
       "50%     69.000000    2.000000   21.000000    8.000000   10.000000\n",
       "75%    104.000000    3.000000   29.000000   19.000000   12.000000\n",
       "max    387.000000    6.000000   38.000000   27.000000   18.000000"
      ],
      "text/html": "<div>\n<style scoped>\n    .dataframe tbody tr th:only-of-type {\n        vertical-align: middle;\n    }\n\n    .dataframe tbody tr th {\n        vertical-align: top;\n    }\n\n    .dataframe thead th {\n        text-align: right;\n    }\n</style>\n<table border=\"1\" class=\"dataframe\">\n  <thead>\n    <tr style=\"text-align: right;\">\n      <th></th>\n      <th>aqi</th>\n      <th>aqiLevel</th>\n      <th>hw</th>\n      <th>lw</th>\n      <th>diff</th>\n    </tr>\n  </thead>\n  <tbody>\n    <tr>\n      <td>count</td>\n      <td>365.000000</td>\n      <td>365.000000</td>\n      <td>365.000000</td>\n      <td>365.000000</td>\n      <td>365.000000</td>\n    </tr>\n    <tr>\n      <td>mean</td>\n      <td>82.183562</td>\n      <td>2.090411</td>\n      <td>18.665753</td>\n      <td>8.358904</td>\n      <td>10.306849</td>\n    </tr>\n    <tr>\n      <td>std</td>\n      <td>51.936159</td>\n      <td>1.029798</td>\n      <td>11.858046</td>\n      <td>11.755053</td>\n      <td>2.781233</td>\n    </tr>\n    <tr>\n      <td>min</td>\n      <td>21.000000</td>\n      <td>1.000000</td>\n      <td>-5.000000</td>\n      <td>-12.000000</td>\n      <td>2.000000</td>\n    </tr>\n    <tr>\n      <td>25%</td>\n      <td>46.000000</td>\n      <td>1.000000</td>\n      <td>8.000000</td>\n      <td>-3.000000</td>\n      <td>8.000000</td>\n    </tr>\n    <tr>\n      <td>50%</td>\n      <td>69.000000</td>\n      <td>2.000000</td>\n      <td>21.000000</td>\n      <td>8.000000</td>\n      <td>10.000000</td>\n    </tr>\n    <tr>\n      <td>75%</td>\n      <td>104.000000</td>\n      <td>3.000000</td>\n      <td>29.000000</td>\n      <td>19.000000</td>\n      <td>12.000000</td>\n    </tr>\n    <tr>\n      <td>max</td>\n      <td>387.000000</td>\n      <td>6.000000</td>\n      <td>38.000000</td>\n      <td>27.000000</td>\n      <td>18.000000</td>\n    </tr>\n  </tbody>\n</table>\n</div>"
     },
     "metadata": {},
     "execution_count": 8
    }
   ],
   "source": [
    "# 汇总类\n",
    "df.describe()"
   ]
  },
  {
   "cell_type": "code",
   "execution_count": 13,
   "metadata": {},
   "outputs": [
    {
     "output_type": "execute_result",
     "data": {
      "text/plain": [
       "365"
      ]
     },
     "metadata": {},
     "execution_count": 13
    }
   ],
   "source": [
    "# 对单列进行统计\n",
    "# df['aqi'].mean()\n",
    "# df['aqi'].std()\n",
    "df['aqi'].count()"
   ]
  },
  {
   "cell_type": "code",
   "execution_count": 18,
   "metadata": {},
   "outputs": [
    {
     "output_type": "execute_result",
     "data": {
      "text/plain": [
       "array(['东北风', '北风', '西北风', '西南风', '南风', '东南风', '东风', '西风'], dtype=object)"
      ]
     },
     "metadata": {},
     "execution_count": 18
    }
   ],
   "source": [
    "# 唯一值\n",
    "df['fengxiang'].unique()"
   ]
  },
  {
   "cell_type": "code",
   "execution_count": 19,
   "metadata": {},
   "outputs": [
    {
     "output_type": "execute_result",
     "data": {
      "text/plain": [
       "南风     92\n",
       "西南风    64\n",
       "北风     54\n",
       "西北风    51\n",
       "东南风    46\n",
       "东北风    38\n",
       "东风     14\n",
       "西风      6\n",
       "Name: fengxiang, dtype: int64"
      ]
     },
     "metadata": {},
     "execution_count": 19
    }
   ],
   "source": [
    "# 统计值\n",
    "df['fengxiang'].value_counts()"
   ]
  },
  {
   "source": [
    "#### 协方差和相关系数\n",
    "\n",
    "用途（超级厉害）： 1. 两只股票，是不是同涨同跌？程度多大？正相关还是负相关？ 2. 产品销量的波动，跟哪些因素正相关、负相关，程度有多大？\n",
    "\n",
    "来自知乎，对于两个变量X、Y： 1. 协方差：衡量同向反向程度，如果协方差为正，说明X，Y同向变化，协方差越大说明同向程度越高；如果协方差为负，说明X，Y反向运动，协方差越小说明反向程度越高。 2. 相关系数：衡量相似度程度，当他们的相关系数为1时，说明两个变量变化时的正向相似度最大，当相关系数为－1时，说明两个变量变化的反向相似度最大"
   ],
   "cell_type": "markdown",
   "metadata": {}
  },
  {
   "cell_type": "code",
   "execution_count": 14,
   "metadata": {},
   "outputs": [
    {
     "output_type": "execute_result",
     "data": {
      "text/plain": [
       "               aqi  aqiLevel        hw        lw      diff\n",
       "aqi       1.000000  0.948883  0.077067  0.026513  0.216523\n",
       "aqiLevel  0.948883  1.000000  0.071999  0.021822  0.214740\n",
       "hw        0.077067  0.071999  1.000000  0.972292  0.154142\n",
       "lw        0.026513  0.021822  0.972292  1.000000 -0.081106\n",
       "diff      0.216523  0.214740  0.154142 -0.081106  1.000000"
      ],
      "text/html": "<div>\n<style scoped>\n    .dataframe tbody tr th:only-of-type {\n        vertical-align: middle;\n    }\n\n    .dataframe tbody tr th {\n        vertical-align: top;\n    }\n\n    .dataframe thead th {\n        text-align: right;\n    }\n</style>\n<table border=\"1\" class=\"dataframe\">\n  <thead>\n    <tr style=\"text-align: right;\">\n      <th></th>\n      <th>aqi</th>\n      <th>aqiLevel</th>\n      <th>hw</th>\n      <th>lw</th>\n      <th>diff</th>\n    </tr>\n  </thead>\n  <tbody>\n    <tr>\n      <td>aqi</td>\n      <td>1.000000</td>\n      <td>0.948883</td>\n      <td>0.077067</td>\n      <td>0.026513</td>\n      <td>0.216523</td>\n    </tr>\n    <tr>\n      <td>aqiLevel</td>\n      <td>0.948883</td>\n      <td>1.000000</td>\n      <td>0.071999</td>\n      <td>0.021822</td>\n      <td>0.214740</td>\n    </tr>\n    <tr>\n      <td>hw</td>\n      <td>0.077067</td>\n      <td>0.071999</td>\n      <td>1.000000</td>\n      <td>0.972292</td>\n      <td>0.154142</td>\n    </tr>\n    <tr>\n      <td>lw</td>\n      <td>0.026513</td>\n      <td>0.021822</td>\n      <td>0.972292</td>\n      <td>1.000000</td>\n      <td>-0.081106</td>\n    </tr>\n    <tr>\n      <td>diff</td>\n      <td>0.216523</td>\n      <td>0.214740</td>\n      <td>0.154142</td>\n      <td>-0.081106</td>\n      <td>1.000000</td>\n    </tr>\n  </tbody>\n</table>\n</div>"
     },
     "metadata": {},
     "execution_count": 14
    }
   ],
   "source": [
    "# 相关系数，[-1,1]，越接近0相关性越低\n",
    "df.corr()"
   ]
  },
  {
   "cell_type": "code",
   "execution_count": 15,
   "metadata": {},
   "outputs": [
    {
     "output_type": "execute_result",
     "data": {
      "text/plain": [
       "0.2165225757638205"
      ]
     },
     "metadata": {},
     "execution_count": 15
    }
   ],
   "source": [
    "df['aqi'].corr(df['diff'])"
   ]
  },
  {
   "cell_type": "code",
   "execution_count": 16,
   "metadata": {},
   "outputs": [
    {
     "output_type": "execute_result",
     "data": {
      "text/plain": [
       "                  aqi   aqiLevel          hw          lw       diff\n",
       "aqi       2697.364564  50.749842   47.462622   16.186685  31.275937\n",
       "aqiLevel    50.749842   1.060485    0.879204    0.264165   0.615038\n",
       "hw          47.462622   0.879204  140.613247  135.529633   5.083614\n",
       "lw          16.186685   0.264165  135.529633  138.181274  -2.651641\n",
       "diff        31.275937   0.615038    5.083614   -2.651641   7.735255"
      ],
      "text/html": "<div>\n<style scoped>\n    .dataframe tbody tr th:only-of-type {\n        vertical-align: middle;\n    }\n\n    .dataframe tbody tr th {\n        vertical-align: top;\n    }\n\n    .dataframe thead th {\n        text-align: right;\n    }\n</style>\n<table border=\"1\" class=\"dataframe\">\n  <thead>\n    <tr style=\"text-align: right;\">\n      <th></th>\n      <th>aqi</th>\n      <th>aqiLevel</th>\n      <th>hw</th>\n      <th>lw</th>\n      <th>diff</th>\n    </tr>\n  </thead>\n  <tbody>\n    <tr>\n      <td>aqi</td>\n      <td>2697.364564</td>\n      <td>50.749842</td>\n      <td>47.462622</td>\n      <td>16.186685</td>\n      <td>31.275937</td>\n    </tr>\n    <tr>\n      <td>aqiLevel</td>\n      <td>50.749842</td>\n      <td>1.060485</td>\n      <td>0.879204</td>\n      <td>0.264165</td>\n      <td>0.615038</td>\n    </tr>\n    <tr>\n      <td>hw</td>\n      <td>47.462622</td>\n      <td>0.879204</td>\n      <td>140.613247</td>\n      <td>135.529633</td>\n      <td>5.083614</td>\n    </tr>\n    <tr>\n      <td>lw</td>\n      <td>16.186685</td>\n      <td>0.264165</td>\n      <td>135.529633</td>\n      <td>138.181274</td>\n      <td>-2.651641</td>\n    </tr>\n    <tr>\n      <td>diff</td>\n      <td>31.275937</td>\n      <td>0.615038</td>\n      <td>5.083614</td>\n      <td>-2.651641</td>\n      <td>7.735255</td>\n    </tr>\n  </tbody>\n</table>\n</div>"
     },
     "metadata": {},
     "execution_count": 16
    }
   ],
   "source": [
    "df.cov()"
   ]
  }
 ]
}