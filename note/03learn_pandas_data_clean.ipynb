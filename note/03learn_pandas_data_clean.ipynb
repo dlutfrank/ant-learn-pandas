{
 "metadata": {
  "language_info": {
   "codemirror_mode": {
    "name": "ipython",
    "version": 3
   },
   "file_extension": ".py",
   "mimetype": "text/x-python",
   "name": "python",
   "nbconvert_exporter": "python",
   "pygments_lexer": "ipython3",
   "version": "3.7.7-final"
  },
  "orig_nbformat": 2,
  "kernelspec": {
   "name": "python3",
   "display_name": "Python 3"
  }
 },
 "nbformat": 4,
 "nbformat_minor": 2,
 "cells": [
  {
   "source": [
    "### 数据清洗\n",
    "#### 缺失值处理\n",
    "1. 判断缺失值\n",
    "    + isnull, notnull\n",
    "2. 缺失值的填充\n",
    "    + dropna(axis=0,how='any',thresh=None,subset=None,inplace=Flase)\n",
    "    how: any|all,thresh至少保留多少数据,subset只检测对应的列或者行\n",
    "3. 缺失值的删除\n",
    "    + fillna(value,method='None',axis=None,inplace=False,limit=None,downcast=None)\n",
    "    value: 值或者dict，method: 'ffill','bfill'"
   ],
   "cell_type": "markdown",
   "metadata": {}
  },
  {
   "cell_type": "code",
   "execution_count": null,
   "metadata": {},
   "outputs": [],
   "source": [
    "import pandas as pd\n",
    "import openpyxl\n",
    "studf = pd.read_excel(\"../datas/student_excel/student_excel.xlsx\", skiprows=2)\n",
    "studf"
   ]
  },
  {
   "cell_type": "code",
   "execution_count": null,
   "metadata": {},
   "outputs": [],
   "source": [
    "# 移除所有的空行\n",
    "studf.dropna(axis=0, how='all', inplace=True)\n",
    "studf"
   ]
  },
  {
   "cell_type": "code",
   "execution_count": null,
   "metadata": {},
   "outputs": [],
   "source": [
    "# 移除所有空列\n",
    "studf.dropna(axis=1, how='all', inplace=True)\n",
    "studf"
   ]
  },
  {
   "cell_type": "code",
   "execution_count": null,
   "metadata": {},
   "outputs": [],
   "source": [
    "# 填充分数\n",
    "studf.fillna({'分数': 0.0},inplace=True)\n",
    "studf"
   ]
  },
  {
   "cell_type": "code",
   "execution_count": null,
   "metadata": {},
   "outputs": [],
   "source": [
    "# 填充姓名\n",
    "studf['姓名'].fillna(method='ffill', inplace=True)\n",
    "# 等同于 studf['姓名'] = studf['姓名'].fillna(method='ffill', inplace=True)\n",
    "studf"
   ]
  },
  {
   "cell_type": "code",
   "execution_count": null,
   "metadata": {},
   "outputs": [],
   "source": [
    "# save\n",
    "studf.to_excel(\"../datas/student_excel/student_excel_demo.xlsx\", index=False)"
   ]
  },
  {
   "source": [
    "#### 排序\n",
    "+ Series排序 Series.sort_values(ascending=True, inplace=False)\n",
    "+ DataFrame.sort_values(by, axis=0, ascending=True, inplace=False, kind='quicksort', na_position='last', ignore_index=False, key=None)\n",
    "by: 标签或者标签数组"
   ],
   "cell_type": "markdown",
   "metadata": {}
  },
  {
   "cell_type": "code",
   "execution_count": 25,
   "metadata": {},
   "outputs": [
    {
     "output_type": "execute_result",
     "data": {
      "text/plain": [
       "          ymd bWendu yWendu tianqi fengxiang fengli  aqi aqiInfo  aqiLevel  \\\n",
       "0  2018-01-01     3℃    -6℃   晴~多云       东北风   1-2级   59       良         2   \n",
       "1  2018-01-02     2℃    -5℃   阴~多云       东北风   1-2级   49       优         1   \n",
       "2  2018-01-03     2℃    -5℃     多云        北风   1-2级   28       优         1   \n",
       "3  2018-01-04     0℃    -8℃      阴       东北风   1-2级   28       优         1   \n",
       "4  2018-01-05     3℃    -6℃   多云~晴       西北风   1-2级   50       优         1   \n",
       "\n",
       "   hw  lw  \n",
       "0   3  -6  \n",
       "1   2  -5  \n",
       "2   2  -5  \n",
       "3   0  -8  \n",
       "4   3  -6  "
      ],
      "text/html": "<div>\n<style scoped>\n    .dataframe tbody tr th:only-of-type {\n        vertical-align: middle;\n    }\n\n    .dataframe tbody tr th {\n        vertical-align: top;\n    }\n\n    .dataframe thead th {\n        text-align: right;\n    }\n</style>\n<table border=\"1\" class=\"dataframe\">\n  <thead>\n    <tr style=\"text-align: right;\">\n      <th></th>\n      <th>ymd</th>\n      <th>bWendu</th>\n      <th>yWendu</th>\n      <th>tianqi</th>\n      <th>fengxiang</th>\n      <th>fengli</th>\n      <th>aqi</th>\n      <th>aqiInfo</th>\n      <th>aqiLevel</th>\n      <th>hw</th>\n      <th>lw</th>\n    </tr>\n  </thead>\n  <tbody>\n    <tr>\n      <td>0</td>\n      <td>2018-01-01</td>\n      <td>3℃</td>\n      <td>-6℃</td>\n      <td>晴~多云</td>\n      <td>东北风</td>\n      <td>1-2级</td>\n      <td>59</td>\n      <td>良</td>\n      <td>2</td>\n      <td>3</td>\n      <td>-6</td>\n    </tr>\n    <tr>\n      <td>1</td>\n      <td>2018-01-02</td>\n      <td>2℃</td>\n      <td>-5℃</td>\n      <td>阴~多云</td>\n      <td>东北风</td>\n      <td>1-2级</td>\n      <td>49</td>\n      <td>优</td>\n      <td>1</td>\n      <td>2</td>\n      <td>-5</td>\n    </tr>\n    <tr>\n      <td>2</td>\n      <td>2018-01-03</td>\n      <td>2℃</td>\n      <td>-5℃</td>\n      <td>多云</td>\n      <td>北风</td>\n      <td>1-2级</td>\n      <td>28</td>\n      <td>优</td>\n      <td>1</td>\n      <td>2</td>\n      <td>-5</td>\n    </tr>\n    <tr>\n      <td>3</td>\n      <td>2018-01-04</td>\n      <td>0℃</td>\n      <td>-8℃</td>\n      <td>阴</td>\n      <td>东北风</td>\n      <td>1-2级</td>\n      <td>28</td>\n      <td>优</td>\n      <td>1</td>\n      <td>0</td>\n      <td>-8</td>\n    </tr>\n    <tr>\n      <td>4</td>\n      <td>2018-01-05</td>\n      <td>3℃</td>\n      <td>-6℃</td>\n      <td>多云~晴</td>\n      <td>西北风</td>\n      <td>1-2级</td>\n      <td>50</td>\n      <td>优</td>\n      <td>1</td>\n      <td>3</td>\n      <td>-6</td>\n    </tr>\n  </tbody>\n</table>\n</div>"
     },
     "metadata": {},
     "execution_count": 25
    }
   ],
   "source": [
    "tq = pd.read_csv('../datas/beijing_tianqi/beijing_tianqi_2018.csv')\n",
    "tq['hw'] = tq['bWendu'].str.replace('℃','').astype('int32')\n",
    "tq['lw'] = tq['yWendu'].str.replace('℃','').astype('int32')\n",
    "tq.head()"
   ]
  },
  {
   "cell_type": "code",
   "execution_count": 26,
   "metadata": {},
   "outputs": [
    {
     "output_type": "execute_result",
     "data": {
      "text/plain": [
       "           bWendu yWendu tianqi fengxiang fengli  aqi aqiInfo  aqiLevel  hw  \\\n",
       "ymd                                                                           \n",
       "2018-01-01     3℃    -6℃   晴~多云       东北风   1-2级   59       良         2   3   \n",
       "2018-01-02     2℃    -5℃   阴~多云       东北风   1-2级   49       优         1   2   \n",
       "2018-01-03     2℃    -5℃     多云        北风   1-2级   28       优         1   2   \n",
       "2018-01-04     0℃    -8℃      阴       东北风   1-2级   28       优         1   0   \n",
       "2018-01-05     3℃    -6℃   多云~晴       西北风   1-2级   50       优         1   3   \n",
       "\n",
       "            lw  \n",
       "ymd             \n",
       "2018-01-01  -6  \n",
       "2018-01-02  -5  \n",
       "2018-01-03  -5  \n",
       "2018-01-04  -8  \n",
       "2018-01-05  -6  "
      ],
      "text/html": "<div>\n<style scoped>\n    .dataframe tbody tr th:only-of-type {\n        vertical-align: middle;\n    }\n\n    .dataframe tbody tr th {\n        vertical-align: top;\n    }\n\n    .dataframe thead th {\n        text-align: right;\n    }\n</style>\n<table border=\"1\" class=\"dataframe\">\n  <thead>\n    <tr style=\"text-align: right;\">\n      <th></th>\n      <th>bWendu</th>\n      <th>yWendu</th>\n      <th>tianqi</th>\n      <th>fengxiang</th>\n      <th>fengli</th>\n      <th>aqi</th>\n      <th>aqiInfo</th>\n      <th>aqiLevel</th>\n      <th>hw</th>\n      <th>lw</th>\n    </tr>\n    <tr>\n      <th>ymd</th>\n      <th></th>\n      <th></th>\n      <th></th>\n      <th></th>\n      <th></th>\n      <th></th>\n      <th></th>\n      <th></th>\n      <th></th>\n      <th></th>\n    </tr>\n  </thead>\n  <tbody>\n    <tr>\n      <td>2018-01-01</td>\n      <td>3℃</td>\n      <td>-6℃</td>\n      <td>晴~多云</td>\n      <td>东北风</td>\n      <td>1-2级</td>\n      <td>59</td>\n      <td>良</td>\n      <td>2</td>\n      <td>3</td>\n      <td>-6</td>\n    </tr>\n    <tr>\n      <td>2018-01-02</td>\n      <td>2℃</td>\n      <td>-5℃</td>\n      <td>阴~多云</td>\n      <td>东北风</td>\n      <td>1-2级</td>\n      <td>49</td>\n      <td>优</td>\n      <td>1</td>\n      <td>2</td>\n      <td>-5</td>\n    </tr>\n    <tr>\n      <td>2018-01-03</td>\n      <td>2℃</td>\n      <td>-5℃</td>\n      <td>多云</td>\n      <td>北风</td>\n      <td>1-2级</td>\n      <td>28</td>\n      <td>优</td>\n      <td>1</td>\n      <td>2</td>\n      <td>-5</td>\n    </tr>\n    <tr>\n      <td>2018-01-04</td>\n      <td>0℃</td>\n      <td>-8℃</td>\n      <td>阴</td>\n      <td>东北风</td>\n      <td>1-2级</td>\n      <td>28</td>\n      <td>优</td>\n      <td>1</td>\n      <td>0</td>\n      <td>-8</td>\n    </tr>\n    <tr>\n      <td>2018-01-05</td>\n      <td>3℃</td>\n      <td>-6℃</td>\n      <td>多云~晴</td>\n      <td>西北风</td>\n      <td>1-2级</td>\n      <td>50</td>\n      <td>优</td>\n      <td>1</td>\n      <td>3</td>\n      <td>-6</td>\n    </tr>\n  </tbody>\n</table>\n</div>"
     },
     "metadata": {},
     "execution_count": 26
    }
   ],
   "source": [
    "tq.set_index('ymd', inplace=True)\n",
    "tq.head()"
   ]
  },
  {
   "cell_type": "code",
   "execution_count": 27,
   "metadata": {},
   "outputs": [
    {
     "output_type": "execute_result",
     "data": {
      "text/plain": [
       "           bWendu yWendu tianqi fengxiang fengli  aqi aqiInfo  aqiLevel  hw  \\\n",
       "ymd                                                                           \n",
       "2018-01-01     3℃    -6℃   晴~多云       东北风   1-2级   59       良         2   3   \n",
       "2018-01-02     2℃    -5℃   阴~多云       东北风   1-2级   49       优         1   2   \n",
       "2018-01-03     2℃    -5℃     多云        北风   1-2级   28       优         1   2   \n",
       "2018-01-04     0℃    -8℃      阴       东北风   1-2级   28       优         1   0   \n",
       "2018-01-05     3℃    -6℃   多云~晴       西北风   1-2级   50       优         1   3   \n",
       "\n",
       "            lw  \n",
       "ymd             \n",
       "2018-01-01  -6  \n",
       "2018-01-02  -5  \n",
       "2018-01-03  -5  \n",
       "2018-01-04  -8  \n",
       "2018-01-05  -6  "
      ],
      "text/html": "<div>\n<style scoped>\n    .dataframe tbody tr th:only-of-type {\n        vertical-align: middle;\n    }\n\n    .dataframe tbody tr th {\n        vertical-align: top;\n    }\n\n    .dataframe thead th {\n        text-align: right;\n    }\n</style>\n<table border=\"1\" class=\"dataframe\">\n  <thead>\n    <tr style=\"text-align: right;\">\n      <th></th>\n      <th>bWendu</th>\n      <th>yWendu</th>\n      <th>tianqi</th>\n      <th>fengxiang</th>\n      <th>fengli</th>\n      <th>aqi</th>\n      <th>aqiInfo</th>\n      <th>aqiLevel</th>\n      <th>hw</th>\n      <th>lw</th>\n    </tr>\n    <tr>\n      <th>ymd</th>\n      <th></th>\n      <th></th>\n      <th></th>\n      <th></th>\n      <th></th>\n      <th></th>\n      <th></th>\n      <th></th>\n      <th></th>\n      <th></th>\n    </tr>\n  </thead>\n  <tbody>\n    <tr>\n      <td>2018-01-01</td>\n      <td>3℃</td>\n      <td>-6℃</td>\n      <td>晴~多云</td>\n      <td>东北风</td>\n      <td>1-2级</td>\n      <td>59</td>\n      <td>良</td>\n      <td>2</td>\n      <td>3</td>\n      <td>-6</td>\n    </tr>\n    <tr>\n      <td>2018-01-02</td>\n      <td>2℃</td>\n      <td>-5℃</td>\n      <td>阴~多云</td>\n      <td>东北风</td>\n      <td>1-2级</td>\n      <td>49</td>\n      <td>优</td>\n      <td>1</td>\n      <td>2</td>\n      <td>-5</td>\n    </tr>\n    <tr>\n      <td>2018-01-03</td>\n      <td>2℃</td>\n      <td>-5℃</td>\n      <td>多云</td>\n      <td>北风</td>\n      <td>1-2级</td>\n      <td>28</td>\n      <td>优</td>\n      <td>1</td>\n      <td>2</td>\n      <td>-5</td>\n    </tr>\n    <tr>\n      <td>2018-01-04</td>\n      <td>0℃</td>\n      <td>-8℃</td>\n      <td>阴</td>\n      <td>东北风</td>\n      <td>1-2级</td>\n      <td>28</td>\n      <td>优</td>\n      <td>1</td>\n      <td>0</td>\n      <td>-8</td>\n    </tr>\n    <tr>\n      <td>2018-01-05</td>\n      <td>3℃</td>\n      <td>-6℃</td>\n      <td>多云~晴</td>\n      <td>西北风</td>\n      <td>1-2级</td>\n      <td>50</td>\n      <td>优</td>\n      <td>1</td>\n      <td>3</td>\n      <td>-6</td>\n    </tr>\n  </tbody>\n</table>\n</div>"
     },
     "metadata": {},
     "execution_count": 27
    }
   ],
   "source": [
    "tq.sort_index(inplace=True, ascending=True)\n",
    "tq.head()"
   ]
  },
  {
   "cell_type": "code",
   "execution_count": 28,
   "metadata": {},
   "outputs": [
    {
     "output_type": "execute_result",
     "data": {
      "text/plain": [
       "           bWendu yWendu tianqi fengxiang fengli  aqi aqiInfo  aqiLevel  hw  \\\n",
       "ymd                                                                           \n",
       "2018-03-28    25℃     9℃   多云~晴        东风   1-2级  387    严重污染         6  25   \n",
       "2018-03-14    15℃     6℃   多云~阴       东北风   1-2级  293    重度污染         5  15   \n",
       "2018-03-13    17℃     5℃   晴~多云        南风   1-2级  287    重度污染         5  17   \n",
       "2018-04-02    26℃    11℃     多云        北风   1-2级  287    重度污染         5  26   \n",
       "2018-11-14    13℃     5℃     多云        南风   1-2级  266    重度污染         5  13   \n",
       "\n",
       "            lw  \n",
       "ymd             \n",
       "2018-03-28   9  \n",
       "2018-03-14   6  \n",
       "2018-03-13   5  \n",
       "2018-04-02  11  \n",
       "2018-11-14   5  "
      ],
      "text/html": "<div>\n<style scoped>\n    .dataframe tbody tr th:only-of-type {\n        vertical-align: middle;\n    }\n\n    .dataframe tbody tr th {\n        vertical-align: top;\n    }\n\n    .dataframe thead th {\n        text-align: right;\n    }\n</style>\n<table border=\"1\" class=\"dataframe\">\n  <thead>\n    <tr style=\"text-align: right;\">\n      <th></th>\n      <th>bWendu</th>\n      <th>yWendu</th>\n      <th>tianqi</th>\n      <th>fengxiang</th>\n      <th>fengli</th>\n      <th>aqi</th>\n      <th>aqiInfo</th>\n      <th>aqiLevel</th>\n      <th>hw</th>\n      <th>lw</th>\n    </tr>\n    <tr>\n      <th>ymd</th>\n      <th></th>\n      <th></th>\n      <th></th>\n      <th></th>\n      <th></th>\n      <th></th>\n      <th></th>\n      <th></th>\n      <th></th>\n      <th></th>\n    </tr>\n  </thead>\n  <tbody>\n    <tr>\n      <td>2018-03-28</td>\n      <td>25℃</td>\n      <td>9℃</td>\n      <td>多云~晴</td>\n      <td>东风</td>\n      <td>1-2级</td>\n      <td>387</td>\n      <td>严重污染</td>\n      <td>6</td>\n      <td>25</td>\n      <td>9</td>\n    </tr>\n    <tr>\n      <td>2018-03-14</td>\n      <td>15℃</td>\n      <td>6℃</td>\n      <td>多云~阴</td>\n      <td>东北风</td>\n      <td>1-2级</td>\n      <td>293</td>\n      <td>重度污染</td>\n      <td>5</td>\n      <td>15</td>\n      <td>6</td>\n    </tr>\n    <tr>\n      <td>2018-03-13</td>\n      <td>17℃</td>\n      <td>5℃</td>\n      <td>晴~多云</td>\n      <td>南风</td>\n      <td>1-2级</td>\n      <td>287</td>\n      <td>重度污染</td>\n      <td>5</td>\n      <td>17</td>\n      <td>5</td>\n    </tr>\n    <tr>\n      <td>2018-04-02</td>\n      <td>26℃</td>\n      <td>11℃</td>\n      <td>多云</td>\n      <td>北风</td>\n      <td>1-2级</td>\n      <td>287</td>\n      <td>重度污染</td>\n      <td>5</td>\n      <td>26</td>\n      <td>11</td>\n    </tr>\n    <tr>\n      <td>2018-11-14</td>\n      <td>13℃</td>\n      <td>5℃</td>\n      <td>多云</td>\n      <td>南风</td>\n      <td>1-2级</td>\n      <td>266</td>\n      <td>重度污染</td>\n      <td>5</td>\n      <td>13</td>\n      <td>5</td>\n    </tr>\n  </tbody>\n</table>\n</div>"
     },
     "metadata": {},
     "execution_count": 28
    }
   ],
   "source": [
    "# 多列排序\n",
    "tq.sort_values(by=['aqi', 'aqiLevel'], inplace=True, ascending=False)\n",
    "tq.head()"
   ]
  },
  {
   "cell_type": "code",
   "execution_count": 31,
   "metadata": {},
   "outputs": [
    {
     "output_type": "execute_result",
     "data": {
      "text/plain": [
       "           bWendu yWendu tianqi fengxiang fengli  aqi aqiInfo  aqiLevel  hw  \\\n",
       "ymd                                                                           \n",
       "2018-09-29    22℃    11℃      晴        北风   3-4级   21       优         1  22   \n",
       "2018-10-09    15℃     4℃   多云~晴       西北风   4-5级   21       优         1  15   \n",
       "2018-09-07    27℃    16℃      晴       西北风   3-4级   22       优         1  27   \n",
       "2018-09-30    19℃    13℃     多云       西北风   4-5级   22       优         1  19   \n",
       "2018-10-29    15℃     3℃      晴        北风   3-4级   22       优         1  15   \n",
       "\n",
       "            lw  \n",
       "ymd             \n",
       "2018-09-29  11  \n",
       "2018-10-09   4  \n",
       "2018-09-07  16  \n",
       "2018-09-30  13  \n",
       "2018-10-29   3  "
      ],
      "text/html": "<div>\n<style scoped>\n    .dataframe tbody tr th:only-of-type {\n        vertical-align: middle;\n    }\n\n    .dataframe tbody tr th {\n        vertical-align: top;\n    }\n\n    .dataframe thead th {\n        text-align: right;\n    }\n</style>\n<table border=\"1\" class=\"dataframe\">\n  <thead>\n    <tr style=\"text-align: right;\">\n      <th></th>\n      <th>bWendu</th>\n      <th>yWendu</th>\n      <th>tianqi</th>\n      <th>fengxiang</th>\n      <th>fengli</th>\n      <th>aqi</th>\n      <th>aqiInfo</th>\n      <th>aqiLevel</th>\n      <th>hw</th>\n      <th>lw</th>\n    </tr>\n    <tr>\n      <th>ymd</th>\n      <th></th>\n      <th></th>\n      <th></th>\n      <th></th>\n      <th></th>\n      <th></th>\n      <th></th>\n      <th></th>\n      <th></th>\n      <th></th>\n    </tr>\n  </thead>\n  <tbody>\n    <tr>\n      <td>2018-09-29</td>\n      <td>22℃</td>\n      <td>11℃</td>\n      <td>晴</td>\n      <td>北风</td>\n      <td>3-4级</td>\n      <td>21</td>\n      <td>优</td>\n      <td>1</td>\n      <td>22</td>\n      <td>11</td>\n    </tr>\n    <tr>\n      <td>2018-10-09</td>\n      <td>15℃</td>\n      <td>4℃</td>\n      <td>多云~晴</td>\n      <td>西北风</td>\n      <td>4-5级</td>\n      <td>21</td>\n      <td>优</td>\n      <td>1</td>\n      <td>15</td>\n      <td>4</td>\n    </tr>\n    <tr>\n      <td>2018-09-07</td>\n      <td>27℃</td>\n      <td>16℃</td>\n      <td>晴</td>\n      <td>西北风</td>\n      <td>3-4级</td>\n      <td>22</td>\n      <td>优</td>\n      <td>1</td>\n      <td>27</td>\n      <td>16</td>\n    </tr>\n    <tr>\n      <td>2018-09-30</td>\n      <td>19℃</td>\n      <td>13℃</td>\n      <td>多云</td>\n      <td>西北风</td>\n      <td>4-5级</td>\n      <td>22</td>\n      <td>优</td>\n      <td>1</td>\n      <td>19</td>\n      <td>13</td>\n    </tr>\n    <tr>\n      <td>2018-10-29</td>\n      <td>15℃</td>\n      <td>3℃</td>\n      <td>晴</td>\n      <td>北风</td>\n      <td>3-4级</td>\n      <td>22</td>\n      <td>优</td>\n      <td>1</td>\n      <td>15</td>\n      <td>3</td>\n    </tr>\n  </tbody>\n</table>\n</div>"
     },
     "metadata": {},
     "execution_count": 31
    }
   ],
   "source": [
    "# 多列指定不同的顺序\n",
    "tq.sort_values(by=['aqi','hw'],inplace=True, ascending=[True, False])\n",
    "tq.head()"
   ]
  },
  {
   "source": [
    "#### 字符串处理\n",
    "+ 只能对Series进行处理，无法对DataFrame处理\n",
    "+ 可以级联\n",
    "+ 可以使用正则表达式"
   ],
   "cell_type": "markdown",
   "metadata": {}
  },
  {
   "cell_type": "code",
   "execution_count": 1,
   "metadata": {},
   "outputs": [
    {
     "output_type": "execute_result",
     "data": {
      "text/plain": [
       "          ymd bWendu yWendu tianqi fengxiang fengli  aqi aqiInfo  aqiLevel  \\\n",
       "0  2018-01-01     3℃    -6℃   晴~多云       东北风   1-2级   59       良         2   \n",
       "1  2018-01-02     2℃    -5℃   阴~多云       东北风   1-2级   49       优         1   \n",
       "2  2018-01-03     2℃    -5℃     多云        北风   1-2级   28       优         1   \n",
       "3  2018-01-04     0℃    -8℃      阴       东北风   1-2级   28       优         1   \n",
       "4  2018-01-05     3℃    -6℃   多云~晴       西北风   1-2级   50       优         1   \n",
       "\n",
       "   hw  lw  \n",
       "0   3  -6  \n",
       "1   2  -5  \n",
       "2   2  -5  \n",
       "3   0  -8  \n",
       "4   3  -6  "
      ],
      "text/html": "<div>\n<style scoped>\n    .dataframe tbody tr th:only-of-type {\n        vertical-align: middle;\n    }\n\n    .dataframe tbody tr th {\n        vertical-align: top;\n    }\n\n    .dataframe thead th {\n        text-align: right;\n    }\n</style>\n<table border=\"1\" class=\"dataframe\">\n  <thead>\n    <tr style=\"text-align: right;\">\n      <th></th>\n      <th>ymd</th>\n      <th>bWendu</th>\n      <th>yWendu</th>\n      <th>tianqi</th>\n      <th>fengxiang</th>\n      <th>fengli</th>\n      <th>aqi</th>\n      <th>aqiInfo</th>\n      <th>aqiLevel</th>\n      <th>hw</th>\n      <th>lw</th>\n    </tr>\n  </thead>\n  <tbody>\n    <tr>\n      <th>0</th>\n      <td>2018-01-01</td>\n      <td>3℃</td>\n      <td>-6℃</td>\n      <td>晴~多云</td>\n      <td>东北风</td>\n      <td>1-2级</td>\n      <td>59</td>\n      <td>良</td>\n      <td>2</td>\n      <td>3</td>\n      <td>-6</td>\n    </tr>\n    <tr>\n      <th>1</th>\n      <td>2018-01-02</td>\n      <td>2℃</td>\n      <td>-5℃</td>\n      <td>阴~多云</td>\n      <td>东北风</td>\n      <td>1-2级</td>\n      <td>49</td>\n      <td>优</td>\n      <td>1</td>\n      <td>2</td>\n      <td>-5</td>\n    </tr>\n    <tr>\n      <th>2</th>\n      <td>2018-01-03</td>\n      <td>2℃</td>\n      <td>-5℃</td>\n      <td>多云</td>\n      <td>北风</td>\n      <td>1-2级</td>\n      <td>28</td>\n      <td>优</td>\n      <td>1</td>\n      <td>2</td>\n      <td>-5</td>\n    </tr>\n    <tr>\n      <th>3</th>\n      <td>2018-01-04</td>\n      <td>0℃</td>\n      <td>-8℃</td>\n      <td>阴</td>\n      <td>东北风</td>\n      <td>1-2级</td>\n      <td>28</td>\n      <td>优</td>\n      <td>1</td>\n      <td>0</td>\n      <td>-8</td>\n    </tr>\n    <tr>\n      <th>4</th>\n      <td>2018-01-05</td>\n      <td>3℃</td>\n      <td>-6℃</td>\n      <td>多云~晴</td>\n      <td>西北风</td>\n      <td>1-2级</td>\n      <td>50</td>\n      <td>优</td>\n      <td>1</td>\n      <td>3</td>\n      <td>-6</td>\n    </tr>\n  </tbody>\n</table>\n</div>"
     },
     "metadata": {},
     "execution_count": 1
    }
   ],
   "source": [
    "import pandas as pd\n",
    "tq = pd.read_csv('../datas/beijing_tianqi/beijing_tianqi_2018.csv')\n",
    "tq['hw'] = tq['bWendu'].str.replace('℃','').astype('int32')\n",
    "tq['lw'] = tq['yWendu'].str.replace('℃','').astype('int32')\n",
    "tq.head()"
   ]
  },
  {
   "cell_type": "code",
   "execution_count": 2,
   "metadata": {},
   "outputs": [
    {
     "output_type": "execute_result",
     "data": {
      "text/plain": [
       "          ymd bWendu yWendu tianqi fengxiang fengli  aqi aqiInfo  aqiLevel  \\\n",
       "0  2018-01-01     3℃    -6℃   晴~多云       东北风   1-2级   59       良         2   \n",
       "1  2018-01-02     2℃    -5℃   阴~多云       东北风   1-2级   49       优         1   \n",
       "2  2018-01-03     2℃    -5℃     多云        北风   1-2级   28       优         1   \n",
       "3  2018-01-04     0℃    -8℃      阴       东北风   1-2级   28       优         1   \n",
       "4  2018-01-05     3℃    -6℃   多云~晴       西北风   1-2级   50       优         1   \n",
       "\n",
       "   hw  lw     y  \n",
       "0   3  -6  2018  \n",
       "1   2  -5  2018  \n",
       "2   2  -5  2018  \n",
       "3   0  -8  2018  \n",
       "4   3  -6  2018  "
      ],
      "text/html": "<div>\n<style scoped>\n    .dataframe tbody tr th:only-of-type {\n        vertical-align: middle;\n    }\n\n    .dataframe tbody tr th {\n        vertical-align: top;\n    }\n\n    .dataframe thead th {\n        text-align: right;\n    }\n</style>\n<table border=\"1\" class=\"dataframe\">\n  <thead>\n    <tr style=\"text-align: right;\">\n      <th></th>\n      <th>ymd</th>\n      <th>bWendu</th>\n      <th>yWendu</th>\n      <th>tianqi</th>\n      <th>fengxiang</th>\n      <th>fengli</th>\n      <th>aqi</th>\n      <th>aqiInfo</th>\n      <th>aqiLevel</th>\n      <th>hw</th>\n      <th>lw</th>\n      <th>y</th>\n    </tr>\n  </thead>\n  <tbody>\n    <tr>\n      <th>0</th>\n      <td>2018-01-01</td>\n      <td>3℃</td>\n      <td>-6℃</td>\n      <td>晴~多云</td>\n      <td>东北风</td>\n      <td>1-2级</td>\n      <td>59</td>\n      <td>良</td>\n      <td>2</td>\n      <td>3</td>\n      <td>-6</td>\n      <td>2018</td>\n    </tr>\n    <tr>\n      <th>1</th>\n      <td>2018-01-02</td>\n      <td>2℃</td>\n      <td>-5℃</td>\n      <td>阴~多云</td>\n      <td>东北风</td>\n      <td>1-2级</td>\n      <td>49</td>\n      <td>优</td>\n      <td>1</td>\n      <td>2</td>\n      <td>-5</td>\n      <td>2018</td>\n    </tr>\n    <tr>\n      <th>2</th>\n      <td>2018-01-03</td>\n      <td>2℃</td>\n      <td>-5℃</td>\n      <td>多云</td>\n      <td>北风</td>\n      <td>1-2级</td>\n      <td>28</td>\n      <td>优</td>\n      <td>1</td>\n      <td>2</td>\n      <td>-5</td>\n      <td>2018</td>\n    </tr>\n    <tr>\n      <th>3</th>\n      <td>2018-01-04</td>\n      <td>0℃</td>\n      <td>-8℃</td>\n      <td>阴</td>\n      <td>东北风</td>\n      <td>1-2级</td>\n      <td>28</td>\n      <td>优</td>\n      <td>1</td>\n      <td>0</td>\n      <td>-8</td>\n      <td>2018</td>\n    </tr>\n    <tr>\n      <th>4</th>\n      <td>2018-01-05</td>\n      <td>3℃</td>\n      <td>-6℃</td>\n      <td>多云~晴</td>\n      <td>西北风</td>\n      <td>1-2级</td>\n      <td>50</td>\n      <td>优</td>\n      <td>1</td>\n      <td>3</td>\n      <td>-6</td>\n      <td>2018</td>\n    </tr>\n  </tbody>\n</table>\n</div>"
     },
     "metadata": {},
     "execution_count": 2
    }
   ],
   "source": [
    "# 级联处理\n",
    "tq['y'] = tq['ymd'].str.replace('-','').str[0:4]\n",
    "tq.head()"
   ]
  },
  {
   "cell_type": "code",
   "execution_count": 10,
   "metadata": {},
   "outputs": [
    {
     "output_type": "execute_result",
     "data": {
      "text/plain": [
       "          ymd bWendu yWendu tianqi fengxiang fengli  aqi aqiInfo  aqiLevel  \\\n",
       "0  2018-01-01     3℃    -6℃   晴~多云       东北风   1-2级   59       良         2   \n",
       "1  2018-01-02     2℃    -5℃   阴~多云       东北风   1-2级   49       优         1   \n",
       "2  2018-01-03     2℃    -5℃     多云        北风   1-2级   28       优         1   \n",
       "3  2018-01-04     0℃    -8℃      阴       东北风   1-2级   28       优         1   \n",
       "4  2018-01-05     3℃    -6℃   多云~晴       西北风   1-2级   50       优         1   \n",
       "\n",
       "   hw  lw     y        ymdzh  \n",
       "0   3  -6  2018  2018Y01M01D  \n",
       "1   2  -5  2018  2018Y01M02D  \n",
       "2   2  -5  2018  2018Y01M03D  \n",
       "3   0  -8  2018  2018Y01M04D  \n",
       "4   3  -6  2018  2018Y01M05D  "
      ],
      "text/html": "<div>\n<style scoped>\n    .dataframe tbody tr th:only-of-type {\n        vertical-align: middle;\n    }\n\n    .dataframe tbody tr th {\n        vertical-align: top;\n    }\n\n    .dataframe thead th {\n        text-align: right;\n    }\n</style>\n<table border=\"1\" class=\"dataframe\">\n  <thead>\n    <tr style=\"text-align: right;\">\n      <th></th>\n      <th>ymd</th>\n      <th>bWendu</th>\n      <th>yWendu</th>\n      <th>tianqi</th>\n      <th>fengxiang</th>\n      <th>fengli</th>\n      <th>aqi</th>\n      <th>aqiInfo</th>\n      <th>aqiLevel</th>\n      <th>hw</th>\n      <th>lw</th>\n      <th>y</th>\n      <th>ymdzh</th>\n    </tr>\n  </thead>\n  <tbody>\n    <tr>\n      <th>0</th>\n      <td>2018-01-01</td>\n      <td>3℃</td>\n      <td>-6℃</td>\n      <td>晴~多云</td>\n      <td>东北风</td>\n      <td>1-2级</td>\n      <td>59</td>\n      <td>良</td>\n      <td>2</td>\n      <td>3</td>\n      <td>-6</td>\n      <td>2018</td>\n      <td>2018Y01M01D</td>\n    </tr>\n    <tr>\n      <th>1</th>\n      <td>2018-01-02</td>\n      <td>2℃</td>\n      <td>-5℃</td>\n      <td>阴~多云</td>\n      <td>东北风</td>\n      <td>1-2级</td>\n      <td>49</td>\n      <td>优</td>\n      <td>1</td>\n      <td>2</td>\n      <td>-5</td>\n      <td>2018</td>\n      <td>2018Y01M02D</td>\n    </tr>\n    <tr>\n      <th>2</th>\n      <td>2018-01-03</td>\n      <td>2℃</td>\n      <td>-5℃</td>\n      <td>多云</td>\n      <td>北风</td>\n      <td>1-2级</td>\n      <td>28</td>\n      <td>优</td>\n      <td>1</td>\n      <td>2</td>\n      <td>-5</td>\n      <td>2018</td>\n      <td>2018Y01M03D</td>\n    </tr>\n    <tr>\n      <th>3</th>\n      <td>2018-01-04</td>\n      <td>0℃</td>\n      <td>-8℃</td>\n      <td>阴</td>\n      <td>东北风</td>\n      <td>1-2级</td>\n      <td>28</td>\n      <td>优</td>\n      <td>1</td>\n      <td>0</td>\n      <td>-8</td>\n      <td>2018</td>\n      <td>2018Y01M04D</td>\n    </tr>\n    <tr>\n      <th>4</th>\n      <td>2018-01-05</td>\n      <td>3℃</td>\n      <td>-6℃</td>\n      <td>多云~晴</td>\n      <td>西北风</td>\n      <td>1-2级</td>\n      <td>50</td>\n      <td>优</td>\n      <td>1</td>\n      <td>3</td>\n      <td>-6</td>\n      <td>2018</td>\n      <td>2018Y01M05D</td>\n    </tr>\n  </tbody>\n</table>\n</div>"
     },
     "metadata": {},
     "execution_count": 10
    }
   ],
   "source": [
    "def getYMD(x):\n",
    "    y,m,d = x['ymd'].split('-')\n",
    "    return F'{y}Y{m}M{d}D'\n",
    "\n",
    "tq['ymdzh'] = tq.apply(getYMD, axis=1)\n",
    "tq.head()"
   ]
  },
  {
   "cell_type": "code",
   "execution_count": 14,
   "metadata": {},
   "outputs": [
    {
     "output_type": "execute_result",
     "data": {
      "text/plain": [
       "0      2018/01/01/\n",
       "1      2018/01/02/\n",
       "2      2018/01/03/\n",
       "3      2018/01/04/\n",
       "4      2018/01/05/\n",
       "          ...     \n",
       "360    2018/12/27/\n",
       "361    2018/12/28/\n",
       "362    2018/12/29/\n",
       "363    2018/12/30/\n",
       "364    2018/12/31/\n",
       "Name: ymdzh, Length: 365, dtype: object"
      ]
     },
     "metadata": {},
     "execution_count": 14
    }
   ],
   "source": [
    "# 长度\n",
    "# tq['bWendu'].str.len()\n",
    "# tq['bWendu'].str.isnumeric()\n",
    "# 正则匹配\n",
    "tq['ymdzh'].str.replace('[YMD]','/')"
   ]
  },
  {
   "cell_type": "code",
   "execution_count": 19,
   "metadata": {},
   "outputs": [
    {
     "output_type": "execute_result",
     "data": {
      "text/plain": [
       "           ymd bWendu yWendu tianqi fengxiang fengli  aqi aqiInfo  aqiLevel  \\\n",
       "59  2018-03-01     8℃    -3℃     多云       西南风   1-2级   46       优         1   \n",
       "60  2018-03-02     9℃    -1℃   晴~多云        北风   1-2级   95       良         2   \n",
       "61  2018-03-03    13℃     3℃   多云~阴        北风   1-2级  214    重度污染         5   \n",
       "62  2018-03-04     7℃    -2℃   阴~多云       东南风   1-2级  144    轻度污染         3   \n",
       "63  2018-03-05     8℃    -3℃      晴        南风   1-2级   94       良         2   \n",
       "64  2018-03-06     6℃    -3℃   多云~阴       东南风   3-4级   67       良         2   \n",
       "65  2018-03-07     6℃    -2℃   阴~多云        北风   1-2级   65       良         2   \n",
       "66  2018-03-08     8℃    -4℃      晴       东北风   1-2级   62       良         2   \n",
       "67  2018-03-09    10℃    -2℃     多云       西南风   1-2级  132    轻度污染         3   \n",
       "68  2018-03-10    14℃    -2℃      晴       东南风   1-2级  171    中度污染         4   \n",
       "69  2018-03-11    11℃     0℃     多云        南风   1-2级   81       良         2   \n",
       "70  2018-03-12    15℃     3℃   多云~晴        南风   1-2级  174    中度污染         4   \n",
       "71  2018-03-13    17℃     5℃   晴~多云        南风   1-2级  287    重度污染         5   \n",
       "72  2018-03-14    15℃     6℃   多云~阴       东北风   1-2级  293    重度污染         5   \n",
       "73  2018-03-15    12℃    -1℃   多云~晴       东北风   3-4级   70       良         2   \n",
       "74  2018-03-16    10℃    -1℃     多云        南风   1-2级   58       良         2   \n",
       "75  2018-03-17     4℃     0℃   小雨~阴        南风   1-2级   81       良         2   \n",
       "76  2018-03-18    13℃     1℃   多云~晴       西南风   1-2级  134    轻度污染         3   \n",
       "77  2018-03-19    13℃     2℃     多云        东风   1-2级  107    轻度污染         3   \n",
       "78  2018-03-20    10℃    -2℃     多云        南风   1-2级   41       优         1   \n",
       "79  2018-03-21    11℃     1℃     多云       西南风   1-2级   76       良         2   \n",
       "80  2018-03-22    17℃     4℃   晴~多云       西南风   1-2级  112    轻度污染         3   \n",
       "81  2018-03-23    18℃     5℃     多云        北风   1-2级  146    轻度污染         3   \n",
       "82  2018-03-24    22℃     5℃      晴       西南风   1-2级  119    轻度污染         3   \n",
       "83  2018-03-25    24℃     7℃      晴        南风   1-2级   78       良         2   \n",
       "84  2018-03-26    25℃     7℃     多云       西南风   1-2级  151    中度污染         4   \n",
       "85  2018-03-27    27℃    11℃      晴        南风   1-2级  243    重度污染         5   \n",
       "86  2018-03-28    25℃     9℃   多云~晴        东风   1-2级  387    严重污染         6   \n",
       "87  2018-03-29    19℃     7℃      晴        南风   1-2级  119    轻度污染         3   \n",
       "88  2018-03-30    18℃     8℃     多云        南风   1-2级   68       良         2   \n",
       "89  2018-03-31    23℃     9℃   多云~晴        南风   1-2级  125    轻度污染         3   \n",
       "\n",
       "    hw  lw     y        ymdzh  \n",
       "59   8  -3  2018  2018Y03M01D  \n",
       "60   9  -1  2018  2018Y03M02D  \n",
       "61  13   3  2018  2018Y03M03D  \n",
       "62   7  -2  2018  2018Y03M04D  \n",
       "63   8  -3  2018  2018Y03M05D  \n",
       "64   6  -3  2018  2018Y03M06D  \n",
       "65   6  -2  2018  2018Y03M07D  \n",
       "66   8  -4  2018  2018Y03M08D  \n",
       "67  10  -2  2018  2018Y03M09D  \n",
       "68  14  -2  2018  2018Y03M10D  \n",
       "69  11   0  2018  2018Y03M11D  \n",
       "70  15   3  2018  2018Y03M12D  \n",
       "71  17   5  2018  2018Y03M13D  \n",
       "72  15   6  2018  2018Y03M14D  \n",
       "73  12  -1  2018  2018Y03M15D  \n",
       "74  10  -1  2018  2018Y03M16D  \n",
       "75   4   0  2018  2018Y03M17D  \n",
       "76  13   1  2018  2018Y03M18D  \n",
       "77  13   2  2018  2018Y03M19D  \n",
       "78  10  -2  2018  2018Y03M20D  \n",
       "79  11   1  2018  2018Y03M21D  \n",
       "80  17   4  2018  2018Y03M22D  \n",
       "81  18   5  2018  2018Y03M23D  \n",
       "82  22   5  2018  2018Y03M24D  \n",
       "83  24   7  2018  2018Y03M25D  \n",
       "84  25   7  2018  2018Y03M26D  \n",
       "85  27  11  2018  2018Y03M27D  \n",
       "86  25   9  2018  2018Y03M28D  \n",
       "87  19   7  2018  2018Y03M29D  \n",
       "88  18   8  2018  2018Y03M30D  \n",
       "89  23   9  2018  2018Y03M31D  "
      ],
      "text/html": "<div>\n<style scoped>\n    .dataframe tbody tr th:only-of-type {\n        vertical-align: middle;\n    }\n\n    .dataframe tbody tr th {\n        vertical-align: top;\n    }\n\n    .dataframe thead th {\n        text-align: right;\n    }\n</style>\n<table border=\"1\" class=\"dataframe\">\n  <thead>\n    <tr style=\"text-align: right;\">\n      <th></th>\n      <th>ymd</th>\n      <th>bWendu</th>\n      <th>yWendu</th>\n      <th>tianqi</th>\n      <th>fengxiang</th>\n      <th>fengli</th>\n      <th>aqi</th>\n      <th>aqiInfo</th>\n      <th>aqiLevel</th>\n      <th>hw</th>\n      <th>lw</th>\n      <th>y</th>\n      <th>ymdzh</th>\n    </tr>\n  </thead>\n  <tbody>\n    <tr>\n      <th>59</th>\n      <td>2018-03-01</td>\n      <td>8℃</td>\n      <td>-3℃</td>\n      <td>多云</td>\n      <td>西南风</td>\n      <td>1-2级</td>\n      <td>46</td>\n      <td>优</td>\n      <td>1</td>\n      <td>8</td>\n      <td>-3</td>\n      <td>2018</td>\n      <td>2018Y03M01D</td>\n    </tr>\n    <tr>\n      <th>60</th>\n      <td>2018-03-02</td>\n      <td>9℃</td>\n      <td>-1℃</td>\n      <td>晴~多云</td>\n      <td>北风</td>\n      <td>1-2级</td>\n      <td>95</td>\n      <td>良</td>\n      <td>2</td>\n      <td>9</td>\n      <td>-1</td>\n      <td>2018</td>\n      <td>2018Y03M02D</td>\n    </tr>\n    <tr>\n      <th>61</th>\n      <td>2018-03-03</td>\n      <td>13℃</td>\n      <td>3℃</td>\n      <td>多云~阴</td>\n      <td>北风</td>\n      <td>1-2级</td>\n      <td>214</td>\n      <td>重度污染</td>\n      <td>5</td>\n      <td>13</td>\n      <td>3</td>\n      <td>2018</td>\n      <td>2018Y03M03D</td>\n    </tr>\n    <tr>\n      <th>62</th>\n      <td>2018-03-04</td>\n      <td>7℃</td>\n      <td>-2℃</td>\n      <td>阴~多云</td>\n      <td>东南风</td>\n      <td>1-2级</td>\n      <td>144</td>\n      <td>轻度污染</td>\n      <td>3</td>\n      <td>7</td>\n      <td>-2</td>\n      <td>2018</td>\n      <td>2018Y03M04D</td>\n    </tr>\n    <tr>\n      <th>63</th>\n      <td>2018-03-05</td>\n      <td>8℃</td>\n      <td>-3℃</td>\n      <td>晴</td>\n      <td>南风</td>\n      <td>1-2级</td>\n      <td>94</td>\n      <td>良</td>\n      <td>2</td>\n      <td>8</td>\n      <td>-3</td>\n      <td>2018</td>\n      <td>2018Y03M05D</td>\n    </tr>\n    <tr>\n      <th>64</th>\n      <td>2018-03-06</td>\n      <td>6℃</td>\n      <td>-3℃</td>\n      <td>多云~阴</td>\n      <td>东南风</td>\n      <td>3-4级</td>\n      <td>67</td>\n      <td>良</td>\n      <td>2</td>\n      <td>6</td>\n      <td>-3</td>\n      <td>2018</td>\n      <td>2018Y03M06D</td>\n    </tr>\n    <tr>\n      <th>65</th>\n      <td>2018-03-07</td>\n      <td>6℃</td>\n      <td>-2℃</td>\n      <td>阴~多云</td>\n      <td>北风</td>\n      <td>1-2级</td>\n      <td>65</td>\n      <td>良</td>\n      <td>2</td>\n      <td>6</td>\n      <td>-2</td>\n      <td>2018</td>\n      <td>2018Y03M07D</td>\n    </tr>\n    <tr>\n      <th>66</th>\n      <td>2018-03-08</td>\n      <td>8℃</td>\n      <td>-4℃</td>\n      <td>晴</td>\n      <td>东北风</td>\n      <td>1-2级</td>\n      <td>62</td>\n      <td>良</td>\n      <td>2</td>\n      <td>8</td>\n      <td>-4</td>\n      <td>2018</td>\n      <td>2018Y03M08D</td>\n    </tr>\n    <tr>\n      <th>67</th>\n      <td>2018-03-09</td>\n      <td>10℃</td>\n      <td>-2℃</td>\n      <td>多云</td>\n      <td>西南风</td>\n      <td>1-2级</td>\n      <td>132</td>\n      <td>轻度污染</td>\n      <td>3</td>\n      <td>10</td>\n      <td>-2</td>\n      <td>2018</td>\n      <td>2018Y03M09D</td>\n    </tr>\n    <tr>\n      <th>68</th>\n      <td>2018-03-10</td>\n      <td>14℃</td>\n      <td>-2℃</td>\n      <td>晴</td>\n      <td>东南风</td>\n      <td>1-2级</td>\n      <td>171</td>\n      <td>中度污染</td>\n      <td>4</td>\n      <td>14</td>\n      <td>-2</td>\n      <td>2018</td>\n      <td>2018Y03M10D</td>\n    </tr>\n    <tr>\n      <th>69</th>\n      <td>2018-03-11</td>\n      <td>11℃</td>\n      <td>0℃</td>\n      <td>多云</td>\n      <td>南风</td>\n      <td>1-2级</td>\n      <td>81</td>\n      <td>良</td>\n      <td>2</td>\n      <td>11</td>\n      <td>0</td>\n      <td>2018</td>\n      <td>2018Y03M11D</td>\n    </tr>\n    <tr>\n      <th>70</th>\n      <td>2018-03-12</td>\n      <td>15℃</td>\n      <td>3℃</td>\n      <td>多云~晴</td>\n      <td>南风</td>\n      <td>1-2级</td>\n      <td>174</td>\n      <td>中度污染</td>\n      <td>4</td>\n      <td>15</td>\n      <td>3</td>\n      <td>2018</td>\n      <td>2018Y03M12D</td>\n    </tr>\n    <tr>\n      <th>71</th>\n      <td>2018-03-13</td>\n      <td>17℃</td>\n      <td>5℃</td>\n      <td>晴~多云</td>\n      <td>南风</td>\n      <td>1-2级</td>\n      <td>287</td>\n      <td>重度污染</td>\n      <td>5</td>\n      <td>17</td>\n      <td>5</td>\n      <td>2018</td>\n      <td>2018Y03M13D</td>\n    </tr>\n    <tr>\n      <th>72</th>\n      <td>2018-03-14</td>\n      <td>15℃</td>\n      <td>6℃</td>\n      <td>多云~阴</td>\n      <td>东北风</td>\n      <td>1-2级</td>\n      <td>293</td>\n      <td>重度污染</td>\n      <td>5</td>\n      <td>15</td>\n      <td>6</td>\n      <td>2018</td>\n      <td>2018Y03M14D</td>\n    </tr>\n    <tr>\n      <th>73</th>\n      <td>2018-03-15</td>\n      <td>12℃</td>\n      <td>-1℃</td>\n      <td>多云~晴</td>\n      <td>东北风</td>\n      <td>3-4级</td>\n      <td>70</td>\n      <td>良</td>\n      <td>2</td>\n      <td>12</td>\n      <td>-1</td>\n      <td>2018</td>\n      <td>2018Y03M15D</td>\n    </tr>\n    <tr>\n      <th>74</th>\n      <td>2018-03-16</td>\n      <td>10℃</td>\n      <td>-1℃</td>\n      <td>多云</td>\n      <td>南风</td>\n      <td>1-2级</td>\n      <td>58</td>\n      <td>良</td>\n      <td>2</td>\n      <td>10</td>\n      <td>-1</td>\n      <td>2018</td>\n      <td>2018Y03M16D</td>\n    </tr>\n    <tr>\n      <th>75</th>\n      <td>2018-03-17</td>\n      <td>4℃</td>\n      <td>0℃</td>\n      <td>小雨~阴</td>\n      <td>南风</td>\n      <td>1-2级</td>\n      <td>81</td>\n      <td>良</td>\n      <td>2</td>\n      <td>4</td>\n      <td>0</td>\n      <td>2018</td>\n      <td>2018Y03M17D</td>\n    </tr>\n    <tr>\n      <th>76</th>\n      <td>2018-03-18</td>\n      <td>13℃</td>\n      <td>1℃</td>\n      <td>多云~晴</td>\n      <td>西南风</td>\n      <td>1-2级</td>\n      <td>134</td>\n      <td>轻度污染</td>\n      <td>3</td>\n      <td>13</td>\n      <td>1</td>\n      <td>2018</td>\n      <td>2018Y03M18D</td>\n    </tr>\n    <tr>\n      <th>77</th>\n      <td>2018-03-19</td>\n      <td>13℃</td>\n      <td>2℃</td>\n      <td>多云</td>\n      <td>东风</td>\n      <td>1-2级</td>\n      <td>107</td>\n      <td>轻度污染</td>\n      <td>3</td>\n      <td>13</td>\n      <td>2</td>\n      <td>2018</td>\n      <td>2018Y03M19D</td>\n    </tr>\n    <tr>\n      <th>78</th>\n      <td>2018-03-20</td>\n      <td>10℃</td>\n      <td>-2℃</td>\n      <td>多云</td>\n      <td>南风</td>\n      <td>1-2级</td>\n      <td>41</td>\n      <td>优</td>\n      <td>1</td>\n      <td>10</td>\n      <td>-2</td>\n      <td>2018</td>\n      <td>2018Y03M20D</td>\n    </tr>\n    <tr>\n      <th>79</th>\n      <td>2018-03-21</td>\n      <td>11℃</td>\n      <td>1℃</td>\n      <td>多云</td>\n      <td>西南风</td>\n      <td>1-2级</td>\n      <td>76</td>\n      <td>良</td>\n      <td>2</td>\n      <td>11</td>\n      <td>1</td>\n      <td>2018</td>\n      <td>2018Y03M21D</td>\n    </tr>\n    <tr>\n      <th>80</th>\n      <td>2018-03-22</td>\n      <td>17℃</td>\n      <td>4℃</td>\n      <td>晴~多云</td>\n      <td>西南风</td>\n      <td>1-2级</td>\n      <td>112</td>\n      <td>轻度污染</td>\n      <td>3</td>\n      <td>17</td>\n      <td>4</td>\n      <td>2018</td>\n      <td>2018Y03M22D</td>\n    </tr>\n    <tr>\n      <th>81</th>\n      <td>2018-03-23</td>\n      <td>18℃</td>\n      <td>5℃</td>\n      <td>多云</td>\n      <td>北风</td>\n      <td>1-2级</td>\n      <td>146</td>\n      <td>轻度污染</td>\n      <td>3</td>\n      <td>18</td>\n      <td>5</td>\n      <td>2018</td>\n      <td>2018Y03M23D</td>\n    </tr>\n    <tr>\n      <th>82</th>\n      <td>2018-03-24</td>\n      <td>22℃</td>\n      <td>5℃</td>\n      <td>晴</td>\n      <td>西南风</td>\n      <td>1-2级</td>\n      <td>119</td>\n      <td>轻度污染</td>\n      <td>3</td>\n      <td>22</td>\n      <td>5</td>\n      <td>2018</td>\n      <td>2018Y03M24D</td>\n    </tr>\n    <tr>\n      <th>83</th>\n      <td>2018-03-25</td>\n      <td>24℃</td>\n      <td>7℃</td>\n      <td>晴</td>\n      <td>南风</td>\n      <td>1-2级</td>\n      <td>78</td>\n      <td>良</td>\n      <td>2</td>\n      <td>24</td>\n      <td>7</td>\n      <td>2018</td>\n      <td>2018Y03M25D</td>\n    </tr>\n    <tr>\n      <th>84</th>\n      <td>2018-03-26</td>\n      <td>25℃</td>\n      <td>7℃</td>\n      <td>多云</td>\n      <td>西南风</td>\n      <td>1-2级</td>\n      <td>151</td>\n      <td>中度污染</td>\n      <td>4</td>\n      <td>25</td>\n      <td>7</td>\n      <td>2018</td>\n      <td>2018Y03M26D</td>\n    </tr>\n    <tr>\n      <th>85</th>\n      <td>2018-03-27</td>\n      <td>27℃</td>\n      <td>11℃</td>\n      <td>晴</td>\n      <td>南风</td>\n      <td>1-2级</td>\n      <td>243</td>\n      <td>重度污染</td>\n      <td>5</td>\n      <td>27</td>\n      <td>11</td>\n      <td>2018</td>\n      <td>2018Y03M27D</td>\n    </tr>\n    <tr>\n      <th>86</th>\n      <td>2018-03-28</td>\n      <td>25℃</td>\n      <td>9℃</td>\n      <td>多云~晴</td>\n      <td>东风</td>\n      <td>1-2级</td>\n      <td>387</td>\n      <td>严重污染</td>\n      <td>6</td>\n      <td>25</td>\n      <td>9</td>\n      <td>2018</td>\n      <td>2018Y03M28D</td>\n    </tr>\n    <tr>\n      <th>87</th>\n      <td>2018-03-29</td>\n      <td>19℃</td>\n      <td>7℃</td>\n      <td>晴</td>\n      <td>南风</td>\n      <td>1-2级</td>\n      <td>119</td>\n      <td>轻度污染</td>\n      <td>3</td>\n      <td>19</td>\n      <td>7</td>\n      <td>2018</td>\n      <td>2018Y03M29D</td>\n    </tr>\n    <tr>\n      <th>88</th>\n      <td>2018-03-30</td>\n      <td>18℃</td>\n      <td>8℃</td>\n      <td>多云</td>\n      <td>南风</td>\n      <td>1-2级</td>\n      <td>68</td>\n      <td>良</td>\n      <td>2</td>\n      <td>18</td>\n      <td>8</td>\n      <td>2018</td>\n      <td>2018Y03M30D</td>\n    </tr>\n    <tr>\n      <th>89</th>\n      <td>2018-03-31</td>\n      <td>23℃</td>\n      <td>9℃</td>\n      <td>多云~晴</td>\n      <td>南风</td>\n      <td>1-2级</td>\n      <td>125</td>\n      <td>轻度污染</td>\n      <td>3</td>\n      <td>23</td>\n      <td>9</td>\n      <td>2018</td>\n      <td>2018Y03M31D</td>\n    </tr>\n  </tbody>\n</table>\n</div>"
     },
     "metadata": {},
     "execution_count": 19
    }
   ],
   "source": [
    "# 条件表达式\n",
    "condition = tq['ymd'].str.startswith('2018-03')\n",
    "tq[condition]"
   ]
  },
  {
   "cell_type": "code",
   "execution_count": 18,
   "metadata": {},
   "outputs": [
    {
     "output_type": "execute_result",
     "data": {
      "text/plain": [
       "0      False\n",
       "1      False\n",
       "2      False\n",
       "3      False\n",
       "4      False\n",
       "       ...  \n",
       "360    False\n",
       "361    False\n",
       "362    False\n",
       "363    False\n",
       "364    False\n",
       "Name: ymd, Length: 365, dtype: bool"
      ]
     },
     "metadata": {},
     "execution_count": 18
    }
   ],
   "source": [
    "condition"
   ]
  }
 ]
}