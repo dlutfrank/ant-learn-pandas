{
 "metadata": {
  "language_info": {
   "codemirror_mode": {
    "name": "ipython",
    "version": 3
   },
   "file_extension": ".py",
   "mimetype": "text/x-python",
   "name": "python",
   "nbconvert_exporter": "python",
   "pygments_lexer": "ipython3",
   "version": "3.6.8-final"
  },
  "orig_nbformat": 2,
  "kernelspec": {
   "name": "python3",
   "display_name": "Python 3"
  }
 },
 "nbformat": 4,
 "nbformat_minor": 2,
 "cells": [
  {
   "source": [
    "### 数据清洗\n",
    "1. 判断缺失值\n",
    "    + isnull, notnull\n",
    "2. 缺失值的填充\n",
    "    + dropna(axis=0,how='any',thresh=None,subset=None,inplace=Flase)\n",
    "    how: any|all,thresh至少保留多少数据,subset只检测对应的列或者行\n",
    "3. 缺失值的删除\n",
    "    + fillna(value,method='None',axis=None,inplace=False,limit=None,downcast=None)\n",
    "    value: 值或者dict，method: 'ffill','bfill',"
   ],
   "cell_type": "markdown",
   "metadata": {}
  },
  {
   "cell_type": "code",
   "execution_count": null,
   "metadata": {},
   "outputs": [],
   "source": [
    "import pandas as pd\n",
    "import openpyxl\n",
    "studf = pd.read_excel(\"../datas/student_excel/student_excel.xlsx\", skiprows=2)\n",
    "studf"
   ]
  },
  {
   "cell_type": "code",
   "execution_count": null,
   "metadata": {},
   "outputs": [],
   "source": [
    "# 移除所有的空行\n",
    "studf.dropna(axis=0, how='all', inplace=True)\n",
    "studf"
   ]
  },
  {
   "cell_type": "code",
   "execution_count": null,
   "metadata": {},
   "outputs": [],
   "source": [
    "# 移除所有空列\n",
    "studf.dropna(axis=1, how='all', inplace=True)\n",
    "studf"
   ]
  },
  {
   "cell_type": "code",
   "execution_count": null,
   "metadata": {},
   "outputs": [],
   "source": [
    "# 填充分数\n",
    "studf.fillna({'分数': 0.0},inplace=True)\n",
    "studf"
   ]
  },
  {
   "cell_type": "code",
   "execution_count": null,
   "metadata": {},
   "outputs": [],
   "source": [
    "# 填充姓名\n",
    "studf['姓名'].fillna(method='ffill', inplace=True)\n",
    "# 等同于 studf['姓名'] = studf['姓名'].fillna(method='ffill', inplace=True)\n",
    "studf"
   ]
  },
  {
   "cell_type": "code",
   "execution_count": null,
   "metadata": {},
   "outputs": [],
   "source": [
    "# save\n",
    "studf.to_excel(\"../datas/student_excel/student_excel_demo.xlsx\", index=False)"
   ]
  }
 ]
}