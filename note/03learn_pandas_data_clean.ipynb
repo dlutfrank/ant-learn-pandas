{
 "metadata": {
  "language_info": {
   "codemirror_mode": {
    "name": "ipython",
    "version": 3
   },
   "file_extension": ".py",
   "mimetype": "text/x-python",
   "name": "python",
   "nbconvert_exporter": "python",
   "pygments_lexer": "ipython3",
   "version": "3.6.8-final"
  },
  "orig_nbformat": 2,
  "kernelspec": {
   "name": "python3",
   "display_name": "Python 3"
  }
 },
 "nbformat": 4,
 "nbformat_minor": 2,
 "cells": [
  {
   "source": [
    "### 数据清洗\n",
    "#### 缺失值处理\n",
    "1. 判断缺失值\n",
    "    + isnull, notnull\n",
    "2. 缺失值的填充\n",
    "    + dropna(axis=0,how='any',thresh=None,subset=None,inplace=Flase)\n",
    "    how: any|all,thresh至少保留多少数据,subset只检测对应的列或者行\n",
    "3. 缺失值的删除\n",
    "    + fillna(value,method='None',axis=None,inplace=False,limit=None,downcast=None)\n",
    "    value: 值或者dict，method: 'ffill','bfill'"
   ],
   "cell_type": "markdown",
   "metadata": {}
  },
  {
   "cell_type": "code",
   "execution_count": null,
   "metadata": {},
   "outputs": [],
   "source": [
    "import pandas as pd\n",
    "import openpyxl\n",
    "studf = pd.read_excel(\"../datas/student_excel/student_excel.xlsx\", skiprows=2)\n",
    "studf"
   ]
  },
  {
   "cell_type": "code",
   "execution_count": null,
   "metadata": {},
   "outputs": [],
   "source": [
    "# 移除所有的空行\n",
    "studf.dropna(axis=0, how='all', inplace=True)\n",
    "studf"
   ]
  },
  {
   "cell_type": "code",
   "execution_count": null,
   "metadata": {},
   "outputs": [],
   "source": [
    "# 移除所有空列\n",
    "studf.dropna(axis=1, how='all', inplace=True)\n",
    "studf"
   ]
  },
  {
   "cell_type": "code",
   "execution_count": null,
   "metadata": {},
   "outputs": [],
   "source": [
    "# 填充分数\n",
    "studf.fillna({'分数': 0.0},inplace=True)\n",
    "studf"
   ]
  },
  {
   "cell_type": "code",
   "execution_count": null,
   "metadata": {},
   "outputs": [],
   "source": [
    "# 填充姓名\n",
    "studf['姓名'].fillna(method='ffill', inplace=True)\n",
    "# 等同于 studf['姓名'] = studf['姓名'].fillna(method='ffill', inplace=True)\n",
    "studf"
   ]
  },
  {
   "cell_type": "code",
   "execution_count": null,
   "metadata": {},
   "outputs": [],
   "source": [
    "# save\n",
    "studf.to_excel(\"../datas/student_excel/student_excel_demo.xlsx\", index=False)"
   ]
  },
  {
   "source": [
    "#### 排序\n",
    "+ Series排序 Series.sort_values(ascending=True, inplace=False)\n",
    "+ DataFrame.sort_values(by, axis=0, ascending=True, inplace=False, kind='quicksort', na_position='last', ignore_index=False, key=None)\n",
    "by: 标签或者标签数组"
   ],
   "cell_type": "markdown",
   "metadata": {}
  },
  {
   "cell_type": "code",
   "execution_count": 25,
   "metadata": {},
   "outputs": [
    {
     "output_type": "execute_result",
     "data": {
      "text/plain": [
       "          ymd bWendu yWendu tianqi fengxiang fengli  aqi aqiInfo  aqiLevel  \\\n",
       "0  2018-01-01     3℃    -6℃   晴~多云       东北风   1-2级   59       良         2   \n",
       "1  2018-01-02     2℃    -5℃   阴~多云       东北风   1-2级   49       优         1   \n",
       "2  2018-01-03     2℃    -5℃     多云        北风   1-2级   28       优         1   \n",
       "3  2018-01-04     0℃    -8℃      阴       东北风   1-2级   28       优         1   \n",
       "4  2018-01-05     3℃    -6℃   多云~晴       西北风   1-2级   50       优         1   \n",
       "\n",
       "   hw  lw  \n",
       "0   3  -6  \n",
       "1   2  -5  \n",
       "2   2  -5  \n",
       "3   0  -8  \n",
       "4   3  -6  "
      ],
      "text/html": "<div>\n<style scoped>\n    .dataframe tbody tr th:only-of-type {\n        vertical-align: middle;\n    }\n\n    .dataframe tbody tr th {\n        vertical-align: top;\n    }\n\n    .dataframe thead th {\n        text-align: right;\n    }\n</style>\n<table border=\"1\" class=\"dataframe\">\n  <thead>\n    <tr style=\"text-align: right;\">\n      <th></th>\n      <th>ymd</th>\n      <th>bWendu</th>\n      <th>yWendu</th>\n      <th>tianqi</th>\n      <th>fengxiang</th>\n      <th>fengli</th>\n      <th>aqi</th>\n      <th>aqiInfo</th>\n      <th>aqiLevel</th>\n      <th>hw</th>\n      <th>lw</th>\n    </tr>\n  </thead>\n  <tbody>\n    <tr>\n      <td>0</td>\n      <td>2018-01-01</td>\n      <td>3℃</td>\n      <td>-6℃</td>\n      <td>晴~多云</td>\n      <td>东北风</td>\n      <td>1-2级</td>\n      <td>59</td>\n      <td>良</td>\n      <td>2</td>\n      <td>3</td>\n      <td>-6</td>\n    </tr>\n    <tr>\n      <td>1</td>\n      <td>2018-01-02</td>\n      <td>2℃</td>\n      <td>-5℃</td>\n      <td>阴~多云</td>\n      <td>东北风</td>\n      <td>1-2级</td>\n      <td>49</td>\n      <td>优</td>\n      <td>1</td>\n      <td>2</td>\n      <td>-5</td>\n    </tr>\n    <tr>\n      <td>2</td>\n      <td>2018-01-03</td>\n      <td>2℃</td>\n      <td>-5℃</td>\n      <td>多云</td>\n      <td>北风</td>\n      <td>1-2级</td>\n      <td>28</td>\n      <td>优</td>\n      <td>1</td>\n      <td>2</td>\n      <td>-5</td>\n    </tr>\n    <tr>\n      <td>3</td>\n      <td>2018-01-04</td>\n      <td>0℃</td>\n      <td>-8℃</td>\n      <td>阴</td>\n      <td>东北风</td>\n      <td>1-2级</td>\n      <td>28</td>\n      <td>优</td>\n      <td>1</td>\n      <td>0</td>\n      <td>-8</td>\n    </tr>\n    <tr>\n      <td>4</td>\n      <td>2018-01-05</td>\n      <td>3℃</td>\n      <td>-6℃</td>\n      <td>多云~晴</td>\n      <td>西北风</td>\n      <td>1-2级</td>\n      <td>50</td>\n      <td>优</td>\n      <td>1</td>\n      <td>3</td>\n      <td>-6</td>\n    </tr>\n  </tbody>\n</table>\n</div>"
     },
     "metadata": {},
     "execution_count": 25
    }
   ],
   "source": [
    "tq = pd.read_csv('../datas/beijing_tianqi/beijing_tianqi_2018.csv')\n",
    "tq['hw'] = tq['bWendu'].str.replace('℃','').astype('int32')\n",
    "tq['lw'] = tq['yWendu'].str.replace('℃','').astype('int32')\n",
    "tq.head()"
   ]
  },
  {
   "cell_type": "code",
   "execution_count": 26,
   "metadata": {},
   "outputs": [
    {
     "output_type": "execute_result",
     "data": {
      "text/plain": [
       "           bWendu yWendu tianqi fengxiang fengli  aqi aqiInfo  aqiLevel  hw  \\\n",
       "ymd                                                                           \n",
       "2018-01-01     3℃    -6℃   晴~多云       东北风   1-2级   59       良         2   3   \n",
       "2018-01-02     2℃    -5℃   阴~多云       东北风   1-2级   49       优         1   2   \n",
       "2018-01-03     2℃    -5℃     多云        北风   1-2级   28       优         1   2   \n",
       "2018-01-04     0℃    -8℃      阴       东北风   1-2级   28       优         1   0   \n",
       "2018-01-05     3℃    -6℃   多云~晴       西北风   1-2级   50       优         1   3   \n",
       "\n",
       "            lw  \n",
       "ymd             \n",
       "2018-01-01  -6  \n",
       "2018-01-02  -5  \n",
       "2018-01-03  -5  \n",
       "2018-01-04  -8  \n",
       "2018-01-05  -6  "
      ],
      "text/html": "<div>\n<style scoped>\n    .dataframe tbody tr th:only-of-type {\n        vertical-align: middle;\n    }\n\n    .dataframe tbody tr th {\n        vertical-align: top;\n    }\n\n    .dataframe thead th {\n        text-align: right;\n    }\n</style>\n<table border=\"1\" class=\"dataframe\">\n  <thead>\n    <tr style=\"text-align: right;\">\n      <th></th>\n      <th>bWendu</th>\n      <th>yWendu</th>\n      <th>tianqi</th>\n      <th>fengxiang</th>\n      <th>fengli</th>\n      <th>aqi</th>\n      <th>aqiInfo</th>\n      <th>aqiLevel</th>\n      <th>hw</th>\n      <th>lw</th>\n    </tr>\n    <tr>\n      <th>ymd</th>\n      <th></th>\n      <th></th>\n      <th></th>\n      <th></th>\n      <th></th>\n      <th></th>\n      <th></th>\n      <th></th>\n      <th></th>\n      <th></th>\n    </tr>\n  </thead>\n  <tbody>\n    <tr>\n      <td>2018-01-01</td>\n      <td>3℃</td>\n      <td>-6℃</td>\n      <td>晴~多云</td>\n      <td>东北风</td>\n      <td>1-2级</td>\n      <td>59</td>\n      <td>良</td>\n      <td>2</td>\n      <td>3</td>\n      <td>-6</td>\n    </tr>\n    <tr>\n      <td>2018-01-02</td>\n      <td>2℃</td>\n      <td>-5℃</td>\n      <td>阴~多云</td>\n      <td>东北风</td>\n      <td>1-2级</td>\n      <td>49</td>\n      <td>优</td>\n      <td>1</td>\n      <td>2</td>\n      <td>-5</td>\n    </tr>\n    <tr>\n      <td>2018-01-03</td>\n      <td>2℃</td>\n      <td>-5℃</td>\n      <td>多云</td>\n      <td>北风</td>\n      <td>1-2级</td>\n      <td>28</td>\n      <td>优</td>\n      <td>1</td>\n      <td>2</td>\n      <td>-5</td>\n    </tr>\n    <tr>\n      <td>2018-01-04</td>\n      <td>0℃</td>\n      <td>-8℃</td>\n      <td>阴</td>\n      <td>东北风</td>\n      <td>1-2级</td>\n      <td>28</td>\n      <td>优</td>\n      <td>1</td>\n      <td>0</td>\n      <td>-8</td>\n    </tr>\n    <tr>\n      <td>2018-01-05</td>\n      <td>3℃</td>\n      <td>-6℃</td>\n      <td>多云~晴</td>\n      <td>西北风</td>\n      <td>1-2级</td>\n      <td>50</td>\n      <td>优</td>\n      <td>1</td>\n      <td>3</td>\n      <td>-6</td>\n    </tr>\n  </tbody>\n</table>\n</div>"
     },
     "metadata": {},
     "execution_count": 26
    }
   ],
   "source": [
    "tq.set_index('ymd', inplace=True)\n",
    "tq.head()"
   ]
  },
  {
   "cell_type": "code",
   "execution_count": 27,
   "metadata": {},
   "outputs": [
    {
     "output_type": "execute_result",
     "data": {
      "text/plain": [
       "           bWendu yWendu tianqi fengxiang fengli  aqi aqiInfo  aqiLevel  hw  \\\n",
       "ymd                                                                           \n",
       "2018-01-01     3℃    -6℃   晴~多云       东北风   1-2级   59       良         2   3   \n",
       "2018-01-02     2℃    -5℃   阴~多云       东北风   1-2级   49       优         1   2   \n",
       "2018-01-03     2℃    -5℃     多云        北风   1-2级   28       优         1   2   \n",
       "2018-01-04     0℃    -8℃      阴       东北风   1-2级   28       优         1   0   \n",
       "2018-01-05     3℃    -6℃   多云~晴       西北风   1-2级   50       优         1   3   \n",
       "\n",
       "            lw  \n",
       "ymd             \n",
       "2018-01-01  -6  \n",
       "2018-01-02  -5  \n",
       "2018-01-03  -5  \n",
       "2018-01-04  -8  \n",
       "2018-01-05  -6  "
      ],
      "text/html": "<div>\n<style scoped>\n    .dataframe tbody tr th:only-of-type {\n        vertical-align: middle;\n    }\n\n    .dataframe tbody tr th {\n        vertical-align: top;\n    }\n\n    .dataframe thead th {\n        text-align: right;\n    }\n</style>\n<table border=\"1\" class=\"dataframe\">\n  <thead>\n    <tr style=\"text-align: right;\">\n      <th></th>\n      <th>bWendu</th>\n      <th>yWendu</th>\n      <th>tianqi</th>\n      <th>fengxiang</th>\n      <th>fengli</th>\n      <th>aqi</th>\n      <th>aqiInfo</th>\n      <th>aqiLevel</th>\n      <th>hw</th>\n      <th>lw</th>\n    </tr>\n    <tr>\n      <th>ymd</th>\n      <th></th>\n      <th></th>\n      <th></th>\n      <th></th>\n      <th></th>\n      <th></th>\n      <th></th>\n      <th></th>\n      <th></th>\n      <th></th>\n    </tr>\n  </thead>\n  <tbody>\n    <tr>\n      <td>2018-01-01</td>\n      <td>3℃</td>\n      <td>-6℃</td>\n      <td>晴~多云</td>\n      <td>东北风</td>\n      <td>1-2级</td>\n      <td>59</td>\n      <td>良</td>\n      <td>2</td>\n      <td>3</td>\n      <td>-6</td>\n    </tr>\n    <tr>\n      <td>2018-01-02</td>\n      <td>2℃</td>\n      <td>-5℃</td>\n      <td>阴~多云</td>\n      <td>东北风</td>\n      <td>1-2级</td>\n      <td>49</td>\n      <td>优</td>\n      <td>1</td>\n      <td>2</td>\n      <td>-5</td>\n    </tr>\n    <tr>\n      <td>2018-01-03</td>\n      <td>2℃</td>\n      <td>-5℃</td>\n      <td>多云</td>\n      <td>北风</td>\n      <td>1-2级</td>\n      <td>28</td>\n      <td>优</td>\n      <td>1</td>\n      <td>2</td>\n      <td>-5</td>\n    </tr>\n    <tr>\n      <td>2018-01-04</td>\n      <td>0℃</td>\n      <td>-8℃</td>\n      <td>阴</td>\n      <td>东北风</td>\n      <td>1-2级</td>\n      <td>28</td>\n      <td>优</td>\n      <td>1</td>\n      <td>0</td>\n      <td>-8</td>\n    </tr>\n    <tr>\n      <td>2018-01-05</td>\n      <td>3℃</td>\n      <td>-6℃</td>\n      <td>多云~晴</td>\n      <td>西北风</td>\n      <td>1-2级</td>\n      <td>50</td>\n      <td>优</td>\n      <td>1</td>\n      <td>3</td>\n      <td>-6</td>\n    </tr>\n  </tbody>\n</table>\n</div>"
     },
     "metadata": {},
     "execution_count": 27
    }
   ],
   "source": [
    "tq.sort_index(inplace=True, ascending=True)\n",
    "tq.head()"
   ]
  },
  {
   "cell_type": "code",
   "execution_count": 28,
   "metadata": {},
   "outputs": [
    {
     "output_type": "execute_result",
     "data": {
      "text/plain": [
       "           bWendu yWendu tianqi fengxiang fengli  aqi aqiInfo  aqiLevel  hw  \\\n",
       "ymd                                                                           \n",
       "2018-03-28    25℃     9℃   多云~晴        东风   1-2级  387    严重污染         6  25   \n",
       "2018-03-14    15℃     6℃   多云~阴       东北风   1-2级  293    重度污染         5  15   \n",
       "2018-03-13    17℃     5℃   晴~多云        南风   1-2级  287    重度污染         5  17   \n",
       "2018-04-02    26℃    11℃     多云        北风   1-2级  287    重度污染         5  26   \n",
       "2018-11-14    13℃     5℃     多云        南风   1-2级  266    重度污染         5  13   \n",
       "\n",
       "            lw  \n",
       "ymd             \n",
       "2018-03-28   9  \n",
       "2018-03-14   6  \n",
       "2018-03-13   5  \n",
       "2018-04-02  11  \n",
       "2018-11-14   5  "
      ],
      "text/html": "<div>\n<style scoped>\n    .dataframe tbody tr th:only-of-type {\n        vertical-align: middle;\n    }\n\n    .dataframe tbody tr th {\n        vertical-align: top;\n    }\n\n    .dataframe thead th {\n        text-align: right;\n    }\n</style>\n<table border=\"1\" class=\"dataframe\">\n  <thead>\n    <tr style=\"text-align: right;\">\n      <th></th>\n      <th>bWendu</th>\n      <th>yWendu</th>\n      <th>tianqi</th>\n      <th>fengxiang</th>\n      <th>fengli</th>\n      <th>aqi</th>\n      <th>aqiInfo</th>\n      <th>aqiLevel</th>\n      <th>hw</th>\n      <th>lw</th>\n    </tr>\n    <tr>\n      <th>ymd</th>\n      <th></th>\n      <th></th>\n      <th></th>\n      <th></th>\n      <th></th>\n      <th></th>\n      <th></th>\n      <th></th>\n      <th></th>\n      <th></th>\n    </tr>\n  </thead>\n  <tbody>\n    <tr>\n      <td>2018-03-28</td>\n      <td>25℃</td>\n      <td>9℃</td>\n      <td>多云~晴</td>\n      <td>东风</td>\n      <td>1-2级</td>\n      <td>387</td>\n      <td>严重污染</td>\n      <td>6</td>\n      <td>25</td>\n      <td>9</td>\n    </tr>\n    <tr>\n      <td>2018-03-14</td>\n      <td>15℃</td>\n      <td>6℃</td>\n      <td>多云~阴</td>\n      <td>东北风</td>\n      <td>1-2级</td>\n      <td>293</td>\n      <td>重度污染</td>\n      <td>5</td>\n      <td>15</td>\n      <td>6</td>\n    </tr>\n    <tr>\n      <td>2018-03-13</td>\n      <td>17℃</td>\n      <td>5℃</td>\n      <td>晴~多云</td>\n      <td>南风</td>\n      <td>1-2级</td>\n      <td>287</td>\n      <td>重度污染</td>\n      <td>5</td>\n      <td>17</td>\n      <td>5</td>\n    </tr>\n    <tr>\n      <td>2018-04-02</td>\n      <td>26℃</td>\n      <td>11℃</td>\n      <td>多云</td>\n      <td>北风</td>\n      <td>1-2级</td>\n      <td>287</td>\n      <td>重度污染</td>\n      <td>5</td>\n      <td>26</td>\n      <td>11</td>\n    </tr>\n    <tr>\n      <td>2018-11-14</td>\n      <td>13℃</td>\n      <td>5℃</td>\n      <td>多云</td>\n      <td>南风</td>\n      <td>1-2级</td>\n      <td>266</td>\n      <td>重度污染</td>\n      <td>5</td>\n      <td>13</td>\n      <td>5</td>\n    </tr>\n  </tbody>\n</table>\n</div>"
     },
     "metadata": {},
     "execution_count": 28
    }
   ],
   "source": [
    "# 多列排序\n",
    "tq.sort_values(by=['aqi', 'aqiLevel'], inplace=True, ascending=False)\n",
    "tq.head()"
   ]
  },
  {
   "cell_type": "code",
   "execution_count": 31,
   "metadata": {},
   "outputs": [
    {
     "output_type": "execute_result",
     "data": {
      "text/plain": [
       "           bWendu yWendu tianqi fengxiang fengli  aqi aqiInfo  aqiLevel  hw  \\\n",
       "ymd                                                                           \n",
       "2018-09-29    22℃    11℃      晴        北风   3-4级   21       优         1  22   \n",
       "2018-10-09    15℃     4℃   多云~晴       西北风   4-5级   21       优         1  15   \n",
       "2018-09-07    27℃    16℃      晴       西北风   3-4级   22       优         1  27   \n",
       "2018-09-30    19℃    13℃     多云       西北风   4-5级   22       优         1  19   \n",
       "2018-10-29    15℃     3℃      晴        北风   3-4级   22       优         1  15   \n",
       "\n",
       "            lw  \n",
       "ymd             \n",
       "2018-09-29  11  \n",
       "2018-10-09   4  \n",
       "2018-09-07  16  \n",
       "2018-09-30  13  \n",
       "2018-10-29   3  "
      ],
      "text/html": "<div>\n<style scoped>\n    .dataframe tbody tr th:only-of-type {\n        vertical-align: middle;\n    }\n\n    .dataframe tbody tr th {\n        vertical-align: top;\n    }\n\n    .dataframe thead th {\n        text-align: right;\n    }\n</style>\n<table border=\"1\" class=\"dataframe\">\n  <thead>\n    <tr style=\"text-align: right;\">\n      <th></th>\n      <th>bWendu</th>\n      <th>yWendu</th>\n      <th>tianqi</th>\n      <th>fengxiang</th>\n      <th>fengli</th>\n      <th>aqi</th>\n      <th>aqiInfo</th>\n      <th>aqiLevel</th>\n      <th>hw</th>\n      <th>lw</th>\n    </tr>\n    <tr>\n      <th>ymd</th>\n      <th></th>\n      <th></th>\n      <th></th>\n      <th></th>\n      <th></th>\n      <th></th>\n      <th></th>\n      <th></th>\n      <th></th>\n      <th></th>\n    </tr>\n  </thead>\n  <tbody>\n    <tr>\n      <td>2018-09-29</td>\n      <td>22℃</td>\n      <td>11℃</td>\n      <td>晴</td>\n      <td>北风</td>\n      <td>3-4级</td>\n      <td>21</td>\n      <td>优</td>\n      <td>1</td>\n      <td>22</td>\n      <td>11</td>\n    </tr>\n    <tr>\n      <td>2018-10-09</td>\n      <td>15℃</td>\n      <td>4℃</td>\n      <td>多云~晴</td>\n      <td>西北风</td>\n      <td>4-5级</td>\n      <td>21</td>\n      <td>优</td>\n      <td>1</td>\n      <td>15</td>\n      <td>4</td>\n    </tr>\n    <tr>\n      <td>2018-09-07</td>\n      <td>27℃</td>\n      <td>16℃</td>\n      <td>晴</td>\n      <td>西北风</td>\n      <td>3-4级</td>\n      <td>22</td>\n      <td>优</td>\n      <td>1</td>\n      <td>27</td>\n      <td>16</td>\n    </tr>\n    <tr>\n      <td>2018-09-30</td>\n      <td>19℃</td>\n      <td>13℃</td>\n      <td>多云</td>\n      <td>西北风</td>\n      <td>4-5级</td>\n      <td>22</td>\n      <td>优</td>\n      <td>1</td>\n      <td>19</td>\n      <td>13</td>\n    </tr>\n    <tr>\n      <td>2018-10-29</td>\n      <td>15℃</td>\n      <td>3℃</td>\n      <td>晴</td>\n      <td>北风</td>\n      <td>3-4级</td>\n      <td>22</td>\n      <td>优</td>\n      <td>1</td>\n      <td>15</td>\n      <td>3</td>\n    </tr>\n  </tbody>\n</table>\n</div>"
     },
     "metadata": {},
     "execution_count": 31
    }
   ],
   "source": [
    "# 多列指定不同的顺序\n",
    "tq.sort_values(by=['aqi','hw'],inplace=True, ascending=[True, False])\n",
    "tq.head()"
   ]
  }
 ]
}