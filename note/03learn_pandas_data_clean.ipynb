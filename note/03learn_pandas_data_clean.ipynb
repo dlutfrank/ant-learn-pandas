{
 "metadata": {
  "language_info": {
   "codemirror_mode": {
    "name": "ipython",
    "version": 3
   },
   "file_extension": ".py",
   "mimetype": "text/x-python",
   "name": "python",
   "nbconvert_exporter": "python",
   "pygments_lexer": "ipython3",
   "version": 3
  },
  "orig_nbformat": 2
 },
 "nbformat": 4,
 "nbformat_minor": 2,
 "cells": [
  {
   "source": [
    "### 数据清洗\n",
    "1. 判断缺失值\n",
    "2. 缺失值的填充\n",
    "3. 缺失值的删除"
   ],
   "cell_type": "markdown",
   "metadata": {}
  },
  {
   "cell_type": "code",
   "execution_count": null,
   "metadata": {},
   "outputs": [],
   "source": [
    "import pandas as pd\n",
    "studf = pd.read_excel(\"../datas/student_excel/student_excel.xlsx\", skiprows=2)"
   ]
  }
 ]
}