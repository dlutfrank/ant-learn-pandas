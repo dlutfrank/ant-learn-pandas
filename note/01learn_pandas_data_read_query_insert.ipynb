{
 "metadata": {
  "language_info": {
   "codemirror_mode": {
    "name": "ipython",
    "version": 3
   },
   "file_extension": ".py",
   "mimetype": "text/x-python",
   "name": "python",
   "nbconvert_exporter": "python",
   "pygments_lexer": "ipython3",
   "version": "3.6.8-final"
  },
  "orig_nbformat": 2,
  "kernelspec": {
   "name": "python3",
   "display_name": "Python 3"
  }
 },
 "nbformat": 4,
 "nbformat_minor": 2,
 "cells": [
  {
   "source": [
    "## pandas 学习笔记--数据读取、查询与新增\n"
   ],
   "cell_type": "markdown",
   "metadata": {}
  },
  {
   "source": [
    "### 01 总结\n",
    "+ 安装 pip3 install pandas\n",
    "+ jupyter lab 交互式演示神器\n",
    "    + 安装 pip3 install jupyterlab\n",
    "+ vscode 非常好用的IDE，支持项目开发，支持jupyter\n",
    "+ 课程资源地址: https://github.com/dlutfrank/ant-learn-pandas.git"
   ],
   "cell_type": "markdown",
   "metadata": {}
  },
  {
   "source": [
    "### 02 数据读取\n",
    "#### 2.1 csv数据读取\n",
    "+ 直接读取"
   ],
   "cell_type": "markdown",
   "metadata": {}
  },
  {
   "cell_type": "code",
   "execution_count": 1,
   "metadata": {},
   "outputs": [],
   "source": [
    "import pandas as pd"
   ]
  },
  {
   "cell_type": "code",
   "execution_count": 14,
   "metadata": {},
   "outputs": [],
   "source": [
    "fpath = '../datas/ml-latest-small/ratings.csv'\n",
    "ratings = pd.read_csv(fpath)"
   ]
  },
  {
   "cell_type": "code",
   "execution_count": 15,
   "metadata": {},
   "outputs": [
    {
     "output_type": "execute_result",
     "data": {
      "text/plain": [
       "   userId  movieId  rating  timestamp\n",
       "0       1        1     4.0  964982703\n",
       "1       1        3     4.0  964981247\n",
       "2       1        6     4.0  964982224\n",
       "3       1       47     5.0  964983815\n",
       "4       1       50     5.0  964982931"
      ],
      "text/html": "<div>\n<style scoped>\n    .dataframe tbody tr th:only-of-type {\n        vertical-align: middle;\n    }\n\n    .dataframe tbody tr th {\n        vertical-align: top;\n    }\n\n    .dataframe thead th {\n        text-align: right;\n    }\n</style>\n<table border=\"1\" class=\"dataframe\">\n  <thead>\n    <tr style=\"text-align: right;\">\n      <th></th>\n      <th>userId</th>\n      <th>movieId</th>\n      <th>rating</th>\n      <th>timestamp</th>\n    </tr>\n  </thead>\n  <tbody>\n    <tr>\n      <td>0</td>\n      <td>1</td>\n      <td>1</td>\n      <td>4.0</td>\n      <td>964982703</td>\n    </tr>\n    <tr>\n      <td>1</td>\n      <td>1</td>\n      <td>3</td>\n      <td>4.0</td>\n      <td>964981247</td>\n    </tr>\n    <tr>\n      <td>2</td>\n      <td>1</td>\n      <td>6</td>\n      <td>4.0</td>\n      <td>964982224</td>\n    </tr>\n    <tr>\n      <td>3</td>\n      <td>1</td>\n      <td>47</td>\n      <td>5.0</td>\n      <td>964983815</td>\n    </tr>\n    <tr>\n      <td>4</td>\n      <td>1</td>\n      <td>50</td>\n      <td>5.0</td>\n      <td>964982931</td>\n    </tr>\n  </tbody>\n</table>\n</div>"
     },
     "metadata": {},
     "execution_count": 15
    }
   ],
   "source": [
    "# 查看前几行数据\n",
    "ratings.head()"
   ]
  },
  {
   "source": [
    "+ 指定分割符、列名读取"
   ],
   "cell_type": "markdown",
   "metadata": {}
  },
  {
   "cell_type": "code",
   "execution_count": 4,
   "metadata": {},
   "outputs": [],
   "source": [
    "pvuv = pd.read_csv('../datas/crazyant/access_pvuv.txt', \n",
    "sep='\\t', \n",
    "header=None,\n",
    "names=['date', 'pv', 'uv'], \n",
    "# index_col=['date'],\n",
    "parse_dates=['date'])\n"
   ]
  },
  {
   "cell_type": "code",
   "execution_count": 5,
   "metadata": {},
   "outputs": [
    {
     "output_type": "execute_result",
     "data": {
      "text/plain": [
       "        date   pv   uv\n",
       "0 2019-09-10  139   92\n",
       "1 2019-09-09  185  153\n",
       "2 2019-09-08  123   59\n",
       "3 2019-09-07   65   40\n",
       "4 2019-09-06  157   98\n",
       "5 2019-09-05  205  151\n",
       "6 2019-09-04  196  167\n",
       "7 2019-09-03  216  176\n",
       "8 2019-09-02  227  148\n",
       "9 2019-09-01  105   61"
      ],
      "text/html": "<div>\n<style scoped>\n    .dataframe tbody tr th:only-of-type {\n        vertical-align: middle;\n    }\n\n    .dataframe tbody tr th {\n        vertical-align: top;\n    }\n\n    .dataframe thead th {\n        text-align: right;\n    }\n</style>\n<table border=\"1\" class=\"dataframe\">\n  <thead>\n    <tr style=\"text-align: right;\">\n      <th></th>\n      <th>date</th>\n      <th>pv</th>\n      <th>uv</th>\n    </tr>\n  </thead>\n  <tbody>\n    <tr>\n      <th>0</th>\n      <td>2019-09-10</td>\n      <td>139</td>\n      <td>92</td>\n    </tr>\n    <tr>\n      <th>1</th>\n      <td>2019-09-09</td>\n      <td>185</td>\n      <td>153</td>\n    </tr>\n    <tr>\n      <th>2</th>\n      <td>2019-09-08</td>\n      <td>123</td>\n      <td>59</td>\n    </tr>\n    <tr>\n      <th>3</th>\n      <td>2019-09-07</td>\n      <td>65</td>\n      <td>40</td>\n    </tr>\n    <tr>\n      <th>4</th>\n      <td>2019-09-06</td>\n      <td>157</td>\n      <td>98</td>\n    </tr>\n    <tr>\n      <th>5</th>\n      <td>2019-09-05</td>\n      <td>205</td>\n      <td>151</td>\n    </tr>\n    <tr>\n      <th>6</th>\n      <td>2019-09-04</td>\n      <td>196</td>\n      <td>167</td>\n    </tr>\n    <tr>\n      <th>7</th>\n      <td>2019-09-03</td>\n      <td>216</td>\n      <td>176</td>\n    </tr>\n    <tr>\n      <th>8</th>\n      <td>2019-09-02</td>\n      <td>227</td>\n      <td>148</td>\n    </tr>\n    <tr>\n      <th>9</th>\n      <td>2019-09-01</td>\n      <td>105</td>\n      <td>61</td>\n    </tr>\n  </tbody>\n</table>\n</div>"
     },
     "metadata": {},
     "execution_count": 5
    }
   ],
   "source": [
    "pvuv\n"
   ]
  },
  {
   "cell_type": "code",
   "execution_count": 6,
   "metadata": {},
   "outputs": [
    {
     "output_type": "execute_result",
     "data": {
      "text/plain": [
       "date    datetime64[ns]\n",
       "pv               int64\n",
       "uv               int64\n",
       "dtype: object"
      ]
     },
     "metadata": {},
     "execution_count": 6
    }
   ],
   "source": [
    "pvuv.dtypes"
   ]
  },
  {
   "cell_type": "code",
   "execution_count": 7,
   "metadata": {},
   "outputs": [
    {
     "output_type": "execute_result",
     "data": {
      "text/plain": [
       "RangeIndex(start=0, stop=10, step=1)"
      ]
     },
     "metadata": {},
     "execution_count": 7
    }
   ],
   "source": [
    "pvuv.index"
   ]
  },
  {
   "cell_type": "code",
   "execution_count": 8,
   "metadata": {},
   "outputs": [
    {
     "output_type": "execute_result",
     "data": {
      "text/plain": [
       "Index(['date', 'pv', 'uv'], dtype='object')"
      ]
     },
     "metadata": {},
     "execution_count": 8
    }
   ],
   "source": [
    "pvuv.columns"
   ]
  },
  {
   "source": [
    "+ 统计数据"
   ],
   "cell_type": "markdown",
   "metadata": {}
  },
  {
   "cell_type": "code",
   "execution_count": 12,
   "metadata": {},
   "outputs": [
    {
     "output_type": "execute_result",
     "data": {
      "text/plain": [
       "               pv          uv\n",
       "count   10.000000   10.000000\n",
       "mean   161.800000  114.500000\n",
       "std     53.132539   50.273143\n",
       "min     65.000000   40.000000\n",
       "25%    127.000000   68.750000\n",
       "50%    171.000000  123.000000\n",
       "75%    202.750000  152.500000\n",
       "max    227.000000  176.000000"
      ],
      "text/html": "<div>\n<style scoped>\n    .dataframe tbody tr th:only-of-type {\n        vertical-align: middle;\n    }\n\n    .dataframe tbody tr th {\n        vertical-align: top;\n    }\n\n    .dataframe thead th {\n        text-align: right;\n    }\n</style>\n<table border=\"1\" class=\"dataframe\">\n  <thead>\n    <tr style=\"text-align: right;\">\n      <th></th>\n      <th>pv</th>\n      <th>uv</th>\n    </tr>\n  </thead>\n  <tbody>\n    <tr>\n      <th>count</th>\n      <td>10.000000</td>\n      <td>10.000000</td>\n    </tr>\n    <tr>\n      <th>mean</th>\n      <td>161.800000</td>\n      <td>114.500000</td>\n    </tr>\n    <tr>\n      <th>std</th>\n      <td>53.132539</td>\n      <td>50.273143</td>\n    </tr>\n    <tr>\n      <th>min</th>\n      <td>65.000000</td>\n      <td>40.000000</td>\n    </tr>\n    <tr>\n      <th>25%</th>\n      <td>127.000000</td>\n      <td>68.750000</td>\n    </tr>\n    <tr>\n      <th>50%</th>\n      <td>171.000000</td>\n      <td>123.000000</td>\n    </tr>\n    <tr>\n      <th>75%</th>\n      <td>202.750000</td>\n      <td>152.500000</td>\n    </tr>\n    <tr>\n      <th>max</th>\n      <td>227.000000</td>\n      <td>176.000000</td>\n    </tr>\n  </tbody>\n</table>\n</div>"
     },
     "metadata": {},
     "execution_count": 12
    }
   ],
   "source": [
    "pvuv.describe()"
   ]
  },
  {
   "cell_type": "code",
   "execution_count": 9,
   "metadata": {},
   "outputs": [
    {
     "output_type": "execute_result",
     "data": {
      "text/plain": [
       "161.8"
      ]
     },
     "metadata": {},
     "execution_count": 9
    }
   ],
   "source": [
    "#对某一列求均值\n",
    "pvuv['pv'].mean()"
   ]
  },
  {
   "cell_type": "code",
   "execution_count": 10,
   "metadata": {},
   "outputs": [
    {
     "output_type": "execute_result",
     "data": {
      "text/plain": [
       "          pv        uv\n",
       "pv  1.000000  0.947536\n",
       "uv  0.947536  1.000000"
      ],
      "text/html": "<div>\n<style scoped>\n    .dataframe tbody tr th:only-of-type {\n        vertical-align: middle;\n    }\n\n    .dataframe tbody tr th {\n        vertical-align: top;\n    }\n\n    .dataframe thead th {\n        text-align: right;\n    }\n</style>\n<table border=\"1\" class=\"dataframe\">\n  <thead>\n    <tr style=\"text-align: right;\">\n      <th></th>\n      <th>pv</th>\n      <th>uv</th>\n    </tr>\n  </thead>\n  <tbody>\n    <tr>\n      <th>pv</th>\n      <td>1.000000</td>\n      <td>0.947536</td>\n    </tr>\n    <tr>\n      <th>uv</th>\n      <td>0.947536</td>\n      <td>1.000000</td>\n    </tr>\n  </tbody>\n</table>\n</div>"
     },
     "metadata": {},
     "execution_count": 10
    }
   ],
   "source": [
    "#计算数据列相关系数，取值范围[-1,1]，1为正相关，-1为负相关\n",
    "pvuv.corr()"
   ]
  },
  {
   "cell_type": "code",
   "execution_count": 11,
   "metadata": {},
   "outputs": [
    {
     "output_type": "execute_result",
     "data": {
      "text/plain": [
       "             pv           uv\n",
       "pv  2823.066667  2531.000000\n",
       "uv  2531.000000  2527.388889"
      ],
      "text/html": "<div>\n<style scoped>\n    .dataframe tbody tr th:only-of-type {\n        vertical-align: middle;\n    }\n\n    .dataframe tbody tr th {\n        vertical-align: top;\n    }\n\n    .dataframe thead th {\n        text-align: right;\n    }\n</style>\n<table border=\"1\" class=\"dataframe\">\n  <thead>\n    <tr style=\"text-align: right;\">\n      <th></th>\n      <th>pv</th>\n      <th>uv</th>\n    </tr>\n  </thead>\n  <tbody>\n    <tr>\n      <th>pv</th>\n      <td>2823.066667</td>\n      <td>2531.000000</td>\n    </tr>\n    <tr>\n      <th>uv</th>\n      <td>2531.000000</td>\n      <td>2527.388889</td>\n    </tr>\n  </tbody>\n</table>\n</div>"
     },
     "metadata": {},
     "execution_count": 11
    }
   ],
   "source": [
    "pvuv.cov()"
   ]
  },
  {
   "source": [
    "+ 读取excel数据"
   ],
   "cell_type": "markdown",
   "metadata": {}
  },
  {
   "cell_type": "code",
   "execution_count": 14,
   "metadata": {},
   "outputs": [
    {
     "output_type": "execute_result",
     "data": {
      "text/plain": [
       "           日期   PV   UV\n",
       "0  2019-09-10  139   92\n",
       "1  2019-09-09  185  153\n",
       "2  2019-09-08  123   59\n",
       "3  2019-09-07   65   40\n",
       "4  2019-09-06  157   98\n",
       "5  2019-09-05  205  151\n",
       "6  2019-09-04  196  167\n",
       "7  2019-09-03  216  176\n",
       "8  2019-09-02  227  148\n",
       "9  2019-09-01  105   61"
      ],
      "text/html": "<div>\n<style scoped>\n    .dataframe tbody tr th:only-of-type {\n        vertical-align: middle;\n    }\n\n    .dataframe tbody tr th {\n        vertical-align: top;\n    }\n\n    .dataframe thead th {\n        text-align: right;\n    }\n</style>\n<table border=\"1\" class=\"dataframe\">\n  <thead>\n    <tr style=\"text-align: right;\">\n      <th></th>\n      <th>日期</th>\n      <th>PV</th>\n      <th>UV</th>\n    </tr>\n  </thead>\n  <tbody>\n    <tr>\n      <th>0</th>\n      <td>2019-09-10</td>\n      <td>139</td>\n      <td>92</td>\n    </tr>\n    <tr>\n      <th>1</th>\n      <td>2019-09-09</td>\n      <td>185</td>\n      <td>153</td>\n    </tr>\n    <tr>\n      <th>2</th>\n      <td>2019-09-08</td>\n      <td>123</td>\n      <td>59</td>\n    </tr>\n    <tr>\n      <th>3</th>\n      <td>2019-09-07</td>\n      <td>65</td>\n      <td>40</td>\n    </tr>\n    <tr>\n      <th>4</th>\n      <td>2019-09-06</td>\n      <td>157</td>\n      <td>98</td>\n    </tr>\n    <tr>\n      <th>5</th>\n      <td>2019-09-05</td>\n      <td>205</td>\n      <td>151</td>\n    </tr>\n    <tr>\n      <th>6</th>\n      <td>2019-09-04</td>\n      <td>196</td>\n      <td>167</td>\n    </tr>\n    <tr>\n      <th>7</th>\n      <td>2019-09-03</td>\n      <td>216</td>\n      <td>176</td>\n    </tr>\n    <tr>\n      <th>8</th>\n      <td>2019-09-02</td>\n      <td>227</td>\n      <td>148</td>\n    </tr>\n    <tr>\n      <th>9</th>\n      <td>2019-09-01</td>\n      <td>105</td>\n      <td>61</td>\n    </tr>\n  </tbody>\n</table>\n</div>"
     },
     "metadata": {},
     "execution_count": 14
    }
   ],
   "source": [
    "excel_pvuv = pd.read_excel('../datas/crazyant/access_pvuv.xlsx')\n",
    "excel_pvuv"
   ]
  },
  {
   "source": [
    "+ 读取mysql"
   ],
   "cell_type": "markdown",
   "metadata": {}
  },
  {
   "source": [
    "### 03 & 04 数据查询\n",
    "#### Series查询\n"
   ],
   "cell_type": "markdown",
   "metadata": {}
  },
  {
   "cell_type": "code",
   "execution_count": 15,
   "metadata": {},
   "outputs": [
    {
     "output_type": "execute_result",
     "data": {
      "text/plain": [
       "Ohio      35000\n",
       "Texas     72000\n",
       "Oregon    16000\n",
       "Utah       5000\n",
       "dtype: int64"
      ]
     },
     "metadata": {},
     "execution_count": 15
    }
   ],
   "source": [
    "# 通过字典构造Series\n",
    "sdata = {'Ohio':35000,'Texas':72000,'Oregon':16000,'Utah':5000}\n",
    "ss = pd.Series(sdata)\n",
    "ss"
   ]
  },
  {
   "cell_type": "code",
   "execution_count": 16,
   "metadata": {},
   "outputs": [
    {
     "output_type": "execute_result",
     "data": {
      "text/plain": [
       "Index(['Ohio', 'Texas', 'Oregon', 'Utah'], dtype='object')"
      ]
     },
     "metadata": {},
     "execution_count": 16
    }
   ],
   "source": [
    "ss.index"
   ]
  },
  {
   "cell_type": "code",
   "execution_count": 17,
   "metadata": {},
   "outputs": [
    {
     "output_type": "execute_result",
     "data": {
      "text/plain": [
       "array([35000, 72000, 16000,  5000])"
      ]
     },
     "metadata": {},
     "execution_count": 17
    }
   ],
   "source": [
    "ss.values"
   ]
  },
  {
   "cell_type": "code",
   "execution_count": 18,
   "metadata": {},
   "outputs": [
    {
     "output_type": "execute_result",
     "data": {
      "text/plain": [
       "numpy.int64"
      ]
     },
     "metadata": {},
     "execution_count": 18
    }
   ],
   "source": [
    "type(ss['Ohio'])"
   ]
  },
  {
   "cell_type": "code",
   "execution_count": 20,
   "metadata": {},
   "outputs": [
    {
     "output_type": "execute_result",
     "data": {
      "text/plain": [
       "35000"
      ]
     },
     "metadata": {},
     "execution_count": 20
    }
   ],
   "source": [
    "# 查询单个值\n",
    "ss['Ohio']"
   ]
  },
  {
   "cell_type": "code",
   "execution_count": 21,
   "metadata": {},
   "outputs": [
    {
     "output_type": "execute_result",
     "data": {
      "text/plain": [
       "Ohio      35000\n",
       "Oregon    16000\n",
       "dtype: int64"
      ]
     },
     "metadata": {},
     "execution_count": 21
    }
   ],
   "source": [
    "# 查询多个值\n",
    "ss[['Ohio','Oregon']]"
   ]
  },
  {
   "source": [
    "#### DataFrame查询\n",
    "+ loc，根据索引查询\n",
    "+ iloc，根据位置查询\n",
    "+ df.query方法\n",
    "+ df.where方法"
   ],
   "cell_type": "markdown",
   "metadata": {}
  },
  {
   "cell_type": "code",
   "execution_count": 23,
   "metadata": {},
   "outputs": [
    {
     "output_type": "execute_result",
     "data": {
      "text/plain": [
       "    state  year  pop\n",
       "0    Ohio  2000  1.5\n",
       "1    Ohio  2001  1.7\n",
       "2    Ohio  2002  3.6\n",
       "3  Nevada  2001  2.4\n",
       "4  Nevada  2002  2.9"
      ],
      "text/html": "<div>\n<style scoped>\n    .dataframe tbody tr th:only-of-type {\n        vertical-align: middle;\n    }\n\n    .dataframe tbody tr th {\n        vertical-align: top;\n    }\n\n    .dataframe thead th {\n        text-align: right;\n    }\n</style>\n<table border=\"1\" class=\"dataframe\">\n  <thead>\n    <tr style=\"text-align: right;\">\n      <th></th>\n      <th>state</th>\n      <th>year</th>\n      <th>pop</th>\n    </tr>\n  </thead>\n  <tbody>\n    <tr>\n      <th>0</th>\n      <td>Ohio</td>\n      <td>2000</td>\n      <td>1.5</td>\n    </tr>\n    <tr>\n      <th>1</th>\n      <td>Ohio</td>\n      <td>2001</td>\n      <td>1.7</td>\n    </tr>\n    <tr>\n      <th>2</th>\n      <td>Ohio</td>\n      <td>2002</td>\n      <td>3.6</td>\n    </tr>\n    <tr>\n      <th>3</th>\n      <td>Nevada</td>\n      <td>2001</td>\n      <td>2.4</td>\n    </tr>\n    <tr>\n      <th>4</th>\n      <td>Nevada</td>\n      <td>2002</td>\n      <td>2.9</td>\n    </tr>\n  </tbody>\n</table>\n</div>"
     },
     "metadata": {},
     "execution_count": 23
    }
   ],
   "source": [
    "data={\n",
    "        'state':['Ohio','Ohio','Ohio','Nevada','Nevada'],\n",
    "        'year':[2000,2001,2002,2001,2002],\n",
    "        'pop':[1.5,1.7,3.6,2.4,2.9]\n",
    "    }\n",
    "df = pd.DataFrame(data)\n",
    "df"
   ]
  },
  {
   "cell_type": "code",
   "execution_count": 24,
   "metadata": {},
   "outputs": [
    {
     "output_type": "execute_result",
     "data": {
      "text/plain": [
       "0      Ohio\n",
       "1      Ohio\n",
       "2      Ohio\n",
       "3    Nevada\n",
       "4    Nevada\n",
       "Name: state, dtype: object"
      ]
     },
     "metadata": {},
     "execution_count": 24
    }
   ],
   "source": [
    "# 根据列名查询\n",
    "df['state']\n"
   ]
  },
  {
   "cell_type": "code",
   "execution_count": 25,
   "metadata": {},
   "outputs": [
    {
     "output_type": "execute_result",
     "data": {
      "text/plain": [
       "    state  year\n",
       "0    Ohio  2000\n",
       "1    Ohio  2001\n",
       "2    Ohio  2002\n",
       "3  Nevada  2001\n",
       "4  Nevada  2002"
      ],
      "text/html": "<div>\n<style scoped>\n    .dataframe tbody tr th:only-of-type {\n        vertical-align: middle;\n    }\n\n    .dataframe tbody tr th {\n        vertical-align: top;\n    }\n\n    .dataframe thead th {\n        text-align: right;\n    }\n</style>\n<table border=\"1\" class=\"dataframe\">\n  <thead>\n    <tr style=\"text-align: right;\">\n      <th></th>\n      <th>state</th>\n      <th>year</th>\n    </tr>\n  </thead>\n  <tbody>\n    <tr>\n      <th>0</th>\n      <td>Ohio</td>\n      <td>2000</td>\n    </tr>\n    <tr>\n      <th>1</th>\n      <td>Ohio</td>\n      <td>2001</td>\n    </tr>\n    <tr>\n      <th>2</th>\n      <td>Ohio</td>\n      <td>2002</td>\n    </tr>\n    <tr>\n      <th>3</th>\n      <td>Nevada</td>\n      <td>2001</td>\n    </tr>\n    <tr>\n      <th>4</th>\n      <td>Nevada</td>\n      <td>2002</td>\n    </tr>\n  </tbody>\n</table>\n</div>"
     },
     "metadata": {},
     "execution_count": 25
    }
   ],
   "source": [
    "# 查询多个列\n",
    "df[['state', 'year']]"
   ]
  },
  {
   "cell_type": "code",
   "execution_count": 27,
   "metadata": {},
   "outputs": [
    {
     "output_type": "execute_result",
     "data": {
      "text/plain": [
       "state    Ohio\n",
       "year     2001\n",
       "pop       1.7\n",
       "Name: 1, dtype: object"
      ]
     },
     "metadata": {},
     "execution_count": 27
    }
   ],
   "source": [
    "# 根据行索引查询\n",
    "df.loc[1]"
   ]
  },
  {
   "cell_type": "code",
   "execution_count": 28,
   "metadata": {},
   "outputs": [
    {
     "output_type": "execute_result",
     "data": {
      "text/plain": [
       "    state  year  pop\n",
       "2    Ohio  2002  3.6\n",
       "3  Nevada  2001  2.4"
      ],
      "text/html": "<div>\n<style scoped>\n    .dataframe tbody tr th:only-of-type {\n        vertical-align: middle;\n    }\n\n    .dataframe tbody tr th {\n        vertical-align: top;\n    }\n\n    .dataframe thead th {\n        text-align: right;\n    }\n</style>\n<table border=\"1\" class=\"dataframe\">\n  <thead>\n    <tr style=\"text-align: right;\">\n      <th></th>\n      <th>state</th>\n      <th>year</th>\n      <th>pop</th>\n    </tr>\n  </thead>\n  <tbody>\n    <tr>\n      <th>2</th>\n      <td>Ohio</td>\n      <td>2002</td>\n      <td>3.6</td>\n    </tr>\n    <tr>\n      <th>3</th>\n      <td>Nevada</td>\n      <td>2001</td>\n      <td>2.4</td>\n    </tr>\n  </tbody>\n</table>\n</div>"
     },
     "metadata": {},
     "execution_count": 28
    }
   ],
   "source": [
    "# 查询多行\n",
    "df.loc[2:3]"
   ]
  },
  {
   "cell_type": "code",
   "execution_count": 59,
   "metadata": {},
   "outputs": [
    {
     "output_type": "execute_result",
     "data": {
      "text/plain": [
       "           bWendu yWendu tianqi fengxiang fengli  aqi aqiInfo  aqiLevel\n",
       "ymd                                                                    \n",
       "2018-01-01     3℃    -6℃   晴~多云       东北风   1-2级   59       良         2\n",
       "2018-01-02     2℃    -5℃   阴~多云       东北风   1-2级   49       优         1\n",
       "2018-01-03     2℃    -5℃     多云        北风   1-2级   28       优         1\n",
       "2018-01-04     0℃    -8℃      阴       东北风   1-2级   28       优         1\n",
       "2018-01-05     3℃    -6℃   多云~晴       西北风   1-2级   50       优         1"
      ],
      "text/html": "<div>\n<style scoped>\n    .dataframe tbody tr th:only-of-type {\n        vertical-align: middle;\n    }\n\n    .dataframe tbody tr th {\n        vertical-align: top;\n    }\n\n    .dataframe thead th {\n        text-align: right;\n    }\n</style>\n<table border=\"1\" class=\"dataframe\">\n  <thead>\n    <tr style=\"text-align: right;\">\n      <th></th>\n      <th>bWendu</th>\n      <th>yWendu</th>\n      <th>tianqi</th>\n      <th>fengxiang</th>\n      <th>fengli</th>\n      <th>aqi</th>\n      <th>aqiInfo</th>\n      <th>aqiLevel</th>\n    </tr>\n    <tr>\n      <th>ymd</th>\n      <th></th>\n      <th></th>\n      <th></th>\n      <th></th>\n      <th></th>\n      <th></th>\n      <th></th>\n      <th></th>\n    </tr>\n  </thead>\n  <tbody>\n    <tr>\n      <th>2018-01-01</th>\n      <td>3℃</td>\n      <td>-6℃</td>\n      <td>晴~多云</td>\n      <td>东北风</td>\n      <td>1-2级</td>\n      <td>59</td>\n      <td>良</td>\n      <td>2</td>\n    </tr>\n    <tr>\n      <th>2018-01-02</th>\n      <td>2℃</td>\n      <td>-5℃</td>\n      <td>阴~多云</td>\n      <td>东北风</td>\n      <td>1-2级</td>\n      <td>49</td>\n      <td>优</td>\n      <td>1</td>\n    </tr>\n    <tr>\n      <th>2018-01-03</th>\n      <td>2℃</td>\n      <td>-5℃</td>\n      <td>多云</td>\n      <td>北风</td>\n      <td>1-2级</td>\n      <td>28</td>\n      <td>优</td>\n      <td>1</td>\n    </tr>\n    <tr>\n      <th>2018-01-04</th>\n      <td>0℃</td>\n      <td>-8℃</td>\n      <td>阴</td>\n      <td>东北风</td>\n      <td>1-2级</td>\n      <td>28</td>\n      <td>优</td>\n      <td>1</td>\n    </tr>\n    <tr>\n      <th>2018-01-05</th>\n      <td>3℃</td>\n      <td>-6℃</td>\n      <td>多云~晴</td>\n      <td>西北风</td>\n      <td>1-2级</td>\n      <td>50</td>\n      <td>优</td>\n      <td>1</td>\n    </tr>\n  </tbody>\n</table>\n</div>"
     },
     "metadata": {},
     "execution_count": 59
    }
   ],
   "source": [
    "tq = pd.read_csv(\"../datas/beijing_tianqi/beijing_tianqi_2018.csv\")\n",
    "tq.set_index('ymd',inplace=True)\n",
    "tq.head()"
   ]
  },
  {
   "cell_type": "code",
   "execution_count": 62,
   "metadata": {},
   "outputs": [
    {
     "output_type": "execute_result",
     "data": {
      "text/plain": [
       "59"
      ]
     },
     "metadata": {},
     "execution_count": 62
    }
   ],
   "source": [
    "# 查询单个值，后面的查询都可以根据这个推导过来\n",
    "tq.loc['2018-01-01', 'aqi']"
   ]
  },
  {
   "cell_type": "code",
   "execution_count": 42,
   "metadata": {},
   "outputs": [
    {
     "output_type": "execute_result",
     "data": {
      "text/plain": [
       "           bWendu yWendu tianqi fengxiang fengli  aqi aqiInfo  aqiLevel\n",
       "ymd                                                                    \n",
       "2018-01-01     3℃    -6℃   晴~多云       东北风   1-2级   59       良         2\n",
       "2018-02-05     0℃   -10℃      晴        北风   3-4级   24       优         1"
      ],
      "text/html": "<div>\n<style scoped>\n    .dataframe tbody tr th:only-of-type {\n        vertical-align: middle;\n    }\n\n    .dataframe tbody tr th {\n        vertical-align: top;\n    }\n\n    .dataframe thead th {\n        text-align: right;\n    }\n</style>\n<table border=\"1\" class=\"dataframe\">\n  <thead>\n    <tr style=\"text-align: right;\">\n      <th></th>\n      <th>bWendu</th>\n      <th>yWendu</th>\n      <th>tianqi</th>\n      <th>fengxiang</th>\n      <th>fengli</th>\n      <th>aqi</th>\n      <th>aqiInfo</th>\n      <th>aqiLevel</th>\n    </tr>\n    <tr>\n      <th>ymd</th>\n      <th></th>\n      <th></th>\n      <th></th>\n      <th></th>\n      <th></th>\n      <th></th>\n      <th></th>\n      <th></th>\n    </tr>\n  </thead>\n  <tbody>\n    <tr>\n      <th>2018-01-01</th>\n      <td>3℃</td>\n      <td>-6℃</td>\n      <td>晴~多云</td>\n      <td>东北风</td>\n      <td>1-2级</td>\n      <td>59</td>\n      <td>良</td>\n      <td>2</td>\n    </tr>\n    <tr>\n      <th>2018-02-05</th>\n      <td>0℃</td>\n      <td>-10℃</td>\n      <td>晴</td>\n      <td>北风</td>\n      <td>3-4级</td>\n      <td>24</td>\n      <td>优</td>\n      <td>1</td>\n    </tr>\n  </tbody>\n</table>\n</div>"
     },
     "metadata": {},
     "execution_count": 42
    }
   ],
   "source": [
    "# 查询行\n",
    "tq.loc[['2018-01-01','2018-02-05']] # 等同于 tq.loc[['2018-01-01','2018-02-05'],:]"
   ]
  },
  {
   "cell_type": "code",
   "execution_count": 45,
   "metadata": {},
   "outputs": [
    {
     "output_type": "execute_result",
     "data": {
      "text/plain": [
       "           tianqi  aqi\n",
       "ymd                   \n",
       "2018-01-01   晴~多云   59\n",
       "2018-02-05      晴   24"
      ],
      "text/html": "<div>\n<style scoped>\n    .dataframe tbody tr th:only-of-type {\n        vertical-align: middle;\n    }\n\n    .dataframe tbody tr th {\n        vertical-align: top;\n    }\n\n    .dataframe thead th {\n        text-align: right;\n    }\n</style>\n<table border=\"1\" class=\"dataframe\">\n  <thead>\n    <tr style=\"text-align: right;\">\n      <th></th>\n      <th>tianqi</th>\n      <th>aqi</th>\n    </tr>\n    <tr>\n      <th>ymd</th>\n      <th></th>\n      <th></th>\n    </tr>\n  </thead>\n  <tbody>\n    <tr>\n      <th>2018-01-01</th>\n      <td>晴~多云</td>\n      <td>59</td>\n    </tr>\n    <tr>\n      <th>2018-02-05</th>\n      <td>晴</td>\n      <td>24</td>\n    </tr>\n  </tbody>\n</table>\n</div>"
     },
     "metadata": {},
     "execution_count": 45
    }
   ],
   "source": [
    "# 行列组合查询\n",
    "tq.loc[['2018-01-01','2018-02-05'],['tianqi', 'aqi']]"
   ]
  },
  {
   "cell_type": "code",
   "execution_count": 47,
   "metadata": {},
   "outputs": [
    {
     "output_type": "execute_result",
     "data": {
      "text/plain": [
       "            aqi tianqi\n",
       "ymd                   \n",
       "2018-01-01   59   晴~多云\n",
       "2018-01-02   49   阴~多云\n",
       "2018-01-03   28     多云\n",
       "2018-01-04   28      阴\n",
       "2018-01-05   50   多云~晴\n",
       "...         ...    ...\n",
       "2018-12-27   48   多云~晴\n",
       "2018-12-28   40      晴\n",
       "2018-12-29   29      晴\n",
       "2018-12-30   31   晴~多云\n",
       "2018-12-31   56     多云\n",
       "\n",
       "[365 rows x 2 columns]"
      ],
      "text/html": "<div>\n<style scoped>\n    .dataframe tbody tr th:only-of-type {\n        vertical-align: middle;\n    }\n\n    .dataframe tbody tr th {\n        vertical-align: top;\n    }\n\n    .dataframe thead th {\n        text-align: right;\n    }\n</style>\n<table border=\"1\" class=\"dataframe\">\n  <thead>\n    <tr style=\"text-align: right;\">\n      <th></th>\n      <th>aqi</th>\n      <th>tianqi</th>\n    </tr>\n    <tr>\n      <th>ymd</th>\n      <th></th>\n      <th></th>\n    </tr>\n  </thead>\n  <tbody>\n    <tr>\n      <th>2018-01-01</th>\n      <td>59</td>\n      <td>晴~多云</td>\n    </tr>\n    <tr>\n      <th>2018-01-02</th>\n      <td>49</td>\n      <td>阴~多云</td>\n    </tr>\n    <tr>\n      <th>2018-01-03</th>\n      <td>28</td>\n      <td>多云</td>\n    </tr>\n    <tr>\n      <th>2018-01-04</th>\n      <td>28</td>\n      <td>阴</td>\n    </tr>\n    <tr>\n      <th>2018-01-05</th>\n      <td>50</td>\n      <td>多云~晴</td>\n    </tr>\n    <tr>\n      <th>...</th>\n      <td>...</td>\n      <td>...</td>\n    </tr>\n    <tr>\n      <th>2018-12-27</th>\n      <td>48</td>\n      <td>多云~晴</td>\n    </tr>\n    <tr>\n      <th>2018-12-28</th>\n      <td>40</td>\n      <td>晴</td>\n    </tr>\n    <tr>\n      <th>2018-12-29</th>\n      <td>29</td>\n      <td>晴</td>\n    </tr>\n    <tr>\n      <th>2018-12-30</th>\n      <td>31</td>\n      <td>晴~多云</td>\n    </tr>\n    <tr>\n      <th>2018-12-31</th>\n      <td>56</td>\n      <td>多云</td>\n    </tr>\n  </tbody>\n</table>\n<p>365 rows × 2 columns</p>\n</div>"
     },
     "metadata": {},
     "execution_count": 47
    }
   ],
   "source": [
    "# 获取指定几列数据\n",
    "tq.loc[:,['aqi','tianqi']]"
   ]
  },
  {
   "cell_type": "code",
   "execution_count": 63,
   "metadata": {},
   "outputs": [
    {
     "output_type": "execute_result",
     "data": {
      "text/plain": [
       "           bWendu  yWendu tianqi fengxiang fengli  aqi\n",
       "ymd                                                   \n",
       "2018-02-04     1℃      -8      晴       西南风   1-2级   36\n",
       "2018-02-05     0℃     -10      晴        北风   3-4级   24\n",
       "2018-02-06     3℃      -7   多云~阴       西南风   1-2级   56\n",
       "2018-02-07     2℃     -10   多云~晴        北风   4-5级   63\n",
       "2018-02-08     3℃      -7     多云        南风   3-4级   67\n",
       "2018-02-09     4℃      -9     多云       西北风   4-5级   93\n",
       "2018-02-10     1℃      -9      晴       西北风   3-4级   39\n",
       "2018-02-11     0℃      -9      晴       西北风   4-5级   62\n",
       "2018-02-12     5℃      -7      晴       西北风   1-2级   53\n",
       "2018-02-13     8℃      -4   晴~多云        西风   1-2级   78\n",
       "2018-02-14     6℃      -6     多云        北风   1-2级   42\n",
       "2018-02-15     5℃      -5     多云       西南风   1-2级   48\n",
       "2018-02-16     8℃      -5   晴~多云       西南风   1-2级  118\n",
       "2018-02-17     5℃      -4   多云~阴        南风   1-2级  103\n",
       "2018-02-18     8℃      -3     多云        南风   1-2级  148\n",
       "2018-02-19     6℃      -3     多云        南风   1-2级  183\n",
       "2018-02-20     5℃      -5      晴        北风   1-2级   76\n",
       "2018-02-21     8℃      -4      晴        南风   1-2级   53\n",
       "2018-02-22     9℃      -4     多云       西南风   1-2级   42\n",
       "2018-02-23    10℃      -4     多云       东北风   1-2级   45\n",
       "2018-02-24     3℃      -6   多云~晴        南风   1-2级   66\n",
       "2018-02-25     6℃      -4     多云       西南风   1-2级   73\n",
       "2018-02-26    12℃      -1   晴~多云       西南风   1-2级  157\n",
       "2018-02-27     7℃       0      阴        东风   1-2级  220\n",
       "2018-02-28     9℃      -2   多云~晴       西南风   3-4级  139\n",
       "2018-03-01     8℃      -3     多云       西南风   1-2级   46"
      ],
      "text/html": "<div>\n<style scoped>\n    .dataframe tbody tr th:only-of-type {\n        vertical-align: middle;\n    }\n\n    .dataframe tbody tr th {\n        vertical-align: top;\n    }\n\n    .dataframe thead th {\n        text-align: right;\n    }\n</style>\n<table border=\"1\" class=\"dataframe\">\n  <thead>\n    <tr style=\"text-align: right;\">\n      <th></th>\n      <th>bWendu</th>\n      <th>yWendu</th>\n      <th>tianqi</th>\n      <th>fengxiang</th>\n      <th>fengli</th>\n      <th>aqi</th>\n    </tr>\n    <tr>\n      <th>ymd</th>\n      <th></th>\n      <th></th>\n      <th></th>\n      <th></th>\n      <th></th>\n      <th></th>\n    </tr>\n  </thead>\n  <tbody>\n    <tr>\n      <th>2018-02-04</th>\n      <td>1℃</td>\n      <td>-8</td>\n      <td>晴</td>\n      <td>西南风</td>\n      <td>1-2级</td>\n      <td>36</td>\n    </tr>\n    <tr>\n      <th>2018-02-05</th>\n      <td>0℃</td>\n      <td>-10</td>\n      <td>晴</td>\n      <td>北风</td>\n      <td>3-4级</td>\n      <td>24</td>\n    </tr>\n    <tr>\n      <th>2018-02-06</th>\n      <td>3℃</td>\n      <td>-7</td>\n      <td>多云~阴</td>\n      <td>西南风</td>\n      <td>1-2级</td>\n      <td>56</td>\n    </tr>\n    <tr>\n      <th>2018-02-07</th>\n      <td>2℃</td>\n      <td>-10</td>\n      <td>多云~晴</td>\n      <td>北风</td>\n      <td>4-5级</td>\n      <td>63</td>\n    </tr>\n    <tr>\n      <th>2018-02-08</th>\n      <td>3℃</td>\n      <td>-7</td>\n      <td>多云</td>\n      <td>南风</td>\n      <td>3-4级</td>\n      <td>67</td>\n    </tr>\n    <tr>\n      <th>2018-02-09</th>\n      <td>4℃</td>\n      <td>-9</td>\n      <td>多云</td>\n      <td>西北风</td>\n      <td>4-5级</td>\n      <td>93</td>\n    </tr>\n    <tr>\n      <th>2018-02-10</th>\n      <td>1℃</td>\n      <td>-9</td>\n      <td>晴</td>\n      <td>西北风</td>\n      <td>3-4级</td>\n      <td>39</td>\n    </tr>\n    <tr>\n      <th>2018-02-11</th>\n      <td>0℃</td>\n      <td>-9</td>\n      <td>晴</td>\n      <td>西北风</td>\n      <td>4-5级</td>\n      <td>62</td>\n    </tr>\n    <tr>\n      <th>2018-02-12</th>\n      <td>5℃</td>\n      <td>-7</td>\n      <td>晴</td>\n      <td>西北风</td>\n      <td>1-2级</td>\n      <td>53</td>\n    </tr>\n    <tr>\n      <th>2018-02-13</th>\n      <td>8℃</td>\n      <td>-4</td>\n      <td>晴~多云</td>\n      <td>西风</td>\n      <td>1-2级</td>\n      <td>78</td>\n    </tr>\n    <tr>\n      <th>2018-02-14</th>\n      <td>6℃</td>\n      <td>-6</td>\n      <td>多云</td>\n      <td>北风</td>\n      <td>1-2级</td>\n      <td>42</td>\n    </tr>\n    <tr>\n      <th>2018-02-15</th>\n      <td>5℃</td>\n      <td>-5</td>\n      <td>多云</td>\n      <td>西南风</td>\n      <td>1-2级</td>\n      <td>48</td>\n    </tr>\n    <tr>\n      <th>2018-02-16</th>\n      <td>8℃</td>\n      <td>-5</td>\n      <td>晴~多云</td>\n      <td>西南风</td>\n      <td>1-2级</td>\n      <td>118</td>\n    </tr>\n    <tr>\n      <th>2018-02-17</th>\n      <td>5℃</td>\n      <td>-4</td>\n      <td>多云~阴</td>\n      <td>南风</td>\n      <td>1-2级</td>\n      <td>103</td>\n    </tr>\n    <tr>\n      <th>2018-02-18</th>\n      <td>8℃</td>\n      <td>-3</td>\n      <td>多云</td>\n      <td>南风</td>\n      <td>1-2级</td>\n      <td>148</td>\n    </tr>\n    <tr>\n      <th>2018-02-19</th>\n      <td>6℃</td>\n      <td>-3</td>\n      <td>多云</td>\n      <td>南风</td>\n      <td>1-2级</td>\n      <td>183</td>\n    </tr>\n    <tr>\n      <th>2018-02-20</th>\n      <td>5℃</td>\n      <td>-5</td>\n      <td>晴</td>\n      <td>北风</td>\n      <td>1-2级</td>\n      <td>76</td>\n    </tr>\n    <tr>\n      <th>2018-02-21</th>\n      <td>8℃</td>\n      <td>-4</td>\n      <td>晴</td>\n      <td>南风</td>\n      <td>1-2级</td>\n      <td>53</td>\n    </tr>\n    <tr>\n      <th>2018-02-22</th>\n      <td>9℃</td>\n      <td>-4</td>\n      <td>多云</td>\n      <td>西南风</td>\n      <td>1-2级</td>\n      <td>42</td>\n    </tr>\n    <tr>\n      <th>2018-02-23</th>\n      <td>10℃</td>\n      <td>-4</td>\n      <td>多云</td>\n      <td>东北风</td>\n      <td>1-2级</td>\n      <td>45</td>\n    </tr>\n    <tr>\n      <th>2018-02-24</th>\n      <td>3℃</td>\n      <td>-6</td>\n      <td>多云~晴</td>\n      <td>南风</td>\n      <td>1-2级</td>\n      <td>66</td>\n    </tr>\n    <tr>\n      <th>2018-02-25</th>\n      <td>6℃</td>\n      <td>-4</td>\n      <td>多云</td>\n      <td>西南风</td>\n      <td>1-2级</td>\n      <td>73</td>\n    </tr>\n    <tr>\n      <th>2018-02-26</th>\n      <td>12℃</td>\n      <td>-1</td>\n      <td>晴~多云</td>\n      <td>西南风</td>\n      <td>1-2级</td>\n      <td>157</td>\n    </tr>\n    <tr>\n      <th>2018-02-27</th>\n      <td>7℃</td>\n      <td>0</td>\n      <td>阴</td>\n      <td>东风</td>\n      <td>1-2级</td>\n      <td>220</td>\n    </tr>\n    <tr>\n      <th>2018-02-28</th>\n      <td>9℃</td>\n      <td>-2</td>\n      <td>多云~晴</td>\n      <td>西南风</td>\n      <td>3-4级</td>\n      <td>139</td>\n    </tr>\n    <tr>\n      <th>2018-03-01</th>\n      <td>8℃</td>\n      <td>-3</td>\n      <td>多云</td>\n      <td>西南风</td>\n      <td>1-2级</td>\n      <td>46</td>\n    </tr>\n  </tbody>\n</table>\n</div>"
     },
     "metadata": {},
     "execution_count": 63
    }
   ],
   "source": [
    "# 切片查询\n",
    "tq.loc['2018-02-04':'2018-03-01','bWendu':'aqi']"
   ]
  },
  {
   "source": [
    "+ 根据条件表达式查询，bool列表的长度等于行数或者列数"
   ],
   "cell_type": "markdown",
   "metadata": {}
  },
  {
   "cell_type": "code",
   "execution_count": 70,
   "metadata": {},
   "outputs": [
    {
     "output_type": "execute_result",
     "data": {
      "text/plain": [
       "           bWendu  yWendu tianqi fengxiang fengli  aqi aqiInfo  aqiLevel  \\\n",
       "ymd                                                                        \n",
       "2018-01-23    -4℃     -12      晴       西北风   3-4级   31       优         1   \n",
       "2018-01-24    -4℃     -11      晴       西南风   1-2级   34       优         1   \n",
       "2018-01-25    -3℃     -11     多云       东北风   1-2级   27       优         1   \n",
       "2018-12-26    -2℃     -11   晴~多云       东北风     2级   26       优         1   \n",
       "2018-12-27    -5℃     -12   多云~晴       西北风     3级   48       优         1   \n",
       "2018-12-28    -3℃     -11      晴       西北风     3级   40       优         1   \n",
       "2018-12-29    -3℃     -12      晴       西北风     2级   29       优         1   \n",
       "2018-12-30    -2℃     -11   晴~多云       东北风     1级   31       优         1   \n",
       "\n",
       "            bWenduN  \n",
       "ymd                  \n",
       "2018-01-23       -4  \n",
       "2018-01-24       -4  \n",
       "2018-01-25       -3  \n",
       "2018-12-26       -2  \n",
       "2018-12-27       -5  \n",
       "2018-12-28       -3  \n",
       "2018-12-29       -3  \n",
       "2018-12-30       -2  "
      ],
      "text/html": "<div>\n<style scoped>\n    .dataframe tbody tr th:only-of-type {\n        vertical-align: middle;\n    }\n\n    .dataframe tbody tr th {\n        vertical-align: top;\n    }\n\n    .dataframe thead th {\n        text-align: right;\n    }\n</style>\n<table border=\"1\" class=\"dataframe\">\n  <thead>\n    <tr style=\"text-align: right;\">\n      <th></th>\n      <th>bWendu</th>\n      <th>yWendu</th>\n      <th>tianqi</th>\n      <th>fengxiang</th>\n      <th>fengli</th>\n      <th>aqi</th>\n      <th>aqiInfo</th>\n      <th>aqiLevel</th>\n      <th>bWenduN</th>\n    </tr>\n    <tr>\n      <th>ymd</th>\n      <th></th>\n      <th></th>\n      <th></th>\n      <th></th>\n      <th></th>\n      <th></th>\n      <th></th>\n      <th></th>\n      <th></th>\n    </tr>\n  </thead>\n  <tbody>\n    <tr>\n      <th>2018-01-23</th>\n      <td>-4℃</td>\n      <td>-12</td>\n      <td>晴</td>\n      <td>西北风</td>\n      <td>3-4级</td>\n      <td>31</td>\n      <td>优</td>\n      <td>1</td>\n      <td>-4</td>\n    </tr>\n    <tr>\n      <th>2018-01-24</th>\n      <td>-4℃</td>\n      <td>-11</td>\n      <td>晴</td>\n      <td>西南风</td>\n      <td>1-2级</td>\n      <td>34</td>\n      <td>优</td>\n      <td>1</td>\n      <td>-4</td>\n    </tr>\n    <tr>\n      <th>2018-01-25</th>\n      <td>-3℃</td>\n      <td>-11</td>\n      <td>多云</td>\n      <td>东北风</td>\n      <td>1-2级</td>\n      <td>27</td>\n      <td>优</td>\n      <td>1</td>\n      <td>-3</td>\n    </tr>\n    <tr>\n      <th>2018-12-26</th>\n      <td>-2℃</td>\n      <td>-11</td>\n      <td>晴~多云</td>\n      <td>东北风</td>\n      <td>2级</td>\n      <td>26</td>\n      <td>优</td>\n      <td>1</td>\n      <td>-2</td>\n    </tr>\n    <tr>\n      <th>2018-12-27</th>\n      <td>-5℃</td>\n      <td>-12</td>\n      <td>多云~晴</td>\n      <td>西北风</td>\n      <td>3级</td>\n      <td>48</td>\n      <td>优</td>\n      <td>1</td>\n      <td>-5</td>\n    </tr>\n    <tr>\n      <th>2018-12-28</th>\n      <td>-3℃</td>\n      <td>-11</td>\n      <td>晴</td>\n      <td>西北风</td>\n      <td>3级</td>\n      <td>40</td>\n      <td>优</td>\n      <td>1</td>\n      <td>-3</td>\n    </tr>\n    <tr>\n      <th>2018-12-29</th>\n      <td>-3℃</td>\n      <td>-12</td>\n      <td>晴</td>\n      <td>西北风</td>\n      <td>2级</td>\n      <td>29</td>\n      <td>优</td>\n      <td>1</td>\n      <td>-3</td>\n    </tr>\n    <tr>\n      <th>2018-12-30</th>\n      <td>-2℃</td>\n      <td>-11</td>\n      <td>晴~多云</td>\n      <td>东北风</td>\n      <td>1级</td>\n      <td>31</td>\n      <td>优</td>\n      <td>1</td>\n      <td>-2</td>\n    </tr>\n  </tbody>\n</table>\n</div>"
     },
     "metadata": {},
     "execution_count": 70
    }
   ],
   "source": [
    "tq.loc[tq['aqi'] < 20]"
   ]
  },
  {
   "source": [
    "+ 使用函数查询"
   ],
   "cell_type": "markdown",
   "metadata": {}
  },
  {
   "cell_type": "code",
   "execution_count": 76,
   "metadata": {},
   "outputs": [
    {
     "output_type": "execute_result",
     "data": {
      "text/plain": [
       "           bWendu  yWendu tianqi fengxiang fengli  aqi\n",
       "ymd                                                   \n",
       "2018-01-01     3℃      -6   晴~多云       东北风   1-2级   59\n",
       "2018-01-02     2℃      -5   阴~多云       东北风   1-2级   49\n",
       "2018-01-03     2℃      -5     多云        北风   1-2级   28\n",
       "2018-01-04     0℃      -8      阴       东北风   1-2级   28\n",
       "2018-01-05     3℃      -6   多云~晴       西北风   1-2级   50\n",
       "...           ...     ...    ...       ...    ...  ...\n",
       "2018-12-21    10℃      -2   晴~多云       西北风     1级   98\n",
       "2018-12-22     8℃      -6     多云       西北风     2级  106\n",
       "2018-12-23     1℃      -9      晴       西北风     3级  106\n",
       "2018-12-24     2℃      -8      晴       西南风     1级  106\n",
       "2018-12-25     2℃      -9      晴       东北风     2级   94\n",
       "\n",
       "[257 rows x 6 columns]"
      ],
      "text/html": "<div>\n<style scoped>\n    .dataframe tbody tr th:only-of-type {\n        vertical-align: middle;\n    }\n\n    .dataframe tbody tr th {\n        vertical-align: top;\n    }\n\n    .dataframe thead th {\n        text-align: right;\n    }\n</style>\n<table border=\"1\" class=\"dataframe\">\n  <thead>\n    <tr style=\"text-align: right;\">\n      <th></th>\n      <th>bWendu</th>\n      <th>yWendu</th>\n      <th>tianqi</th>\n      <th>fengxiang</th>\n      <th>fengli</th>\n      <th>aqi</th>\n    </tr>\n    <tr>\n      <th>ymd</th>\n      <th></th>\n      <th></th>\n      <th></th>\n      <th></th>\n      <th></th>\n      <th></th>\n    </tr>\n  </thead>\n  <tbody>\n    <tr>\n      <th>2018-01-01</th>\n      <td>3℃</td>\n      <td>-6</td>\n      <td>晴~多云</td>\n      <td>东北风</td>\n      <td>1-2级</td>\n      <td>59</td>\n    </tr>\n    <tr>\n      <th>2018-01-02</th>\n      <td>2℃</td>\n      <td>-5</td>\n      <td>阴~多云</td>\n      <td>东北风</td>\n      <td>1-2级</td>\n      <td>49</td>\n    </tr>\n    <tr>\n      <th>2018-01-03</th>\n      <td>2℃</td>\n      <td>-5</td>\n      <td>多云</td>\n      <td>北风</td>\n      <td>1-2级</td>\n      <td>28</td>\n    </tr>\n    <tr>\n      <th>2018-01-04</th>\n      <td>0℃</td>\n      <td>-8</td>\n      <td>阴</td>\n      <td>东北风</td>\n      <td>1-2级</td>\n      <td>28</td>\n    </tr>\n    <tr>\n      <th>2018-01-05</th>\n      <td>3℃</td>\n      <td>-6</td>\n      <td>多云~晴</td>\n      <td>西北风</td>\n      <td>1-2级</td>\n      <td>50</td>\n    </tr>\n    <tr>\n      <th>...</th>\n      <td>...</td>\n      <td>...</td>\n      <td>...</td>\n      <td>...</td>\n      <td>...</td>\n      <td>...</td>\n    </tr>\n    <tr>\n      <th>2018-12-21</th>\n      <td>10℃</td>\n      <td>-2</td>\n      <td>晴~多云</td>\n      <td>西北风</td>\n      <td>1级</td>\n      <td>98</td>\n    </tr>\n    <tr>\n      <th>2018-12-22</th>\n      <td>8℃</td>\n      <td>-6</td>\n      <td>多云</td>\n      <td>西北风</td>\n      <td>2级</td>\n      <td>106</td>\n    </tr>\n    <tr>\n      <th>2018-12-23</th>\n      <td>1℃</td>\n      <td>-9</td>\n      <td>晴</td>\n      <td>西北风</td>\n      <td>3级</td>\n      <td>106</td>\n    </tr>\n    <tr>\n      <th>2018-12-24</th>\n      <td>2℃</td>\n      <td>-8</td>\n      <td>晴</td>\n      <td>西南风</td>\n      <td>1级</td>\n      <td>106</td>\n    </tr>\n    <tr>\n      <th>2018-12-25</th>\n      <td>2℃</td>\n      <td>-9</td>\n      <td>晴</td>\n      <td>东北风</td>\n      <td>2级</td>\n      <td>94</td>\n    </tr>\n  </tbody>\n</table>\n<p>257 rows × 6 columns</p>\n</div>"
     },
     "metadata": {},
     "execution_count": 76
    }
   ],
   "source": [
    "tq.loc[lambda df: (df['aqi'] > 20) & (df['aqi'] < 30), 'bWendu':'aqi']"
   ]
  },
  {
   "cell_type": "code",
   "execution_count": 84,
   "metadata": {},
   "outputs": [
    {
     "output_type": "execute_result",
     "data": {
      "text/plain": [
       "           bWendu  yWendu tianqi fengxiang fengli  aqi aqiInfo  aqiLevel  \\\n",
       "ymd                                                                        \n",
       "2018-09-01    27℃      19   阴~小雨        南风   1-2级   50       优         1   \n",
       "2018-09-04    31℃      18      晴       西南风   3-4级   24       优         1   \n",
       "2018-09-05    31℃      19   晴~多云       西南风   3-4级   34       优         1   \n",
       "2018-09-06    27℃      18   多云~晴       西北风   4-5级   37       优         1   \n",
       "2018-09-07    27℃      16      晴       西北风   3-4级   22       优         1   \n",
       "2018-09-08    27℃      15   多云~晴        北风   1-2级   28       优         1   \n",
       "2018-09-15    26℃      15     多云        北风   3-4级   42       优         1   \n",
       "2018-09-16    25℃      14   多云~晴        北风   1-2级   29       优         1   \n",
       "2018-09-17    27℃      17   多云~阴        北风   1-2级   37       优         1   \n",
       "2018-09-18    25℃      17   阴~多云       西南风   1-2级   50       优         1   \n",
       "2018-09-21    25℃      14      晴       西北风   3-4级   50       优         1   \n",
       "2018-09-22    24℃      13      晴       西北风   3-4级   28       优         1   \n",
       "2018-09-23    23℃      12      晴       西北风   4-5级   28       优         1   \n",
       "2018-09-24    23℃      11      晴        北风   1-2级   28       优         1   \n",
       "2018-09-25    24℃      12   晴~多云        南风   1-2级   44       优         1   \n",
       "2018-09-29    22℃      11      晴        北风   3-4级   21       优         1   \n",
       "2018-09-30    19℃      13     多云       西北风   4-5级   22       优         1   \n",
       "\n",
       "            bWenduN  \n",
       "ymd                  \n",
       "2018-09-01       27  \n",
       "2018-09-04       31  \n",
       "2018-09-05       31  \n",
       "2018-09-06       27  \n",
       "2018-09-07       27  \n",
       "2018-09-08       27  \n",
       "2018-09-15       26  \n",
       "2018-09-16       25  \n",
       "2018-09-17       27  \n",
       "2018-09-18       25  \n",
       "2018-09-21       25  \n",
       "2018-09-22       24  \n",
       "2018-09-23       23  \n",
       "2018-09-24       23  \n",
       "2018-09-25       24  \n",
       "2018-09-29       22  \n",
       "2018-09-30       19  "
      ],
      "text/html": "<div>\n<style scoped>\n    .dataframe tbody tr th:only-of-type {\n        vertical-align: middle;\n    }\n\n    .dataframe tbody tr th {\n        vertical-align: top;\n    }\n\n    .dataframe thead th {\n        text-align: right;\n    }\n</style>\n<table border=\"1\" class=\"dataframe\">\n  <thead>\n    <tr style=\"text-align: right;\">\n      <th></th>\n      <th>bWendu</th>\n      <th>yWendu</th>\n      <th>tianqi</th>\n      <th>fengxiang</th>\n      <th>fengli</th>\n      <th>aqi</th>\n      <th>aqiInfo</th>\n      <th>aqiLevel</th>\n      <th>bWenduN</th>\n    </tr>\n    <tr>\n      <th>ymd</th>\n      <th></th>\n      <th></th>\n      <th></th>\n      <th></th>\n      <th></th>\n      <th></th>\n      <th></th>\n      <th></th>\n      <th></th>\n    </tr>\n  </thead>\n  <tbody>\n    <tr>\n      <th>2018-09-01</th>\n      <td>27℃</td>\n      <td>19</td>\n      <td>阴~小雨</td>\n      <td>南风</td>\n      <td>1-2级</td>\n      <td>50</td>\n      <td>优</td>\n      <td>1</td>\n      <td>27</td>\n    </tr>\n    <tr>\n      <th>2018-09-04</th>\n      <td>31℃</td>\n      <td>18</td>\n      <td>晴</td>\n      <td>西南风</td>\n      <td>3-4级</td>\n      <td>24</td>\n      <td>优</td>\n      <td>1</td>\n      <td>31</td>\n    </tr>\n    <tr>\n      <th>2018-09-05</th>\n      <td>31℃</td>\n      <td>19</td>\n      <td>晴~多云</td>\n      <td>西南风</td>\n      <td>3-4级</td>\n      <td>34</td>\n      <td>优</td>\n      <td>1</td>\n      <td>31</td>\n    </tr>\n    <tr>\n      <th>2018-09-06</th>\n      <td>27℃</td>\n      <td>18</td>\n      <td>多云~晴</td>\n      <td>西北风</td>\n      <td>4-5级</td>\n      <td>37</td>\n      <td>优</td>\n      <td>1</td>\n      <td>27</td>\n    </tr>\n    <tr>\n      <th>2018-09-07</th>\n      <td>27℃</td>\n      <td>16</td>\n      <td>晴</td>\n      <td>西北风</td>\n      <td>3-4级</td>\n      <td>22</td>\n      <td>优</td>\n      <td>1</td>\n      <td>27</td>\n    </tr>\n    <tr>\n      <th>2018-09-08</th>\n      <td>27℃</td>\n      <td>15</td>\n      <td>多云~晴</td>\n      <td>北风</td>\n      <td>1-2级</td>\n      <td>28</td>\n      <td>优</td>\n      <td>1</td>\n      <td>27</td>\n    </tr>\n    <tr>\n      <th>2018-09-15</th>\n      <td>26℃</td>\n      <td>15</td>\n      <td>多云</td>\n      <td>北风</td>\n      <td>3-4级</td>\n      <td>42</td>\n      <td>优</td>\n      <td>1</td>\n      <td>26</td>\n    </tr>\n    <tr>\n      <th>2018-09-16</th>\n      <td>25℃</td>\n      <td>14</td>\n      <td>多云~晴</td>\n      <td>北风</td>\n      <td>1-2级</td>\n      <td>29</td>\n      <td>优</td>\n      <td>1</td>\n      <td>25</td>\n    </tr>\n    <tr>\n      <th>2018-09-17</th>\n      <td>27℃</td>\n      <td>17</td>\n      <td>多云~阴</td>\n      <td>北风</td>\n      <td>1-2级</td>\n      <td>37</td>\n      <td>优</td>\n      <td>1</td>\n      <td>27</td>\n    </tr>\n    <tr>\n      <th>2018-09-18</th>\n      <td>25℃</td>\n      <td>17</td>\n      <td>阴~多云</td>\n      <td>西南风</td>\n      <td>1-2级</td>\n      <td>50</td>\n      <td>优</td>\n      <td>1</td>\n      <td>25</td>\n    </tr>\n    <tr>\n      <th>2018-09-21</th>\n      <td>25℃</td>\n      <td>14</td>\n      <td>晴</td>\n      <td>西北风</td>\n      <td>3-4级</td>\n      <td>50</td>\n      <td>优</td>\n      <td>1</td>\n      <td>25</td>\n    </tr>\n    <tr>\n      <th>2018-09-22</th>\n      <td>24℃</td>\n      <td>13</td>\n      <td>晴</td>\n      <td>西北风</td>\n      <td>3-4级</td>\n      <td>28</td>\n      <td>优</td>\n      <td>1</td>\n      <td>24</td>\n    </tr>\n    <tr>\n      <th>2018-09-23</th>\n      <td>23℃</td>\n      <td>12</td>\n      <td>晴</td>\n      <td>西北风</td>\n      <td>4-5级</td>\n      <td>28</td>\n      <td>优</td>\n      <td>1</td>\n      <td>23</td>\n    </tr>\n    <tr>\n      <th>2018-09-24</th>\n      <td>23℃</td>\n      <td>11</td>\n      <td>晴</td>\n      <td>北风</td>\n      <td>1-2级</td>\n      <td>28</td>\n      <td>优</td>\n      <td>1</td>\n      <td>23</td>\n    </tr>\n    <tr>\n      <th>2018-09-25</th>\n      <td>24℃</td>\n      <td>12</td>\n      <td>晴~多云</td>\n      <td>南风</td>\n      <td>1-2级</td>\n      <td>44</td>\n      <td>优</td>\n      <td>1</td>\n      <td>24</td>\n    </tr>\n    <tr>\n      <th>2018-09-29</th>\n      <td>22℃</td>\n      <td>11</td>\n      <td>晴</td>\n      <td>北风</td>\n      <td>3-4级</td>\n      <td>21</td>\n      <td>优</td>\n      <td>1</td>\n      <td>22</td>\n    </tr>\n    <tr>\n      <th>2018-09-30</th>\n      <td>19℃</td>\n      <td>13</td>\n      <td>多云</td>\n      <td>西北风</td>\n      <td>4-5级</td>\n      <td>22</td>\n      <td>优</td>\n      <td>1</td>\n      <td>19</td>\n    </tr>\n  </tbody>\n</table>\n</div>"
     },
     "metadata": {},
     "execution_count": 84
    }
   ],
   "source": [
    "# 编写自己查询的函数\n",
    "def dateFun(df):\n",
    "    return df.index.str.startswith('2018-09') & (df[\"aqiLevel\"]==1)\n",
    "\n",
    "tq.loc[dateFun,:] # 等同于tq.loc[dateFun]"
   ]
  },
  {
   "source": [
    "#### 数据查询总结\n",
    "+ loc方式的查询都是以df.loc\\[a,b\\]的形式扩展的.\n",
    "+ a代表的是行的条件约束，b代表的是列的条件约束，b如果没有约束，可以省略不写，适用于任意情况\n",
    "    + 当a和b为索引(列名)的时候，查询的是某一个值，比如df.loc\\['2018-09-30','aqi'\\]\n",
    "    + 条件约束为多个数据的时候，需要用\\[\\]包起来，比如df.loc\\[:,\\['aqi', 'tianqi'\\]\\]或者df.loc\\[\\['2018-09-23', '2018-09-30'\\],:\\]，这里最后的列如果没有约束，可以省略不写df.loc\\[\\['2018-09-23', '2018-0930'\\]\\]\n",
    "    + 当条件约束为区间的时候，可以直接写，比如df.loc\\['n':'n+3', 'aqi':'aqiLevel'\\]"
   ],
   "cell_type": "markdown",
   "metadata": {}
  },
  {
   "source": [
    "### 数据新增\n",
    "1. 直接赋值\n",
    "2. apply\n",
    "3. assign"
   ],
   "cell_type": "markdown",
   "metadata": {}
  },
  {
   "cell_type": "code",
   "execution_count": 1,
   "metadata": {},
   "outputs": [],
   "source": [
    "import pandas as pd\n",
    "tq = pd.read_csv(\"../datas/beijing_tianqi/beijing_tianqi_2018.csv\")\n",
    "tq.set_index('ymd',inplace=True)"
   ]
  },
  {
   "cell_type": "code",
   "execution_count": 2,
   "metadata": {},
   "outputs": [
    {
     "output_type": "execute_result",
     "data": {
      "text/plain": [
       "           bWendu  yWendu tianqi fengxiang fengli  aqi aqiInfo  aqiLevel  \\\n",
       "ymd                                                                        \n",
       "2018-01-01     3℃      -6   晴~多云       东北风   1-2级   59       良         2   \n",
       "2018-01-02     2℃      -5   阴~多云       东北风   1-2级   49       优         1   \n",
       "2018-01-03     2℃      -5     多云        北风   1-2级   28       优         1   \n",
       "2018-01-04     0℃      -8      阴       东北风   1-2级   28       优         1   \n",
       "2018-01-05     3℃      -6   多云~晴       西北风   1-2级   50       优         1   \n",
       "\n",
       "            bWenduN  diff  \n",
       "ymd                        \n",
       "2018-01-01        3     9  \n",
       "2018-01-02        2     7  \n",
       "2018-01-03        2     7  \n",
       "2018-01-04        0     8  \n",
       "2018-01-05        3     9  "
      ],
      "text/html": "<div>\n<style scoped>\n    .dataframe tbody tr th:only-of-type {\n        vertical-align: middle;\n    }\n\n    .dataframe tbody tr th {\n        vertical-align: top;\n    }\n\n    .dataframe thead th {\n        text-align: right;\n    }\n</style>\n<table border=\"1\" class=\"dataframe\">\n  <thead>\n    <tr style=\"text-align: right;\">\n      <th></th>\n      <th>bWendu</th>\n      <th>yWendu</th>\n      <th>tianqi</th>\n      <th>fengxiang</th>\n      <th>fengli</th>\n      <th>aqi</th>\n      <th>aqiInfo</th>\n      <th>aqiLevel</th>\n      <th>bWenduN</th>\n      <th>diff</th>\n    </tr>\n    <tr>\n      <th>ymd</th>\n      <th></th>\n      <th></th>\n      <th></th>\n      <th></th>\n      <th></th>\n      <th></th>\n      <th></th>\n      <th></th>\n      <th></th>\n      <th></th>\n    </tr>\n  </thead>\n  <tbody>\n    <tr>\n      <td>2018-01-01</td>\n      <td>3℃</td>\n      <td>-6</td>\n      <td>晴~多云</td>\n      <td>东北风</td>\n      <td>1-2级</td>\n      <td>59</td>\n      <td>良</td>\n      <td>2</td>\n      <td>3</td>\n      <td>9</td>\n    </tr>\n    <tr>\n      <td>2018-01-02</td>\n      <td>2℃</td>\n      <td>-5</td>\n      <td>阴~多云</td>\n      <td>东北风</td>\n      <td>1-2级</td>\n      <td>49</td>\n      <td>优</td>\n      <td>1</td>\n      <td>2</td>\n      <td>7</td>\n    </tr>\n    <tr>\n      <td>2018-01-03</td>\n      <td>2℃</td>\n      <td>-5</td>\n      <td>多云</td>\n      <td>北风</td>\n      <td>1-2级</td>\n      <td>28</td>\n      <td>优</td>\n      <td>1</td>\n      <td>2</td>\n      <td>7</td>\n    </tr>\n    <tr>\n      <td>2018-01-04</td>\n      <td>0℃</td>\n      <td>-8</td>\n      <td>阴</td>\n      <td>东北风</td>\n      <td>1-2级</td>\n      <td>28</td>\n      <td>优</td>\n      <td>1</td>\n      <td>0</td>\n      <td>8</td>\n    </tr>\n    <tr>\n      <td>2018-01-05</td>\n      <td>3℃</td>\n      <td>-6</td>\n      <td>多云~晴</td>\n      <td>西北风</td>\n      <td>1-2级</td>\n      <td>50</td>\n      <td>优</td>\n      <td>1</td>\n      <td>3</td>\n      <td>9</td>\n    </tr>\n  </tbody>\n</table>\n</div>"
     },
     "metadata": {},
     "execution_count": 2
    }
   ],
   "source": [
    "# 通过两种方式直接赋值\n",
    "tq['bWenduN'] = tq['bWendu'].str.replace('℃','').astype('int32')\n",
    "tq.loc[:,'yWendu'] = tq['yWendu'].str.replace('℃','').astype('int32')\n",
    "tq['diff'] = tq['bWenduN'] - tq['yWendu']\n",
    "tq.head()"
   ]
  },
  {
   "source": [
    "+ apply方法\n",
    "\n",
    "Apply a function along an axis of the DataFrame.\n",
    "\n",
    "Objects passed to the function are Series objects whose index is either the DataFrame’s index (axis=0) or the DataFrame’s columns (axis=1)\n",
    "\n",
    "在一个轴上应用函数，传给函数的参数是整行(axis = 0)或者整列(axis = 1)"
   ],
   "cell_type": "markdown",
   "metadata": {}
  },
  {
   "cell_type": "code",
   "execution_count": 3,
   "metadata": {
    "tags": []
   },
   "outputs": [
    {
     "output_type": "execute_result",
     "data": {
      "text/plain": [
       "           bWendu  yWendu tianqi fengxiang fengli  aqi aqiInfo  aqiLevel  \\\n",
       "ymd                                                                        \n",
       "2018-01-01     3℃      -6   晴~多云       东北风   1-2级   59       良         2   \n",
       "2018-01-02     2℃      -5   阴~多云       东北风   1-2级   49       优         1   \n",
       "2018-01-03     2℃      -5     多云        北风   1-2级   28       优         1   \n",
       "2018-01-04     0℃      -8      阴       东北风   1-2级   28       优         1   \n",
       "2018-01-05     3℃      -6   多云~晴       西北风   1-2级   50       优         1   \n",
       "\n",
       "            bWenduN  diff wenduType  \n",
       "ymd                                  \n",
       "2018-01-01        3     9    Normal  \n",
       "2018-01-02        2     7    Normal  \n",
       "2018-01-03        2     7    Normal  \n",
       "2018-01-04        0     8    Normal  \n",
       "2018-01-05        3     9    Normal  "
      ],
      "text/html": "<div>\n<style scoped>\n    .dataframe tbody tr th:only-of-type {\n        vertical-align: middle;\n    }\n\n    .dataframe tbody tr th {\n        vertical-align: top;\n    }\n\n    .dataframe thead th {\n        text-align: right;\n    }\n</style>\n<table border=\"1\" class=\"dataframe\">\n  <thead>\n    <tr style=\"text-align: right;\">\n      <th></th>\n      <th>bWendu</th>\n      <th>yWendu</th>\n      <th>tianqi</th>\n      <th>fengxiang</th>\n      <th>fengli</th>\n      <th>aqi</th>\n      <th>aqiInfo</th>\n      <th>aqiLevel</th>\n      <th>bWenduN</th>\n      <th>diff</th>\n      <th>wenduType</th>\n    </tr>\n    <tr>\n      <th>ymd</th>\n      <th></th>\n      <th></th>\n      <th></th>\n      <th></th>\n      <th></th>\n      <th></th>\n      <th></th>\n      <th></th>\n      <th></th>\n      <th></th>\n      <th></th>\n    </tr>\n  </thead>\n  <tbody>\n    <tr>\n      <td>2018-01-01</td>\n      <td>3℃</td>\n      <td>-6</td>\n      <td>晴~多云</td>\n      <td>东北风</td>\n      <td>1-2级</td>\n      <td>59</td>\n      <td>良</td>\n      <td>2</td>\n      <td>3</td>\n      <td>9</td>\n      <td>Normal</td>\n    </tr>\n    <tr>\n      <td>2018-01-02</td>\n      <td>2℃</td>\n      <td>-5</td>\n      <td>阴~多云</td>\n      <td>东北风</td>\n      <td>1-2级</td>\n      <td>49</td>\n      <td>优</td>\n      <td>1</td>\n      <td>2</td>\n      <td>7</td>\n      <td>Normal</td>\n    </tr>\n    <tr>\n      <td>2018-01-03</td>\n      <td>2℃</td>\n      <td>-5</td>\n      <td>多云</td>\n      <td>北风</td>\n      <td>1-2级</td>\n      <td>28</td>\n      <td>优</td>\n      <td>1</td>\n      <td>2</td>\n      <td>7</td>\n      <td>Normal</td>\n    </tr>\n    <tr>\n      <td>2018-01-04</td>\n      <td>0℃</td>\n      <td>-8</td>\n      <td>阴</td>\n      <td>东北风</td>\n      <td>1-2级</td>\n      <td>28</td>\n      <td>优</td>\n      <td>1</td>\n      <td>0</td>\n      <td>8</td>\n      <td>Normal</td>\n    </tr>\n    <tr>\n      <td>2018-01-05</td>\n      <td>3℃</td>\n      <td>-6</td>\n      <td>多云~晴</td>\n      <td>西北风</td>\n      <td>1-2级</td>\n      <td>50</td>\n      <td>优</td>\n      <td>1</td>\n      <td>3</td>\n      <td>9</td>\n      <td>Normal</td>\n    </tr>\n  </tbody>\n</table>\n</div>"
     },
     "metadata": {},
     "execution_count": 3
    }
   ],
   "source": [
    "def get_wd_type(x):\n",
    "    # print(x)\n",
    "    if x['bWenduN'] > 33:\n",
    "        return 'High'\n",
    "    elif x['yWendu'] < -10:\n",
    "        return 'Low'\n",
    "    else:\n",
    "        return 'Normal'\n",
    "tq['wenduType'] = tq.apply(get_wd_type, axis=1)\n",
    "tq.head()\n",
    "# 这里axis等于1的时候，print(x)输出的是每行的数据"
   ]
  },
  {
   "cell_type": "code",
   "execution_count": 8,
   "metadata": {},
   "outputs": [
    {
     "output_type": "execute_result",
     "data": {
      "text/plain": [
       "Normal    328\n",
       "High       29\n",
       "Low         8\n",
       "Name: wenduType, dtype: int64"
      ]
     },
     "metadata": {},
     "execution_count": 8
    }
   ],
   "source": [
    "tq.wenduType.value_counts()"
   ]
  },
  {
   "source": [
    "+ assign方法\n",
    "\n",
    "Assign new columns to a DataFrame.\n",
    "\n",
    "Returns a new object with all original columns in addition to new ones.\n",
    "\n",
    "assign方法不会改变原有DataFrame，会返回一个新的DataFrame\n"
   ],
   "cell_type": "markdown",
   "metadata": {}
  },
  {
   "cell_type": "code",
   "execution_count": 4,
   "metadata": {},
   "outputs": [
    {
     "output_type": "execute_result",
     "data": {
      "text/plain": [
       "           bWendu  yWendu tianqi fengxiang fengli  aqi aqiInfo  aqiLevel  \\\n",
       "ymd                                                                        \n",
       "2018-01-01     3℃      -6   晴~多云       东北风   1-2级   59       良         2   \n",
       "2018-01-02     2℃      -5   阴~多云       东北风   1-2级   49       优         1   \n",
       "2018-01-03     2℃      -5     多云        北风   1-2级   28       优         1   \n",
       "2018-01-04     0℃      -8      阴       东北风   1-2级   28       优         1   \n",
       "2018-01-05     3℃      -6   多云~晴       西北风   1-2级   50       优         1   \n",
       "...           ...     ...    ...       ...    ...  ...     ...       ...   \n",
       "2018-12-27    -5℃     -12   多云~晴       西北风     3级   48       优         1   \n",
       "2018-12-28    -3℃     -11      晴       西北风     3级   40       优         1   \n",
       "2018-12-29    -3℃     -12      晴       西北风     2级   29       优         1   \n",
       "2018-12-30    -2℃     -11   晴~多云       东北风     1级   31       优         1   \n",
       "2018-12-31    -2℃     -10     多云       东北风     1级   56       良         2   \n",
       "\n",
       "            bWenduN  diff wenduType  bhua  yhua  \n",
       "ymd                                              \n",
       "2018-01-01        3     9    Normal   130   121  \n",
       "2018-01-02        2     7    Normal   129   122  \n",
       "2018-01-03        2     7    Normal   129   122  \n",
       "2018-01-04        0     8    Normal   127   119  \n",
       "2018-01-05        3     9    Normal   130   121  \n",
       "...             ...   ...       ...   ...   ...  \n",
       "2018-12-27       -5     7       Low   122   115  \n",
       "2018-12-28       -3     8       Low   124   116  \n",
       "2018-12-29       -3     9       Low   124   115  \n",
       "2018-12-30       -2     9       Low   125   116  \n",
       "2018-12-31       -2     8    Normal   125   117  \n",
       "\n",
       "[365 rows x 13 columns]"
      ],
      "text/html": "<div>\n<style scoped>\n    .dataframe tbody tr th:only-of-type {\n        vertical-align: middle;\n    }\n\n    .dataframe tbody tr th {\n        vertical-align: top;\n    }\n\n    .dataframe thead th {\n        text-align: right;\n    }\n</style>\n<table border=\"1\" class=\"dataframe\">\n  <thead>\n    <tr style=\"text-align: right;\">\n      <th></th>\n      <th>bWendu</th>\n      <th>yWendu</th>\n      <th>tianqi</th>\n      <th>fengxiang</th>\n      <th>fengli</th>\n      <th>aqi</th>\n      <th>aqiInfo</th>\n      <th>aqiLevel</th>\n      <th>bWenduN</th>\n      <th>diff</th>\n      <th>wenduType</th>\n      <th>bhua</th>\n      <th>yhua</th>\n    </tr>\n    <tr>\n      <th>ymd</th>\n      <th></th>\n      <th></th>\n      <th></th>\n      <th></th>\n      <th></th>\n      <th></th>\n      <th></th>\n      <th></th>\n      <th></th>\n      <th></th>\n      <th></th>\n      <th></th>\n      <th></th>\n    </tr>\n  </thead>\n  <tbody>\n    <tr>\n      <td>2018-01-01</td>\n      <td>3℃</td>\n      <td>-6</td>\n      <td>晴~多云</td>\n      <td>东北风</td>\n      <td>1-2级</td>\n      <td>59</td>\n      <td>良</td>\n      <td>2</td>\n      <td>3</td>\n      <td>9</td>\n      <td>Normal</td>\n      <td>130</td>\n      <td>121</td>\n    </tr>\n    <tr>\n      <td>2018-01-02</td>\n      <td>2℃</td>\n      <td>-5</td>\n      <td>阴~多云</td>\n      <td>东北风</td>\n      <td>1-2级</td>\n      <td>49</td>\n      <td>优</td>\n      <td>1</td>\n      <td>2</td>\n      <td>7</td>\n      <td>Normal</td>\n      <td>129</td>\n      <td>122</td>\n    </tr>\n    <tr>\n      <td>2018-01-03</td>\n      <td>2℃</td>\n      <td>-5</td>\n      <td>多云</td>\n      <td>北风</td>\n      <td>1-2级</td>\n      <td>28</td>\n      <td>优</td>\n      <td>1</td>\n      <td>2</td>\n      <td>7</td>\n      <td>Normal</td>\n      <td>129</td>\n      <td>122</td>\n    </tr>\n    <tr>\n      <td>2018-01-04</td>\n      <td>0℃</td>\n      <td>-8</td>\n      <td>阴</td>\n      <td>东北风</td>\n      <td>1-2级</td>\n      <td>28</td>\n      <td>优</td>\n      <td>1</td>\n      <td>0</td>\n      <td>8</td>\n      <td>Normal</td>\n      <td>127</td>\n      <td>119</td>\n    </tr>\n    <tr>\n      <td>2018-01-05</td>\n      <td>3℃</td>\n      <td>-6</td>\n      <td>多云~晴</td>\n      <td>西北风</td>\n      <td>1-2级</td>\n      <td>50</td>\n      <td>优</td>\n      <td>1</td>\n      <td>3</td>\n      <td>9</td>\n      <td>Normal</td>\n      <td>130</td>\n      <td>121</td>\n    </tr>\n    <tr>\n      <td>...</td>\n      <td>...</td>\n      <td>...</td>\n      <td>...</td>\n      <td>...</td>\n      <td>...</td>\n      <td>...</td>\n      <td>...</td>\n      <td>...</td>\n      <td>...</td>\n      <td>...</td>\n      <td>...</td>\n      <td>...</td>\n      <td>...</td>\n    </tr>\n    <tr>\n      <td>2018-12-27</td>\n      <td>-5℃</td>\n      <td>-12</td>\n      <td>多云~晴</td>\n      <td>西北风</td>\n      <td>3级</td>\n      <td>48</td>\n      <td>优</td>\n      <td>1</td>\n      <td>-5</td>\n      <td>7</td>\n      <td>Low</td>\n      <td>122</td>\n      <td>115</td>\n    </tr>\n    <tr>\n      <td>2018-12-28</td>\n      <td>-3℃</td>\n      <td>-11</td>\n      <td>晴</td>\n      <td>西北风</td>\n      <td>3级</td>\n      <td>40</td>\n      <td>优</td>\n      <td>1</td>\n      <td>-3</td>\n      <td>8</td>\n      <td>Low</td>\n      <td>124</td>\n      <td>116</td>\n    </tr>\n    <tr>\n      <td>2018-12-29</td>\n      <td>-3℃</td>\n      <td>-12</td>\n      <td>晴</td>\n      <td>西北风</td>\n      <td>2级</td>\n      <td>29</td>\n      <td>优</td>\n      <td>1</td>\n      <td>-3</td>\n      <td>9</td>\n      <td>Low</td>\n      <td>124</td>\n      <td>115</td>\n    </tr>\n    <tr>\n      <td>2018-12-30</td>\n      <td>-2℃</td>\n      <td>-11</td>\n      <td>晴~多云</td>\n      <td>东北风</td>\n      <td>1级</td>\n      <td>31</td>\n      <td>优</td>\n      <td>1</td>\n      <td>-2</td>\n      <td>9</td>\n      <td>Low</td>\n      <td>125</td>\n      <td>116</td>\n    </tr>\n    <tr>\n      <td>2018-12-31</td>\n      <td>-2℃</td>\n      <td>-10</td>\n      <td>多云</td>\n      <td>东北风</td>\n      <td>1级</td>\n      <td>56</td>\n      <td>良</td>\n      <td>2</td>\n      <td>-2</td>\n      <td>8</td>\n      <td>Normal</td>\n      <td>125</td>\n      <td>117</td>\n    </tr>\n  </tbody>\n</table>\n<p>365 rows × 13 columns</p>\n</div>"
     },
     "metadata": {},
     "execution_count": 4
    }
   ],
   "source": [
    "tq.assign(\n",
    "    bhua = lambda x: (x['bWenduN'] + 127),\n",
    "    yhua = lambda x: (x['yWendu'] + 127)\n",
    ")"
   ]
  },
  {
   "cell_type": "code",
   "execution_count": 11,
   "metadata": {},
   "outputs": [
    {
     "output_type": "execute_result",
     "data": {
      "text/plain": [
       "Big      346\n",
       "Small     19\n",
       "Name: wenchaType, dtype: int64"
      ]
     },
     "metadata": {},
     "execution_count": 11
    }
   ],
   "source": [
    "# 条件赋值\n",
    "# tq['wenchaType'] = ''\n",
    "tq.loc[tq['diff'] > 5,'wenchaType'] = 'Big'\n",
    "tq.loc[tq['diff'] <= 5, 'wenchaType'] = 'Small'\n",
    "tq['wenchaType'].value_counts()"
   ]
  },
  {
   "cell_type": "code",
   "execution_count": null,
   "metadata": {},
   "outputs": [],
   "source": []
  }
 ]
}