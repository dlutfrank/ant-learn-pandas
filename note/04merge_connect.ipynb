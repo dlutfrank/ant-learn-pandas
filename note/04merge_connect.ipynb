{
 "metadata": {
  "language_info": {
   "codemirror_mode": {
    "name": "ipython",
    "version": 3
   },
   "file_extension": ".py",
   "mimetype": "text/x-python",
   "name": "python",
   "nbconvert_exporter": "python",
   "pygments_lexer": "ipython3",
   "version": 3
  },
  "orig_nbformat": 2
 },
 "nbformat": 4,
 "nbformat_minor": 2,
 "cells": [
  {
   "source": [
    "### 合并和拼接\n",
    "+ merge类似于sql语句里的join\n",
    "\n",
    "DataFrame.merge(right, how='inner', on=None, left_on=None, right_on=None, left_index=False, right_index=False, sort=False, suffixes='_x', '_y', copy=True, indicator=False, validate=None)\n",
    "\n",
    "how:'inner', 'left','right','outer'\n",
    "+ connect\n",
    "\n"
   ],
   "cell_type": "markdown",
   "metadata": {}
  }
 ]
}